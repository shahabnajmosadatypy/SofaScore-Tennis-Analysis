{
 "cells": [
  {
   "cell_type": "markdown",
   "id": "49002e18",
   "metadata": {},
   "source": [
    "# 12th Question"
   ]
  },
  {
   "cell_type": "markdown",
   "id": "c61d95cb",
   "metadata": {},
   "source": [
    "### What is the average number of games per set in men's matches compared to women's matches?"
   ]
  },
  {
   "cell_type": "markdown",
   "id": "5e28bc54",
   "metadata": {},
   "source": [
    "Installing needed packages"
   ]
  },
  {
   "cell_type": "code",
   "execution_count": 1,
   "id": "caccf76b",
   "metadata": {},
   "outputs": [
    {
     "name": "stdout",
     "output_type": "stream",
     "text": [
      "Requirement already satisfied: numpy in c:\\users\\shahab\\documents\\codes\\sofascore-tennis-analysis\\venv\\lib\\site-packages (2.3.1)\n",
      "Requirement already satisfied: pandas in c:\\users\\shahab\\documents\\codes\\sofascore-tennis-analysis\\venv\\lib\\site-packages (2.3.1)\n",
      "Requirement already satisfied: seaborn in c:\\users\\shahab\\documents\\codes\\sofascore-tennis-analysis\\venv\\lib\\site-packages (0.13.2)\n",
      "Requirement already satisfied: pyarrow in c:\\users\\shahab\\documents\\codes\\sofascore-tennis-analysis\\venv\\lib\\site-packages (20.0.0)\n",
      "Requirement already satisfied: python-dateutil>=2.8.2 in c:\\users\\shahab\\documents\\codes\\sofascore-tennis-analysis\\venv\\lib\\site-packages (from pandas) (2.9.0.post0)\n",
      "Requirement already satisfied: pytz>=2020.1 in c:\\users\\shahab\\documents\\codes\\sofascore-tennis-analysis\\venv\\lib\\site-packages (from pandas) (2025.2)\n",
      "Requirement already satisfied: tzdata>=2022.7 in c:\\users\\shahab\\documents\\codes\\sofascore-tennis-analysis\\venv\\lib\\site-packages (from pandas) (2025.2)\n",
      "Requirement already satisfied: matplotlib!=3.6.1,>=3.4 in c:\\users\\shahab\\documents\\codes\\sofascore-tennis-analysis\\venv\\lib\\site-packages (from seaborn) (3.10.3)\n",
      "Requirement already satisfied: contourpy>=1.0.1 in c:\\users\\shahab\\documents\\codes\\sofascore-tennis-analysis\\venv\\lib\\site-packages (from matplotlib!=3.6.1,>=3.4->seaborn) (1.3.2)\n",
      "Requirement already satisfied: cycler>=0.10 in c:\\users\\shahab\\documents\\codes\\sofascore-tennis-analysis\\venv\\lib\\site-packages (from matplotlib!=3.6.1,>=3.4->seaborn) (0.12.1)\n",
      "Requirement already satisfied: fonttools>=4.22.0 in c:\\users\\shahab\\documents\\codes\\sofascore-tennis-analysis\\venv\\lib\\site-packages (from matplotlib!=3.6.1,>=3.4->seaborn) (4.58.5)\n",
      "Requirement already satisfied: kiwisolver>=1.3.1 in c:\\users\\shahab\\documents\\codes\\sofascore-tennis-analysis\\venv\\lib\\site-packages (from matplotlib!=3.6.1,>=3.4->seaborn) (1.4.8)\n",
      "Requirement already satisfied: packaging>=20.0 in c:\\users\\shahab\\documents\\codes\\sofascore-tennis-analysis\\venv\\lib\\site-packages (from matplotlib!=3.6.1,>=3.4->seaborn) (25.0)\n",
      "Requirement already satisfied: pillow>=8 in c:\\users\\shahab\\documents\\codes\\sofascore-tennis-analysis\\venv\\lib\\site-packages (from matplotlib!=3.6.1,>=3.4->seaborn) (11.3.0)\n",
      "Requirement already satisfied: pyparsing>=2.3.1 in c:\\users\\shahab\\documents\\codes\\sofascore-tennis-analysis\\venv\\lib\\site-packages (from matplotlib!=3.6.1,>=3.4->seaborn) (3.2.3)\n",
      "Requirement already satisfied: six>=1.5 in c:\\users\\shahab\\documents\\codes\\sofascore-tennis-analysis\\venv\\lib\\site-packages (from python-dateutil>=2.8.2->pandas) (1.17.0)\n",
      "Note: you may need to restart the kernel to use updated packages.\n"
     ]
    }
   ],
   "source": [
    "%pip install numpy pandas seaborn pyarrow"
   ]
  },
  {
   "cell_type": "markdown",
   "id": "83e3e8f1",
   "metadata": {},
   "source": [
    "Importing needed packages"
   ]
  },
  {
   "cell_type": "code",
   "execution_count": 2,
   "id": "43f2deb5",
   "metadata": {},
   "outputs": [],
   "source": [
    "import pandas as pd\n",
    "import seaborn as sns\n",
    "import matplotlib.pyplot as plt\n",
    "from glob import glob\n",
    "import os"
   ]
  },
  {
   "cell_type": "markdown",
   "id": "090a8f2e",
   "metadata": {},
   "source": [
    "# Reading .parquet data\n",
    "According to question and ERD in /data/ERD folder as Tennis Schema.pdf , We are analyzing and Reading data of matchs\n",
    "It might take few seconds to read data"
   ]
  },
  {
   "cell_type": "code",
   "execution_count": 3,
   "id": "02c0d152",
   "metadata": {},
   "outputs": [],
   "source": [
    "days_to_query = os.listdir(\"../data/raw/tennis_data\")\n",
    "files_to_load = []\n",
    "\n",
    "for day in days_to_query:\n",
    "    files_to_load.extend(\n",
    "        glob(\n",
    "            f\"../data/raw/tennis_data/{day}/data/raw/raw_tennis_power*/power*.parquet\"\n",
    "        )\n",
    "    )\n",
    "\n",
    "tennis_statistics_data_frame = pd.concat(\n",
    "    [\n",
    "        pd.read_parquet(\n",
    "            file,\n",
    "            columns=[\n",
    "                \"match_id\",\n",
    "                \"set_num\",\n",
    "                \"game_num\"\n",
    "            ],\n",
    "        )\n",
    "        for file in files_to_load\n",
    "    ],\n",
    "    ignore_index=True,\n",
    ")"
   ]
  },
  {
   "cell_type": "markdown",
   "id": "b3601ed6",
   "metadata": {},
   "source": [
    "Reading data of home matches required information :"
   ]
  },
  {
   "cell_type": "code",
   "execution_count": 5,
   "id": "44ff2cf1",
   "metadata": {},
   "outputs": [],
   "source": [
    "days_to_query_home = os.listdir(\"../data/raw/tennis_data\")\n",
    "files_to_load_home = []\n",
    "\n",
    "for day in days_to_query_home:\n",
    "    files_to_load_home.extend(\n",
    "        glob(f\"../data/raw/tennis_data/{day}/data/raw/raw_match*/home_team_1*.parquet\")\n",
    "    )\n",
    "\n",
    "home_statistics_data_frame = pd.concat(\n",
    "    [\n",
    "        pd.read_parquet(\n",
    "            file,\n",
    "            columns=[\"match_id\", \"name\", \"gender\"],\n",
    "        )\n",
    "        for file in files_to_load_home\n",
    "    ],\n",
    "    ignore_index=True,\n",
    ")"
   ]
  },
  {
   "cell_type": "markdown",
   "id": "c7a3f385",
   "metadata": {},
   "source": [
    "Reading data of away matches required information :"
   ]
  },
  {
   "cell_type": "code",
   "execution_count": 6,
   "id": "aaa26607",
   "metadata": {},
   "outputs": [],
   "source": [
    "days_to_query_away = os.listdir(\"../data/raw/tennis_data\")\n",
    "files_to_load_away = []\n",
    "\n",
    "for day in days_to_query_away:\n",
    "    files_to_load_away.extend(\n",
    "        glob(f\"../data/raw/tennis_data/{day}/data/raw/raw_match*/away_team_1*.parquet\")\n",
    "    )\n",
    "\n",
    "away_statistics_data_frame = pd.concat(\n",
    "    [\n",
    "        pd.read_parquet(\n",
    "            file,\n",
    "            columns=[\"match_id\", \"name\", \"gender\"],\n",
    "        )\n",
    "        for file in files_to_load_away\n",
    "    ],\n",
    "    ignore_index=True,\n",
    ")"
   ]
  },
  {
   "cell_type": "code",
   "execution_count": null,
   "id": "026b61e9",
   "metadata": {},
   "outputs": [
    {
     "data": {
      "application/vnd.microsoft.datawrangler.viewer.v0+json": {
       "columns": [
        {
         "name": "index",
         "rawType": "int64",
         "type": "integer"
        },
        {
         "name": "match_id",
         "rawType": "int64",
         "type": "integer"
        },
        {
         "name": "set_num",
         "rawType": "int64",
         "type": "integer"
        },
        {
         "name": "game_num",
         "rawType": "int64",
         "type": "integer"
        }
       ],
       "ref": "06205ffe-d59e-40e6-8c97-6a7cb86f5de3",
       "rows": [
        [
         "0",
         "11998445",
         "1",
         "1"
        ],
        [
         "1",
         "11998445",
         "1",
         "2"
        ],
        [
         "2",
         "11998445",
         "1",
         "3"
        ],
        [
         "3",
         "11998445",
         "1",
         "4"
        ],
        [
         "4",
         "11998445",
         "1",
         "5"
        ],
        [
         "5",
         "11998445",
         "1",
         "6"
        ],
        [
         "6",
         "11998445",
         "1",
         "7"
        ],
        [
         "7",
         "11998445",
         "1",
         "8"
        ],
        [
         "8",
         "11998445",
         "1",
         "9"
        ],
        [
         "9",
         "11998445",
         "1",
         "10"
        ],
        [
         "10",
         "11998445",
         "1",
         "11"
        ],
        [
         "11",
         "11998445",
         "1",
         "12"
        ],
        [
         "12",
         "11998445",
         "2",
         "1"
        ],
        [
         "13",
         "11998445",
         "2",
         "2"
        ],
        [
         "14",
         "11998445",
         "2",
         "3"
        ],
        [
         "15",
         "11998445",
         "2",
         "4"
        ],
        [
         "16",
         "11998445",
         "2",
         "5"
        ],
        [
         "17",
         "11998445",
         "2",
         "6"
        ],
        [
         "18",
         "11998445",
         "2",
         "7"
        ],
        [
         "19",
         "11998445",
         "2",
         "8"
        ],
        [
         "20",
         "11998445",
         "3",
         "1"
        ],
        [
         "21",
         "11998445",
         "3",
         "2"
        ],
        [
         "22",
         "11998445",
         "3",
         "3"
        ],
        [
         "23",
         "11998445",
         "3",
         "4"
        ],
        [
         "24",
         "11998445",
         "3",
         "5"
        ],
        [
         "25",
         "11998445",
         "3",
         "6"
        ],
        [
         "26",
         "11998445",
         "3",
         "7"
        ],
        [
         "27",
         "11998445",
         "3",
         "8"
        ],
        [
         "28",
         "11998445",
         "3",
         "9"
        ],
        [
         "29",
         "11998445",
         "3",
         "10"
        ],
        [
         "30",
         "11998445",
         "3",
         "11"
        ],
        [
         "31",
         "11998445",
         "3",
         "12"
        ],
        [
         "32",
         "11998445",
         "3",
         "13"
        ],
        [
         "33",
         "11998446",
         "1",
         "1"
        ],
        [
         "34",
         "11998446",
         "1",
         "2"
        ],
        [
         "35",
         "11998446",
         "1",
         "3"
        ],
        [
         "36",
         "11998446",
         "1",
         "4"
        ],
        [
         "37",
         "11998446",
         "1",
         "5"
        ],
        [
         "38",
         "11998446",
         "1",
         "6"
        ],
        [
         "39",
         "11998446",
         "1",
         "7"
        ],
        [
         "40",
         "11998446",
         "1",
         "8"
        ],
        [
         "41",
         "11998446",
         "1",
         "9"
        ],
        [
         "42",
         "11998446",
         "1",
         "10"
        ],
        [
         "43",
         "11998446",
         "2",
         "1"
        ],
        [
         "44",
         "11998446",
         "2",
         "2"
        ],
        [
         "45",
         "11998446",
         "2",
         "3"
        ],
        [
         "46",
         "11998446",
         "2",
         "4"
        ],
        [
         "47",
         "11998446",
         "2",
         "5"
        ],
        [
         "48",
         "11998446",
         "2",
         "6"
        ],
        [
         "49",
         "11998446",
         "2",
         "7"
        ]
       ],
       "shape": {
        "columns": 3,
        "rows": 469677
       }
      },
      "text/html": [
       "<div>\n",
       "<style scoped>\n",
       "    .dataframe tbody tr th:only-of-type {\n",
       "        vertical-align: middle;\n",
       "    }\n",
       "\n",
       "    .dataframe tbody tr th {\n",
       "        vertical-align: top;\n",
       "    }\n",
       "\n",
       "    .dataframe thead th {\n",
       "        text-align: right;\n",
       "    }\n",
       "</style>\n",
       "<table border=\"1\" class=\"dataframe\">\n",
       "  <thead>\n",
       "    <tr style=\"text-align: right;\">\n",
       "      <th></th>\n",
       "      <th>match_id</th>\n",
       "      <th>set_num</th>\n",
       "      <th>game_num</th>\n",
       "    </tr>\n",
       "  </thead>\n",
       "  <tbody>\n",
       "    <tr>\n",
       "      <th>0</th>\n",
       "      <td>11998445</td>\n",
       "      <td>1</td>\n",
       "      <td>1</td>\n",
       "    </tr>\n",
       "    <tr>\n",
       "      <th>1</th>\n",
       "      <td>11998445</td>\n",
       "      <td>1</td>\n",
       "      <td>2</td>\n",
       "    </tr>\n",
       "    <tr>\n",
       "      <th>2</th>\n",
       "      <td>11998445</td>\n",
       "      <td>1</td>\n",
       "      <td>3</td>\n",
       "    </tr>\n",
       "    <tr>\n",
       "      <th>3</th>\n",
       "      <td>11998445</td>\n",
       "      <td>1</td>\n",
       "      <td>4</td>\n",
       "    </tr>\n",
       "    <tr>\n",
       "      <th>4</th>\n",
       "      <td>11998445</td>\n",
       "      <td>1</td>\n",
       "      <td>5</td>\n",
       "    </tr>\n",
       "    <tr>\n",
       "      <th>...</th>\n",
       "      <td>...</td>\n",
       "      <td>...</td>\n",
       "      <td>...</td>\n",
       "    </tr>\n",
       "    <tr>\n",
       "      <th>469672</th>\n",
       "      <td>12213803</td>\n",
       "      <td>2</td>\n",
       "      <td>3</td>\n",
       "    </tr>\n",
       "    <tr>\n",
       "      <th>469673</th>\n",
       "      <td>12213803</td>\n",
       "      <td>2</td>\n",
       "      <td>4</td>\n",
       "    </tr>\n",
       "    <tr>\n",
       "      <th>469674</th>\n",
       "      <td>12213803</td>\n",
       "      <td>2</td>\n",
       "      <td>5</td>\n",
       "    </tr>\n",
       "    <tr>\n",
       "      <th>469675</th>\n",
       "      <td>12213803</td>\n",
       "      <td>2</td>\n",
       "      <td>6</td>\n",
       "    </tr>\n",
       "    <tr>\n",
       "      <th>469676</th>\n",
       "      <td>12213803</td>\n",
       "      <td>2</td>\n",
       "      <td>7</td>\n",
       "    </tr>\n",
       "  </tbody>\n",
       "</table>\n",
       "<p>469677 rows × 3 columns</p>\n",
       "</div>"
      ],
      "text/plain": [
       "        match_id  set_num  game_num\n",
       "0       11998445        1         1\n",
       "1       11998445        1         2\n",
       "2       11998445        1         3\n",
       "3       11998445        1         4\n",
       "4       11998445        1         5\n",
       "...          ...      ...       ...\n",
       "469672  12213803        2         3\n",
       "469673  12213803        2         4\n",
       "469674  12213803        2         5\n",
       "469675  12213803        2         6\n",
       "469676  12213803        2         7\n",
       "\n",
       "[469677 rows x 3 columns]"
      ]
     },
     "execution_count": 7,
     "metadata": {},
     "output_type": "execute_result"
    }
   ],
   "source": [
    "summary = tennis_statistics_data_frame.groupby(['match_id', 'set_num', 'game_num']).agg({\n",
    "    'point_winner': 'count',        # total points in game\n",
    "    'server': lambda x: x.mode()[0],  # most common server\n",
    "    # add more columns as needed\n",
    "}).reset_index().rename(columns={'point_winner': 'num_points'})\n"
   ]
  },
  {
   "cell_type": "code",
   "execution_count": 8,
   "id": "5c8c4863",
   "metadata": {},
   "outputs": [
    {
     "data": {
      "application/vnd.microsoft.datawrangler.viewer.v0+json": {
       "columns": [
        {
         "name": "index",
         "rawType": "int64",
         "type": "integer"
        },
        {
         "name": "match_id",
         "rawType": "int64",
         "type": "integer"
        },
        {
         "name": "name",
         "rawType": "object",
         "type": "string"
        },
        {
         "name": "gender",
         "rawType": "object",
         "type": "unknown"
        }
       ],
       "ref": "2b480d71-8bff-4802-894f-95d854664cab",
       "rows": [
        [
         "0",
         "11998445",
         "Auger-Aliassime F.",
         "M"
        ],
        [
         "1",
         "11998446",
         "Cobolli F.",
         "M"
        ],
        [
         "2",
         "11998447",
         "Martínez P.",
         "M"
        ],
        [
         "3",
         "11998448",
         "Muller A.",
         "M"
        ],
        [
         "4",
         "11998449",
         "Mayot H.",
         "M"
        ],
        [
         "5",
         "11998450",
         "Bublik A.",
         "M"
        ],
        [
         "6",
         "11998451",
         "Barrere G.",
         "M"
        ],
        [
         "7",
         "11998456",
         "Bublik A.",
         "M"
        ],
        [
         "8",
         "11998459",
         "Llamas Ruiz P.",
         "M"
        ],
        [
         "9",
         "11998666",
         "Imai S.",
         "M"
        ],
        [
         "10",
         "11998667",
         "Polmans M.",
         "M"
        ],
        [
         "11",
         "11998670",
         "Bolt A.",
         "M"
        ],
        [
         "12",
         "11998671",
         "Sweeny D.",
         "M"
        ],
        [
         "13",
         "11998672",
         "Sekulic P.",
         "M"
        ],
        [
         "14",
         "11998674",
         "Jones H.",
         "M"
        ],
        [
         "15",
         "11998675",
         "Jasika O.",
         "M"
        ],
        [
         "16",
         "11998676",
         "Sweeny D.",
         "M"
        ],
        [
         "17",
         "11998772",
         "Krueger M.",
         "M"
        ],
        [
         "18",
         "11998774",
         "Maloney P.",
         "M"
        ],
        [
         "19",
         "11998780",
         "Kozlov S.",
         "M"
        ],
        [
         "20",
         "11998782",
         "Fanselow S.",
         "M"
        ],
        [
         "21",
         "11998783",
         "Kudla D.",
         "M"
        ],
        [
         "22",
         "11998784",
         "Trotter J.",
         "M"
        ],
        [
         "23",
         "11998785",
         "Kypson P.",
         "M"
        ],
        [
         "24",
         "11998786",
         "Brady P.",
         "M"
        ],
        [
         "25",
         "11999004",
         "Nakashima B.",
         "M"
        ],
        [
         "26",
         "11999005",
         "Otte O.",
         "M"
        ],
        [
         "27",
         "11999007",
         "Rehberg M.",
         "M"
        ],
        [
         "28",
         "11999009",
         "Lamasine T.",
         "M"
        ],
        [
         "29",
         "11999010",
         "Royer V.",
         "M"
        ],
        [
         "30",
         "11999011",
         "Marie J.",
         "M"
        ],
        [
         "31",
         "11999012",
         "Damm M.",
         "M"
        ],
        [
         "32",
         "11999013",
         "Molleker R.",
         "M"
        ],
        [
         "33",
         "11999014",
         "Damm M.",
         "M"
        ],
        [
         "34",
         "11999209",
         "Ugo Carabelli C.",
         "M"
        ],
        [
         "35",
         "11999210",
         "Feldbausch K.",
         "M"
        ],
        [
         "36",
         "11999211",
         "Mager G.",
         "M"
        ],
        [
         "37",
         "11999212",
         "Lavagno E.",
         "M"
        ],
        [
         "38",
         "11999213",
         "Torres J.",
         "M"
        ],
        [
         "39",
         "11999215",
         "Gill F.",
         "M"
        ],
        [
         "40",
         "11999219",
         "Weis A.",
         "M"
        ],
        [
         "41",
         "11999220",
         "Gakhov I.",
         "M"
        ],
        [
         "42",
         "12002040",
         "Zhu L.",
         "F"
        ],
        [
         "43",
         "12002041",
         "Bai Z.",
         "F"
        ],
        [
         "44",
         "12002042",
         "Maria T.",
         "F"
        ],
        [
         "45",
         "12002043",
         "Wang Y.",
         "F"
        ],
        [
         "46",
         "12002044",
         "Putintseva Y.",
         "F"
        ],
        [
         "47",
         "12002048",
         "Alexandrova E.",
         "F"
        ],
        [
         "48",
         "12002049",
         "Cocciaretto E.",
         "F"
        ],
        [
         "49",
         "12002050",
         "Vekić D.",
         "F"
        ]
       ],
       "shape": {
        "columns": 3,
        "rows": 24203
       }
      },
      "text/html": [
       "<div>\n",
       "<style scoped>\n",
       "    .dataframe tbody tr th:only-of-type {\n",
       "        vertical-align: middle;\n",
       "    }\n",
       "\n",
       "    .dataframe tbody tr th {\n",
       "        vertical-align: top;\n",
       "    }\n",
       "\n",
       "    .dataframe thead th {\n",
       "        text-align: right;\n",
       "    }\n",
       "</style>\n",
       "<table border=\"1\" class=\"dataframe\">\n",
       "  <thead>\n",
       "    <tr style=\"text-align: right;\">\n",
       "      <th></th>\n",
       "      <th>match_id</th>\n",
       "      <th>name</th>\n",
       "      <th>gender</th>\n",
       "    </tr>\n",
       "  </thead>\n",
       "  <tbody>\n",
       "    <tr>\n",
       "      <th>0</th>\n",
       "      <td>11998445</td>\n",
       "      <td>Auger-Aliassime F.</td>\n",
       "      <td>M</td>\n",
       "    </tr>\n",
       "    <tr>\n",
       "      <th>1</th>\n",
       "      <td>11998446</td>\n",
       "      <td>Cobolli F.</td>\n",
       "      <td>M</td>\n",
       "    </tr>\n",
       "    <tr>\n",
       "      <th>2</th>\n",
       "      <td>11998447</td>\n",
       "      <td>Martínez P.</td>\n",
       "      <td>M</td>\n",
       "    </tr>\n",
       "    <tr>\n",
       "      <th>3</th>\n",
       "      <td>11998448</td>\n",
       "      <td>Muller A.</td>\n",
       "      <td>M</td>\n",
       "    </tr>\n",
       "    <tr>\n",
       "      <th>4</th>\n",
       "      <td>11998449</td>\n",
       "      <td>Mayot H.</td>\n",
       "      <td>M</td>\n",
       "    </tr>\n",
       "    <tr>\n",
       "      <th>...</th>\n",
       "      <td>...</td>\n",
       "      <td>...</td>\n",
       "      <td>...</td>\n",
       "    </tr>\n",
       "    <tr>\n",
       "      <th>24198</th>\n",
       "      <td>12212216</td>\n",
       "      <td>Doria L.</td>\n",
       "      <td>M</td>\n",
       "    </tr>\n",
       "    <tr>\n",
       "      <th>24199</th>\n",
       "      <td>12213156</td>\n",
       "      <td>Soriano Barrera A.</td>\n",
       "      <td>M</td>\n",
       "    </tr>\n",
       "    <tr>\n",
       "      <th>24200</th>\n",
       "      <td>12213412</td>\n",
       "      <td>Taberner C.</td>\n",
       "      <td>M</td>\n",
       "    </tr>\n",
       "    <tr>\n",
       "      <th>24201</th>\n",
       "      <td>12213458</td>\n",
       "      <td>Simonsson F.</td>\n",
       "      <td>M</td>\n",
       "    </tr>\n",
       "    <tr>\n",
       "      <th>24202</th>\n",
       "      <td>12213459</td>\n",
       "      <td>Lumsden E.</td>\n",
       "      <td>M</td>\n",
       "    </tr>\n",
       "  </tbody>\n",
       "</table>\n",
       "<p>24203 rows × 3 columns</p>\n",
       "</div>"
      ],
      "text/plain": [
       "       match_id                name gender\n",
       "0      11998445  Auger-Aliassime F.      M\n",
       "1      11998446          Cobolli F.      M\n",
       "2      11998447         Martínez P.      M\n",
       "3      11998448           Muller A.      M\n",
       "4      11998449            Mayot H.      M\n",
       "...         ...                 ...    ...\n",
       "24198  12212216            Doria L.      M\n",
       "24199  12213156  Soriano Barrera A.      M\n",
       "24200  12213412         Taberner C.      M\n",
       "24201  12213458        Simonsson F.      M\n",
       "24202  12213459          Lumsden E.      M\n",
       "\n",
       "[24203 rows x 3 columns]"
      ]
     },
     "execution_count": 8,
     "metadata": {},
     "output_type": "execute_result"
    }
   ],
   "source": [
    "away_statistics_data_frame"
   ]
  },
  {
   "cell_type": "code",
   "execution_count": 9,
   "id": "8ac02d3f",
   "metadata": {},
   "outputs": [
    {
     "data": {
      "application/vnd.microsoft.datawrangler.viewer.v0+json": {
       "columns": [
        {
         "name": "index",
         "rawType": "int64",
         "type": "integer"
        },
        {
         "name": "match_id",
         "rawType": "int64",
         "type": "integer"
        },
        {
         "name": "name",
         "rawType": "object",
         "type": "string"
        },
        {
         "name": "gender",
         "rawType": "object",
         "type": "unknown"
        }
       ],
       "ref": "207171cb-4000-4914-a307-891872e8075f",
       "rows": [
        [
         "0",
         "11998445",
         "Cazaux A.",
         "M"
        ],
        [
         "1",
         "11998446",
         "Lestienne C.",
         "M"
        ],
        [
         "2",
         "11998447",
         "Ćorić B.",
         "M"
        ],
        [
         "3",
         "11998448",
         "Mmoh M.",
         "M"
        ],
        [
         "4",
         "11998449",
         "Paire B.",
         "M"
        ],
        [
         "5",
         "11998450",
         "Shapovalov D.",
         "M"
        ],
        [
         "6",
         "11998451",
         "Shevchenko A.",
         "M"
        ],
        [
         "7",
         "11998456",
         "Shevchenko A.",
         "M"
        ],
        [
         "8",
         "11998459",
         "Rune H.",
         "M"
        ],
        [
         "9",
         "11998666",
         "Saville L.",
         "M"
        ],
        [
         "10",
         "11998667",
         "Uchiyama Y.",
         "M"
        ],
        [
         "11",
         "11998670",
         "Moriya H.",
         "M"
        ],
        [
         "12",
         "11998671",
         "Jasika O.",
         "M"
        ],
        [
         "13",
         "11998672",
         "Imai S.",
         "M"
        ],
        [
         "14",
         "11998674",
         "Saville L.",
         "M"
        ],
        [
         "15",
         "11998675",
         "Hijikata R.",
         "M"
        ],
        [
         "16",
         "11998676",
         "Noguchi R.",
         "M"
        ],
        [
         "17",
         "11998772",
         "Vandecasteele Q.",
         "M"
        ],
        [
         "18",
         "11998774",
         "Duckworth J.",
         "M"
        ],
        [
         "19",
         "11998780",
         "Quinn E.",
         "M"
        ],
        [
         "20",
         "11998782",
         "Sandgren T.",
         "M"
        ],
        [
         "21",
         "11998783",
         "Rubin N.",
         "M"
        ],
        [
         "22",
         "11998784",
         "Kwiatkowski T.",
         "M"
        ],
        [
         "23",
         "11998785",
         "Cassone M.",
         "M"
        ],
        [
         "24",
         "11998786",
         "Nava E.",
         "M"
        ],
        [
         "25",
         "11999004",
         "Krajinović F.",
         "M"
        ],
        [
         "26",
         "11999005",
         "Naw H.",
         "M"
        ],
        [
         "27",
         "11999007",
         "Jorda Sanchis D.",
         "M"
        ],
        [
         "28",
         "11999009",
         "Kolář Z.",
         "M"
        ],
        [
         "29",
         "11999010",
         "Rodionov J.",
         "M"
        ],
        [
         "30",
         "11999011",
         "Travaglia S.",
         "M"
        ],
        [
         "31",
         "11999012",
         "Kukushkin M.",
         "M"
        ],
        [
         "32",
         "11999013",
         "Blockx A.",
         "M"
        ],
        [
         "33",
         "11999014",
         "Travaglia S.",
         "M"
        ],
        [
         "34",
         "11999209",
         "Alves M.",
         "M"
        ],
        [
         "35",
         "11999210",
         "Stodder T.",
         "M"
        ],
        [
         "36",
         "11999211",
         "Casanova H.",
         "M"
        ],
        [
         "37",
         "11999212",
         "Pucinelli de Almeida M.",
         "M"
        ],
        [
         "38",
         "11999213",
         "Coria F.",
         "M"
        ],
        [
         "39",
         "11999215",
         "Cecchinato M.",
         "M"
        ],
        [
         "40",
         "11999219",
         "Dutra da Silva D.",
         "M"
        ],
        [
         "41",
         "11999220",
         "Campana Lee G.",
         "M"
        ],
        [
         "42",
         "12002040",
         "Fruhvirtová L.",
         "F"
        ],
        [
         "43",
         "12002041",
         "Rodionova Ar.",
         "F"
        ],
        [
         "44",
         "12002042",
         "Volynets K.",
         "F"
        ],
        [
         "45",
         "12002043",
         "Schmiedlová A.",
         "F"
        ],
        [
         "46",
         "12002044",
         "Golubić V.",
         "F"
        ],
        [
         "47",
         "12002048",
         "Niemeier J.",
         "F"
        ],
        [
         "48",
         "12002049",
         "Potapova A.",
         "F"
        ],
        [
         "49",
         "12002050",
         "Yastremska D.",
         "F"
        ]
       ],
       "shape": {
        "columns": 3,
        "rows": 25610
       }
      },
      "text/html": [
       "<div>\n",
       "<style scoped>\n",
       "    .dataframe tbody tr th:only-of-type {\n",
       "        vertical-align: middle;\n",
       "    }\n",
       "\n",
       "    .dataframe tbody tr th {\n",
       "        vertical-align: top;\n",
       "    }\n",
       "\n",
       "    .dataframe thead th {\n",
       "        text-align: right;\n",
       "    }\n",
       "</style>\n",
       "<table border=\"1\" class=\"dataframe\">\n",
       "  <thead>\n",
       "    <tr style=\"text-align: right;\">\n",
       "      <th></th>\n",
       "      <th>match_id</th>\n",
       "      <th>name</th>\n",
       "      <th>gender</th>\n",
       "    </tr>\n",
       "  </thead>\n",
       "  <tbody>\n",
       "    <tr>\n",
       "      <th>0</th>\n",
       "      <td>11998445</td>\n",
       "      <td>Cazaux A.</td>\n",
       "      <td>M</td>\n",
       "    </tr>\n",
       "    <tr>\n",
       "      <th>1</th>\n",
       "      <td>11998446</td>\n",
       "      <td>Lestienne C.</td>\n",
       "      <td>M</td>\n",
       "    </tr>\n",
       "    <tr>\n",
       "      <th>2</th>\n",
       "      <td>11998447</td>\n",
       "      <td>Ćorić B.</td>\n",
       "      <td>M</td>\n",
       "    </tr>\n",
       "    <tr>\n",
       "      <th>3</th>\n",
       "      <td>11998448</td>\n",
       "      <td>Mmoh M.</td>\n",
       "      <td>M</td>\n",
       "    </tr>\n",
       "    <tr>\n",
       "      <th>4</th>\n",
       "      <td>11998449</td>\n",
       "      <td>Paire B.</td>\n",
       "      <td>M</td>\n",
       "    </tr>\n",
       "    <tr>\n",
       "      <th>...</th>\n",
       "      <td>...</td>\n",
       "      <td>...</td>\n",
       "      <td>...</td>\n",
       "    </tr>\n",
       "    <tr>\n",
       "      <th>25605</th>\n",
       "      <td>12213458</td>\n",
       "      <td>Gorokhov M.</td>\n",
       "      <td>M</td>\n",
       "    </tr>\n",
       "    <tr>\n",
       "      <th>25606</th>\n",
       "      <td>12213459</td>\n",
       "      <td>Zhu M.</td>\n",
       "      <td>M</td>\n",
       "    </tr>\n",
       "    <tr>\n",
       "      <th>25607</th>\n",
       "      <td>12213460</td>\n",
       "      <td>Ojakaar O.</td>\n",
       "      <td>M</td>\n",
       "    </tr>\n",
       "    <tr>\n",
       "      <th>25608</th>\n",
       "      <td>12213482</td>\n",
       "      <td>Baldovinetti G.</td>\n",
       "      <td>M</td>\n",
       "    </tr>\n",
       "    <tr>\n",
       "      <th>25609</th>\n",
       "      <td>12213484</td>\n",
       "      <td>Hornitschek N.</td>\n",
       "      <td>M</td>\n",
       "    </tr>\n",
       "  </tbody>\n",
       "</table>\n",
       "<p>25610 rows × 3 columns</p>\n",
       "</div>"
      ],
      "text/plain": [
       "       match_id             name gender\n",
       "0      11998445        Cazaux A.      M\n",
       "1      11998446     Lestienne C.      M\n",
       "2      11998447         Ćorić B.      M\n",
       "3      11998448          Mmoh M.      M\n",
       "4      11998449         Paire B.      M\n",
       "...         ...              ...    ...\n",
       "25605  12213458      Gorokhov M.      M\n",
       "25606  12213459           Zhu M.      M\n",
       "25607  12213460       Ojakaar O.      M\n",
       "25608  12213482  Baldovinetti G.      M\n",
       "25609  12213484   Hornitschek N.      M\n",
       "\n",
       "[25610 rows x 3 columns]"
      ]
     },
     "execution_count": 9,
     "metadata": {},
     "output_type": "execute_result"
    }
   ],
   "source": [
    "home_statistics_data_frame"
   ]
  },
  {
   "cell_type": "markdown",
   "id": "b042112f",
   "metadata": {},
   "source": [
    "Step 1: Merge home and away gender data into one match-level gender tag"
   ]
  },
  {
   "cell_type": "code",
   "execution_count": null,
   "id": "92f3f3ad",
   "metadata": {},
   "outputs": [],
   "source": [
    "home_gender = home_statistics_data_frame[['match_id', 'gender']].rename(columns={'gender': 'home_gender'})\n",
    "away_gender = away_statistics_data_frame[['match_id', 'gender']].rename(columns={'gender': 'away_gender'})"
   ]
  },
  {
   "cell_type": "markdown",
   "id": "cc765927",
   "metadata": {},
   "source": [
    "Merge into match_id -> gender frame"
   ]
  },
  {
   "cell_type": "code",
   "execution_count": 11,
   "id": "b06aa7a3",
   "metadata": {},
   "outputs": [],
   "source": [
    "match_gender = pd.merge(home_gender, away_gender, on='match_id')"
   ]
  },
  {
   "cell_type": "markdown",
   "id": "1c42f75b",
   "metadata": {},
   "source": [
    "Sanity check – drop mismatches"
   ]
  },
  {
   "cell_type": "code",
   "execution_count": 12,
   "id": "50e04b24",
   "metadata": {},
   "outputs": [],
   "source": [
    "match_gender = match_gender[match_gender['home_gender'] == match_gender['away_gender']]\n",
    "match_gender['gender'] = match_gender['home_gender']"
   ]
  },
  {
   "cell_type": "markdown",
   "id": "cd2a18b4",
   "metadata": {},
   "source": [
    "Step 2: Merge gender into tennis_statistics_data_frame"
   ]
  },
  {
   "cell_type": "code",
   "execution_count": 13,
   "id": "031df7a6",
   "metadata": {},
   "outputs": [],
   "source": [
    "stats_with_gender = pd.merge(tennis_statistics_data_frame, match_gender[['match_id', 'gender']], on='match_id', how='inner')"
   ]
  },
  {
   "cell_type": "markdown",
   "id": "a8e9e787",
   "metadata": {},
   "source": [
    "Step 3: Count number of games per set per match"
   ]
  },
  {
   "cell_type": "code",
   "execution_count": 14,
   "id": "37d29796",
   "metadata": {},
   "outputs": [],
   "source": [
    "game_counts = stats_with_gender.groupby(['match_id', 'set_num'])['game_num'].nunique().reset_index()\n",
    "game_counts = pd.merge(game_counts, match_gender[['match_id', 'gender']], on='match_id')"
   ]
  },
  {
   "cell_type": "markdown",
   "id": "94d3ffa0",
   "metadata": {},
   "source": [
    "Step 4: Average number of games per set by gender"
   ]
  },
  {
   "cell_type": "code",
   "execution_count": 15,
   "id": "4c83f4fa",
   "metadata": {},
   "outputs": [],
   "source": [
    "avg_games = game_counts.groupby('gender')['game_num'].mean().reset_index()\n",
    "avg_games.columns = ['Gender', 'Avg_Games_Per_Set']"
   ]
  },
  {
   "cell_type": "code",
   "execution_count": 18,
   "id": "86a07392",
   "metadata": {},
   "outputs": [
    {
     "data": {
      "application/vnd.microsoft.datawrangler.viewer.v0+json": {
       "columns": [
        {
         "name": "index",
         "rawType": "int64",
         "type": "integer"
        },
        {
         "name": "Gender",
         "rawType": "object",
         "type": "string"
        },
        {
         "name": "Avg_Games_Per_Set",
         "rawType": "float64",
         "type": "float"
        }
       ],
       "ref": "93636594-0632-4cab-8c4c-adbb26833609",
       "rows": [
        [
         "0",
         "F",
         "9.036081943586575"
        ],
        [
         "1",
         "M",
         "9.412262728573085"
        ]
       ],
       "shape": {
        "columns": 2,
        "rows": 2
       }
      },
      "text/html": [
       "<div>\n",
       "<style scoped>\n",
       "    .dataframe tbody tr th:only-of-type {\n",
       "        vertical-align: middle;\n",
       "    }\n",
       "\n",
       "    .dataframe tbody tr th {\n",
       "        vertical-align: top;\n",
       "    }\n",
       "\n",
       "    .dataframe thead th {\n",
       "        text-align: right;\n",
       "    }\n",
       "</style>\n",
       "<table border=\"1\" class=\"dataframe\">\n",
       "  <thead>\n",
       "    <tr style=\"text-align: right;\">\n",
       "      <th></th>\n",
       "      <th>Gender</th>\n",
       "      <th>Avg_Games_Per_Set</th>\n",
       "    </tr>\n",
       "  </thead>\n",
       "  <tbody>\n",
       "    <tr>\n",
       "      <th>0</th>\n",
       "      <td>F</td>\n",
       "      <td>9.036082</td>\n",
       "    </tr>\n",
       "    <tr>\n",
       "      <th>1</th>\n",
       "      <td>M</td>\n",
       "      <td>9.412263</td>\n",
       "    </tr>\n",
       "  </tbody>\n",
       "</table>\n",
       "</div>"
      ],
      "text/plain": [
       "  Gender  Avg_Games_Per_Set\n",
       "0      F           9.036082\n",
       "1      M           9.412263"
      ]
     },
     "execution_count": 18,
     "metadata": {},
     "output_type": "execute_result"
    }
   ],
   "source": [
    "avg_games.head()"
   ]
  },
  {
   "cell_type": "markdown",
   "id": "8c0b2de7",
   "metadata": {},
   "source": [
    "# Data Visualization"
   ]
  },
  {
   "cell_type": "code",
   "execution_count": 26,
   "id": "f4b320b5",
   "metadata": {},
   "outputs": [
    {
     "name": "stderr",
     "output_type": "stream",
     "text": [
      "C:\\Users\\Shahab\\AppData\\Local\\Temp\\ipykernel_11848\\1318357265.py:2: FutureWarning: \n",
      "\n",
      "Passing `palette` without assigning `hue` is deprecated and will be removed in v0.14.0. Assign the `x` variable to `hue` and set `legend=False` for the same effect.\n",
      "\n",
      "  sns.barplot(data=avg_games, x='Gender', y='Avg_Games_Per_Set', palette='pastel')\n"
     ]
    },
    {
     "data": {
      "image/png": "[encoded data removed]",
      "text/plain": [
       "<Figure size 600x400 with 1 Axes>"
      ]
     },
     "metadata": {},
     "output_type": "display_data"
    }
   ],
   "source": [
    "plt.figure(figsize=(6, 4))\n",
    "sns.barplot(data=avg_games, x='Gender', y='Avg_Games_Per_Set', palette='pastel')\n",
    "plt.title('Avg Games per Set: Men vs Women')\n",
    "plt.xlabel('Gender')\n",
    "plt.ylabel('Avg Games per Set')\n",
    "plt.ylim(0, avg_games['Avg_Games_Per_Set'].max() + 1)\n",
    "plt.tight_layout()\n",
    "plt.show()"
   ]
  }
 ],
 "metadata": {
  "kernelspec": {
   "display_name": "venv (3.12.10)",
   "language": "python",
   "name": "python3"
  },
  "language_info": {
   "codemirror_mode": {
    "name": "ipython",
    "version": 3
   },
   "file_extension": ".py",
   "mimetype": "text/x-python",
   "name": "python",
   "nbconvert_exporter": "python",
   "pygments_lexer": "ipython3",
   "version": "3.12.10"
  }
 },
 "nbformat": 4,
 "nbformat_minor": 5
}
