{
 "cells": [
  {
   "cell_type": "code",
   "execution_count": 3,
   "id": "d3231d3f",
   "metadata": {},
   "outputs": [],
   "source": [
    "import numpy as np, pandas as pd\n",
    "from glob import glob\n",
    "from fetch_data import fetch_data"
   ]
  },
  {
   "cell_type": "code",
   "execution_count": 4,
   "id": "d8fd0f09",
   "metadata": {},
   "outputs": [],
   "source": [
    "data_event = fetch_data(20240201,20240331,'event')"
   ]
  },
  {
   "cell_type": "code",
   "execution_count": 5,
   "id": "c2931160",
   "metadata": {},
   "outputs": [
    {
     "data": {
      "text/html": [
       "<div>\n",
       "<style scoped>\n",
       "    .dataframe tbody tr th:only-of-type {\n",
       "        vertical-align: middle;\n",
       "    }\n",
       "\n",
       "    .dataframe tbody tr th {\n",
       "        vertical-align: top;\n",
       "    }\n",
       "\n",
       "    .dataframe thead th {\n",
       "        text-align: right;\n",
       "    }\n",
       "</style>\n",
       "<table border=\"1\" class=\"dataframe\">\n",
       "  <thead>\n",
       "    <tr style=\"text-align: right;\">\n",
       "      <th></th>\n",
       "      <th>match_id</th>\n",
       "      <th>first_to_serve</th>\n",
       "      <th>home_team_seed</th>\n",
       "      <th>away_team_seed</th>\n",
       "      <th>custom_id</th>\n",
       "      <th>winner_code</th>\n",
       "      <th>default_period_count</th>\n",
       "      <th>start_datetime</th>\n",
       "      <th>match_slug</th>\n",
       "      <th>final_result_only</th>\n",
       "    </tr>\n",
       "  </thead>\n",
       "  <tbody>\n",
       "  </tbody>\n",
       "</table>\n",
       "</div>"
      ],
      "text/plain": [
       "Empty DataFrame\n",
       "Columns: [match_id, first_to_serve, home_team_seed, away_team_seed, custom_id, winner_code, default_period_count, start_datetime, match_slug, final_result_only]\n",
       "Index: []"
      ]
     },
     "execution_count": 5,
     "metadata": {},
     "output_type": "execute_result"
    }
   ],
   "source": [
    "data_event[(data_event[\"default_period_count\"] == 5)]\n"
   ]
  },
  {
   "cell_type": "code",
   "execution_count": null,
   "id": "00bad713",
   "metadata": {},
   "outputs": [],
   "source": [
    "# ==> there is no 5 set match\n",
    "# ==> all matchs have 3 set."
   ]
  },
  {
   "cell_type": "markdown",
   "id": "0b378803",
   "metadata": {},
   "source": [
    "<h1>calculate by time table</h1>"
   ]
  },
  {
   "cell_type": "code",
   "execution_count": 6,
   "id": "07b8323f",
   "metadata": {},
   "outputs": [],
   "source": [
    "data_time = fetch_data(20240201,20240331,'time') "
   ]
  },
  {
   "cell_type": "code",
   "execution_count": 7,
   "id": "3e7235b7",
   "metadata": {},
   "outputs": [],
   "source": [
    "unique_time_data = data_time.drop_duplicates(subset=[\"match_id\"])"
   ]
  },
  {
   "cell_type": "code",
   "execution_count": 8,
   "id": "805dff54",
   "metadata": {},
   "outputs": [],
   "source": [
    "correct_data = (unique_time_data [\"period_1\"].notna() & unique_time_data [\"period_2\"].notna()) \n",
    "unique_time_data  = unique_time_data [correct_data]"
   ]
  },
  {
   "cell_type": "code",
   "execution_count": 9,
   "id": "639e3672",
   "metadata": {},
   "outputs": [
    {
     "data": {
      "text/html": [
       "<div>\n",
       "<style scoped>\n",
       "    .dataframe tbody tr th:only-of-type {\n",
       "        vertical-align: middle;\n",
       "    }\n",
       "\n",
       "    .dataframe tbody tr th {\n",
       "        vertical-align: top;\n",
       "    }\n",
       "\n",
       "    .dataframe thead th {\n",
       "        text-align: right;\n",
       "    }\n",
       "</style>\n",
       "<table border=\"1\" class=\"dataframe\">\n",
       "  <thead>\n",
       "    <tr style=\"text-align: right;\">\n",
       "      <th></th>\n",
       "      <th>match_id</th>\n",
       "      <th>period_1</th>\n",
       "      <th>period_2</th>\n",
       "      <th>period_3</th>\n",
       "      <th>period_4</th>\n",
       "      <th>period_5</th>\n",
       "      <th>current_period_start_timestamp</th>\n",
       "    </tr>\n",
       "  </thead>\n",
       "  <tbody>\n",
       "    <tr>\n",
       "      <th>2</th>\n",
       "      <td>11998445</td>\n",
       "      <td>3259</td>\n",
       "      <td>2639</td>\n",
       "      <td>4202</td>\n",
       "      <td>None</td>\n",
       "      <td>None</td>\n",
       "      <td>1706816851</td>\n",
       "    </tr>\n",
       "    <tr>\n",
       "      <th>3</th>\n",
       "      <td>11998446</td>\n",
       "      <td>2488</td>\n",
       "      <td>2375</td>\n",
       "      <td>None</td>\n",
       "      <td>None</td>\n",
       "      <td>None</td>\n",
       "      <td>1706803981</td>\n",
       "    </tr>\n",
       "    <tr>\n",
       "      <th>4</th>\n",
       "      <td>11998447</td>\n",
       "      <td>3741</td>\n",
       "      <td>1913</td>\n",
       "      <td>None</td>\n",
       "      <td>None</td>\n",
       "      <td>None</td>\n",
       "      <td>1706798459</td>\n",
       "    </tr>\n",
       "    <tr>\n",
       "      <th>5</th>\n",
       "      <td>11998448</td>\n",
       "      <td>2639</td>\n",
       "      <td>3090</td>\n",
       "      <td>None</td>\n",
       "      <td>None</td>\n",
       "      <td>None</td>\n",
       "      <td>1706710960</td>\n",
       "    </tr>\n",
       "    <tr>\n",
       "      <th>6</th>\n",
       "      <td>11998449</td>\n",
       "      <td>1500</td>\n",
       "      <td>2708</td>\n",
       "      <td>None</td>\n",
       "      <td>None</td>\n",
       "      <td>None</td>\n",
       "      <td>1706727400</td>\n",
       "    </tr>\n",
       "    <tr>\n",
       "      <th>...</th>\n",
       "      <td>...</td>\n",
       "      <td>...</td>\n",
       "      <td>...</td>\n",
       "      <td>...</td>\n",
       "      <td>...</td>\n",
       "      <td>...</td>\n",
       "      <td>...</td>\n",
       "    </tr>\n",
       "    <tr>\n",
       "      <th>35666</th>\n",
       "      <td>12213482</td>\n",
       "      <td>5</td>\n",
       "      <td>138</td>\n",
       "      <td>None</td>\n",
       "      <td>None</td>\n",
       "      <td>None</td>\n",
       "      <td>1711985032</td>\n",
       "    </tr>\n",
       "    <tr>\n",
       "      <th>35667</th>\n",
       "      <td>12213483</td>\n",
       "      <td>3330</td>\n",
       "      <td>3574</td>\n",
       "      <td>None</td>\n",
       "      <td>None</td>\n",
       "      <td>None</td>\n",
       "      <td>1711982605</td>\n",
       "    </tr>\n",
       "    <tr>\n",
       "      <th>35668</th>\n",
       "      <td>12213484</td>\n",
       "      <td>3</td>\n",
       "      <td>5</td>\n",
       "      <td>None</td>\n",
       "      <td>None</td>\n",
       "      <td>None</td>\n",
       "      <td>1711984742</td>\n",
       "    </tr>\n",
       "    <tr>\n",
       "      <th>35669</th>\n",
       "      <td>12213486</td>\n",
       "      <td>1968</td>\n",
       "      <td>3697</td>\n",
       "      <td>None</td>\n",
       "      <td>None</td>\n",
       "      <td>None</td>\n",
       "      <td>1711980823</td>\n",
       "    </tr>\n",
       "    <tr>\n",
       "      <th>35670</th>\n",
       "      <td>12213803</td>\n",
       "      <td>3185</td>\n",
       "      <td>2588</td>\n",
       "      <td>None</td>\n",
       "      <td>None</td>\n",
       "      <td>None</td>\n",
       "      <td>1711982489</td>\n",
       "    </tr>\n",
       "  </tbody>\n",
       "</table>\n",
       "<p>10243 rows × 7 columns</p>\n",
       "</div>"
      ],
      "text/plain": [
       "       match_id period_1 period_2 period_3 period_4 period_5  \\\n",
       "2      11998445     3259     2639     4202     None     None   \n",
       "3      11998446     2488     2375     None     None     None   \n",
       "4      11998447     3741     1913     None     None     None   \n",
       "5      11998448     2639     3090     None     None     None   \n",
       "6      11998449     1500     2708     None     None     None   \n",
       "...         ...      ...      ...      ...      ...      ...   \n",
       "35666  12213482        5      138     None     None     None   \n",
       "35667  12213483     3330     3574     None     None     None   \n",
       "35668  12213484        3        5     None     None     None   \n",
       "35669  12213486     1968     3697     None     None     None   \n",
       "35670  12213803     3185     2588     None     None     None   \n",
       "\n",
       "      current_period_start_timestamp  \n",
       "2                         1706816851  \n",
       "3                         1706803981  \n",
       "4                         1706798459  \n",
       "5                         1706710960  \n",
       "6                         1706727400  \n",
       "...                              ...  \n",
       "35666                     1711985032  \n",
       "35667                     1711982605  \n",
       "35668                     1711984742  \n",
       "35669                     1711980823  \n",
       "35670                     1711982489  \n",
       "\n",
       "[10243 rows x 7 columns]"
      ]
     },
     "execution_count": 9,
     "metadata": {},
     "output_type": "execute_result"
    }
   ],
   "source": [
    "unique_time_data.to_csv(\"../data/external/5/time_set.csv\",index=False)\n",
    "\n",
    "unique_time_data"
   ]
  },
  {
   "cell_type": "code",
   "execution_count": 10,
   "id": "86b6dba6",
   "metadata": {},
   "outputs": [
    {
     "data": {
      "text/plain": [
       "69.41325783461878"
      ]
     },
     "execution_count": 10,
     "metadata": {},
     "output_type": "execute_result"
    }
   ],
   "source": [
    "numbers_stop_at_two = np.sum(unique_time_data[\"period_3\"].isna())\n",
    "\n",
    "total_number = len(unique_time_data)\n",
    "\n",
    "percentage_of_two_set_match = (numbers_stop_at_two/total_number)*100\n",
    "\n",
    "float(percentage_of_two_set_match)"
   ]
  },
  {
   "cell_type": "markdown",
   "id": "440c00cc",
   "metadata": {},
   "source": [
    "<h1>calculate by power table</h1>"
   ]
  },
  {
   "cell_type": "code",
   "execution_count": 11,
   "id": "e78bcee1",
   "metadata": {},
   "outputs": [],
   "source": [
    "data_power = fetch_data(20240201,20240331,'power')"
   ]
  },
  {
   "cell_type": "code",
   "execution_count": 12,
   "id": "256aa667",
   "metadata": {},
   "outputs": [],
   "source": [
    "unique_columns = [\"match_id\",\"set_num\"]\n",
    "unique_power_data = data_power.drop_duplicates(subset=unique_columns)"
   ]
  },
  {
   "cell_type": "code",
   "execution_count": 13,
   "id": "fa0e26ed",
   "metadata": {},
   "outputs": [
    {
     "data": {
      "text/html": [
       "<div>\n",
       "<style scoped>\n",
       "    .dataframe tbody tr th:only-of-type {\n",
       "        vertical-align: middle;\n",
       "    }\n",
       "\n",
       "    .dataframe tbody tr th {\n",
       "        vertical-align: top;\n",
       "    }\n",
       "\n",
       "    .dataframe thead th {\n",
       "        text-align: right;\n",
       "    }\n",
       "</style>\n",
       "<table border=\"1\" class=\"dataframe\">\n",
       "  <thead>\n",
       "    <tr style=\"text-align: right;\">\n",
       "      <th></th>\n",
       "      <th>match_id</th>\n",
       "      <th>set_num</th>\n",
       "    </tr>\n",
       "  </thead>\n",
       "  <tbody>\n",
       "    <tr>\n",
       "      <th>0</th>\n",
       "      <td>11998445</td>\n",
       "      <td>1</td>\n",
       "    </tr>\n",
       "    <tr>\n",
       "      <th>12</th>\n",
       "      <td>11998445</td>\n",
       "      <td>2</td>\n",
       "    </tr>\n",
       "    <tr>\n",
       "      <th>20</th>\n",
       "      <td>11998445</td>\n",
       "      <td>3</td>\n",
       "    </tr>\n",
       "    <tr>\n",
       "      <th>33</th>\n",
       "      <td>11998446</td>\n",
       "      <td>1</td>\n",
       "    </tr>\n",
       "    <tr>\n",
       "      <th>43</th>\n",
       "      <td>11998446</td>\n",
       "      <td>2</td>\n",
       "    </tr>\n",
       "    <tr>\n",
       "      <th>...</th>\n",
       "      <td>...</td>\n",
       "      <td>...</td>\n",
       "    </tr>\n",
       "    <tr>\n",
       "      <th>469634</th>\n",
       "      <td>12213484</td>\n",
       "      <td>2</td>\n",
       "    </tr>\n",
       "    <tr>\n",
       "      <th>469643</th>\n",
       "      <td>12213486</td>\n",
       "      <td>1</td>\n",
       "    </tr>\n",
       "    <tr>\n",
       "      <th>469651</th>\n",
       "      <td>12213486</td>\n",
       "      <td>2</td>\n",
       "    </tr>\n",
       "    <tr>\n",
       "      <th>469661</th>\n",
       "      <td>12213803</td>\n",
       "      <td>1</td>\n",
       "    </tr>\n",
       "    <tr>\n",
       "      <th>469670</th>\n",
       "      <td>12213803</td>\n",
       "      <td>2</td>\n",
       "    </tr>\n",
       "  </tbody>\n",
       "</table>\n",
       "<p>25463 rows × 2 columns</p>\n",
       "</div>"
      ],
      "text/plain": [
       "        match_id  set_num\n",
       "0       11998445        1\n",
       "12      11998445        2\n",
       "20      11998445        3\n",
       "33      11998446        1\n",
       "43      11998446        2\n",
       "...          ...      ...\n",
       "469634  12213484        2\n",
       "469643  12213486        1\n",
       "469651  12213486        2\n",
       "469661  12213803        1\n",
       "469670  12213803        2\n",
       "\n",
       "[25463 rows x 2 columns]"
      ]
     },
     "execution_count": 13,
     "metadata": {},
     "output_type": "execute_result"
    }
   ],
   "source": [
    "mask_columns = [\"match_id\",\"set_num\"]\n",
    "unique_power_data = unique_power_data[mask_columns]\n",
    "\n",
    "\n",
    "unique_time_data.to_csv(\"../data/external/5/power_set.csv\",index=False)\n",
    "\n",
    "unique_power_data"
   ]
  },
  {
   "cell_type": "code",
   "execution_count": 14,
   "id": "8d87c604",
   "metadata": {},
   "outputs": [
    {
     "data": {
      "text/plain": [
       "np.int64(0)"
      ]
     },
     "execution_count": 14,
     "metadata": {},
     "output_type": "execute_result"
    }
   ],
   "source": [
    "np.sum(unique_power_data[\"set_num\"].isna())"
   ]
  },
  {
   "cell_type": "code",
   "execution_count": 15,
   "id": "719afee8",
   "metadata": {},
   "outputs": [],
   "source": [
    "stop_at_three = (unique_power_data[\"set_num\"] == 3)\n",
    "\n",
    "numbers_stop_at_two = len(unique_power_data[stop_at_three])\n",
    "total_number = len(unique_power_data[\"match_id\"].unique())\n",
    "\n",
    "\n",
    "percentage_of_three_set_match = (numbers_stop_at_two/total_number)*100\n"
   ]
  },
  {
   "cell_type": "code",
   "execution_count": 16,
   "id": "f38c4a76",
   "metadata": {},
   "outputs": [
    {
     "data": {
      "text/plain": [
       "69.85882564517578"
      ]
     },
     "execution_count": 16,
     "metadata": {},
     "output_type": "execute_result"
    }
   ],
   "source": [
    "percentage_of_two_set_match = 100 - percentage_of_three_set_match\n",
    "percentage_of_two_set_match"
   ]
  },
  {
   "cell_type": "markdown",
   "id": "29b768ac",
   "metadata": {},
   "source": [
    "<h1>calculate by game info(pbp) table</h1>"
   ]
  },
  {
   "cell_type": "code",
   "execution_count": 17,
   "id": "d2bf385b",
   "metadata": {},
   "outputs": [],
   "source": [
    "data_pbp = fetch_data(20240201,20240331,'pbp')\n"
   ]
  },
  {
   "cell_type": "code",
   "execution_count": 18,
   "id": "18220853",
   "metadata": {},
   "outputs": [],
   "source": [
    "unique_columns = [\"match_id\",\"set_id\"]\n",
    "unique_pbp_data = data_pbp.drop_duplicates(subset=unique_columns)"
   ]
  },
  {
   "cell_type": "code",
   "execution_count": 19,
   "id": "508c25a5",
   "metadata": {},
   "outputs": [
    {
     "data": {
      "text/html": [
       "<div>\n",
       "<style scoped>\n",
       "    .dataframe tbody tr th:only-of-type {\n",
       "        vertical-align: middle;\n",
       "    }\n",
       "\n",
       "    .dataframe tbody tr th {\n",
       "        vertical-align: top;\n",
       "    }\n",
       "\n",
       "    .dataframe thead th {\n",
       "        text-align: right;\n",
       "    }\n",
       "</style>\n",
       "<table border=\"1\" class=\"dataframe\">\n",
       "  <thead>\n",
       "    <tr style=\"text-align: right;\">\n",
       "      <th></th>\n",
       "      <th>match_id</th>\n",
       "      <th>set_id</th>\n",
       "    </tr>\n",
       "  </thead>\n",
       "  <tbody>\n",
       "    <tr>\n",
       "      <th>0</th>\n",
       "      <td>11998445</td>\n",
       "      <td>3</td>\n",
       "    </tr>\n",
       "    <tr>\n",
       "      <th>68</th>\n",
       "      <td>11998445</td>\n",
       "      <td>2</td>\n",
       "    </tr>\n",
       "    <tr>\n",
       "      <th>108</th>\n",
       "      <td>11998445</td>\n",
       "      <td>1</td>\n",
       "    </tr>\n",
       "    <tr>\n",
       "      <th>159</th>\n",
       "      <td>11998446</td>\n",
       "      <td>2</td>\n",
       "    </tr>\n",
       "    <tr>\n",
       "      <th>204</th>\n",
       "      <td>11998446</td>\n",
       "      <td>1</td>\n",
       "    </tr>\n",
       "    <tr>\n",
       "      <th>...</th>\n",
       "      <td>...</td>\n",
       "      <td>...</td>\n",
       "    </tr>\n",
       "    <tr>\n",
       "      <th>2549116</th>\n",
       "      <td>12213484</td>\n",
       "      <td>1</td>\n",
       "    </tr>\n",
       "    <tr>\n",
       "      <th>2549155</th>\n",
       "      <td>12213486</td>\n",
       "      <td>2</td>\n",
       "    </tr>\n",
       "    <tr>\n",
       "      <th>2549218</th>\n",
       "      <td>12213486</td>\n",
       "      <td>1</td>\n",
       "    </tr>\n",
       "    <tr>\n",
       "      <th>2549255</th>\n",
       "      <td>12213803</td>\n",
       "      <td>2</td>\n",
       "    </tr>\n",
       "    <tr>\n",
       "      <th>2549304</th>\n",
       "      <td>12213803</td>\n",
       "      <td>1</td>\n",
       "    </tr>\n",
       "  </tbody>\n",
       "</table>\n",
       "<p>25139 rows × 2 columns</p>\n",
       "</div>"
      ],
      "text/plain": [
       "         match_id  set_id\n",
       "0        11998445       3\n",
       "68       11998445       2\n",
       "108      11998445       1\n",
       "159      11998446       2\n",
       "204      11998446       1\n",
       "...           ...     ...\n",
       "2549116  12213484       1\n",
       "2549155  12213486       2\n",
       "2549218  12213486       1\n",
       "2549255  12213803       2\n",
       "2549304  12213803       1\n",
       "\n",
       "[25139 rows x 2 columns]"
      ]
     },
     "execution_count": 19,
     "metadata": {},
     "output_type": "execute_result"
    }
   ],
   "source": [
    "mask_columns = [\"match_id\",\"set_id\"]\n",
    "unique_pbp_data = unique_pbp_data[mask_columns]\n",
    "\n",
    "unique_time_data.to_csv(\"../data/external/5/pbp_set.csv\",index=False)\n",
    "\n",
    "unique_pbp_data\n"
   ]
  },
  {
   "cell_type": "code",
   "execution_count": 20,
   "id": "f522e560",
   "metadata": {},
   "outputs": [
    {
     "data": {
      "text/plain": [
       "np.int64(0)"
      ]
     },
     "execution_count": 20,
     "metadata": {},
     "output_type": "execute_result"
    }
   ],
   "source": [
    "np.sum(unique_pbp_data[\"set_id\"].isna())"
   ]
  },
  {
   "cell_type": "code",
   "execution_count": 21,
   "id": "d9850d6d",
   "metadata": {},
   "outputs": [],
   "source": [
    "stop_at_three = (unique_pbp_data[\"set_id\"] == 3)\n",
    "\n",
    "numbers_stop_at_two = len(unique_pbp_data[stop_at_three])\n",
    "total_number = len(data_pbp[\"match_id\"].unique())\n",
    "\n",
    "\n",
    "percentage_of_three_set_match = (numbers_stop_at_two/total_number)*100\n"
   ]
  },
  {
   "cell_type": "code",
   "execution_count": 22,
   "id": "b598343b",
   "metadata": {},
   "outputs": [
    {
     "data": {
      "text/plain": [
       "69.7608616283315"
      ]
     },
     "execution_count": 22,
     "metadata": {},
     "output_type": "execute_result"
    }
   ],
   "source": [
    "percentage_of_two_set_match = 100 - percentage_of_three_set_match\n",
    "percentage_of_two_set_match"
   ]
  }
 ],
 "metadata": {
  "kernelspec": {
   "display_name": "airbnb_venv",
   "language": "python",
   "name": "airbnb_venv"
  },
  "language_info": {
   "codemirror_mode": {
    "name": "ipython",
    "version": 3
   },
   "file_extension": ".py",
   "mimetype": "text/x-python",
   "name": "python",
   "nbconvert_exporter": "python",
   "pygments_lexer": "ipython3",
   "version": "3.12.3"
  }
 },
 "nbformat": 4,
 "nbformat_minor": 5
}
