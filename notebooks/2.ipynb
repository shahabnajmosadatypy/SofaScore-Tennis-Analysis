{
 "cells": [
  {
   "cell_type": "code",
   "execution_count": 12,
   "id": "d7c8a4f0",
   "metadata": {},
   "outputs": [],
   "source": [
    "import numpy as np, pandas as pd\n",
    "from glob import glob\n",
    "from fetch_data import fetch_data"
   ]
  },
  {
   "cell_type": "code",
   "execution_count": 13,
   "id": "953eb4f9",
   "metadata": {},
   "outputs": [
    {
     "name": "stderr",
     "output_type": "stream",
     "text": [
      "/home/nima/data_science/tennis_project/SofaScore-Tennis-Analysis/notebooks/fetch_data.py:34: FutureWarning: The behavior of DataFrame concatenation with empty or all-NA entries is deprecated. In a future version, this will no longer exclude empty or all-NA columns when determining the result dtypes. To retain the old behavior, exclude the relevant entries before the concat operation.\n",
      "  data = pd.concat(dataframes,ignore_index=True)\n",
      "/home/nima/data_science/tennis_project/SofaScore-Tennis-Analysis/notebooks/fetch_data.py:34: FutureWarning: The behavior of DataFrame concatenation with empty or all-NA entries is deprecated. In a future version, this will no longer exclude empty or all-NA columns when determining the result dtypes. To retain the old behavior, exclude the relevant entries before the concat operation.\n",
      "  data = pd.concat(dataframes,ignore_index=True)\n"
     ]
    }
   ],
   "source": [
    "data_home_team = fetch_data(20240201,20240331,'home_team')\n",
    "\n",
    "\n",
    "data_away_team = fetch_data(20240201,20240331,'away_team')"
   ]
  },
  {
   "cell_type": "code",
   "execution_count": 14,
   "id": "b8631ad8",
   "metadata": {},
   "outputs": [],
   "source": [
    "total_data = pd.concat([data_away_team,data_home_team])"
   ]
  },
  {
   "cell_type": "code",
   "execution_count": 15,
   "id": "0b440e47",
   "metadata": {},
   "outputs": [],
   "source": [
    "unique_columns = [\"name\",\"slug\"]\n",
    "unique_data = total_data.drop_duplicates(subset=unique_columns)\n",
    "\n",
    "mask_columns = [\"name\",\"height\"]\n",
    "unique_height_data = unique_data[mask_columns]"
   ]
  },
  {
   "cell_type": "code",
   "execution_count": 17,
   "id": "806846a6",
   "metadata": {},
   "outputs": [],
   "source": [
    "mean_height = np.mean(unique_height_data[\"height\"])\n",
    "correct_unique_height_data = unique_height_data.fillna(mean_height)"
   ]
  },
  {
   "cell_type": "code",
   "execution_count": 22,
   "id": "3d8c2c70",
   "metadata": {},
   "outputs": [
    {
     "data": {
      "text/html": [
       "<div>\n",
       "<style scoped>\n",
       "    .dataframe tbody tr th:only-of-type {\n",
       "        vertical-align: middle;\n",
       "    }\n",
       "\n",
       "    .dataframe tbody tr th {\n",
       "        vertical-align: top;\n",
       "    }\n",
       "\n",
       "    .dataframe thead th {\n",
       "        text-align: right;\n",
       "    }\n",
       "</style>\n",
       "<table border=\"1\" class=\"dataframe\">\n",
       "  <thead>\n",
       "    <tr style=\"text-align: right;\">\n",
       "      <th></th>\n",
       "      <th>name</th>\n",
       "      <th>height</th>\n",
       "    </tr>\n",
       "  </thead>\n",
       "  <tbody>\n",
       "    <tr>\n",
       "      <th>0</th>\n",
       "      <td>Auger-Aliassime F.</td>\n",
       "      <td>1.930000</td>\n",
       "    </tr>\n",
       "    <tr>\n",
       "      <th>1</th>\n",
       "      <td>Cobolli F.</td>\n",
       "      <td>1.830000</td>\n",
       "    </tr>\n",
       "    <tr>\n",
       "      <th>2</th>\n",
       "      <td>Martínez P.</td>\n",
       "      <td>1.850000</td>\n",
       "    </tr>\n",
       "    <tr>\n",
       "      <th>3</th>\n",
       "      <td>Muller A.</td>\n",
       "      <td>1.830000</td>\n",
       "    </tr>\n",
       "    <tr>\n",
       "      <th>4</th>\n",
       "      <td>Mayot H.</td>\n",
       "      <td>1.780000</td>\n",
       "    </tr>\n",
       "    <tr>\n",
       "      <th>...</th>\n",
       "      <td>...</td>\n",
       "      <td>...</td>\n",
       "    </tr>\n",
       "    <tr>\n",
       "      <th>25009</th>\n",
       "      <td>Davis L.</td>\n",
       "      <td>1.570000</td>\n",
       "    </tr>\n",
       "    <tr>\n",
       "      <th>25019</th>\n",
       "      <td>Melichar-Martinez N.</td>\n",
       "      <td>1.810000</td>\n",
       "    </tr>\n",
       "    <tr>\n",
       "      <th>25147</th>\n",
       "      <td>Urribarrens Ramirez I.</td>\n",
       "      <td>1.821302</td>\n",
       "    </tr>\n",
       "    <tr>\n",
       "      <th>25562</th>\n",
       "      <td>Gadient N.</td>\n",
       "      <td>1.821302</td>\n",
       "    </tr>\n",
       "    <tr>\n",
       "      <th>25563</th>\n",
       "      <td>Oluwadare H.</td>\n",
       "      <td>1.821302</td>\n",
       "    </tr>\n",
       "  </tbody>\n",
       "</table>\n",
       "<p>2649 rows × 2 columns</p>\n",
       "</div>"
      ],
      "text/plain": [
       "                         name    height\n",
       "0          Auger-Aliassime F.  1.930000\n",
       "1                  Cobolli F.  1.830000\n",
       "2                 Martínez P.  1.850000\n",
       "3                   Muller A.  1.830000\n",
       "4                    Mayot H.  1.780000\n",
       "...                       ...       ...\n",
       "25009                Davis L.  1.570000\n",
       "25019    Melichar-Martinez N.  1.810000\n",
       "25147  Urribarrens Ramirez I.  1.821302\n",
       "25562              Gadient N.  1.821302\n",
       "25563            Oluwadare H.  1.821302\n",
       "\n",
       "[2649 rows x 2 columns]"
      ]
     },
     "execution_count": 22,
     "metadata": {},
     "output_type": "execute_result"
    }
   ],
   "source": [
    "correct_unique_height_data.to_csv(\"../data/external/players_height.csv\",index=False)\n",
    "\n",
    "correct_unique_height_data"
   ]
  },
  {
   "cell_type": "code",
   "execution_count": 18,
   "id": "f64a647a",
   "metadata": {},
   "outputs": [
    {
     "data": {
      "text/plain": [
       "1.8213020439061318"
      ]
     },
     "execution_count": 18,
     "metadata": {},
     "output_type": "execute_result"
    }
   ],
   "source": [
    "mean_height = float(mean_height)\n",
    "mean_height"
   ]
  }
 ],
 "metadata": {
  "kernelspec": {
   "display_name": "airbnb_venv",
   "language": "python",
   "name": "airbnb_venv"
  },
  "language_info": {
   "codemirror_mode": {
    "name": "ipython",
    "version": 3
   },
   "file_extension": ".py",
   "mimetype": "text/x-python",
   "name": "python",
   "nbconvert_exporter": "python",
   "pygments_lexer": "ipython3",
   "version": "3.12.3"
  }
 },
 "nbformat": 4,
 "nbformat_minor": 5
}
