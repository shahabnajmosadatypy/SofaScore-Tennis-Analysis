{
 "cells": [
  {
   "cell_type": "markdown",
   "id": "17217951",
   "metadata": {},
   "source": [
    "# 3rd Question"
   ]
  },
  {
   "cell_type": "markdown",
   "id": "e5992f94",
   "metadata": {},
   "source": [
    "### Which player has the highest number of wins?"
   ]
  },
  {
   "cell_type": "markdown",
   "id": "760430c2",
   "metadata": {},
   "source": [
    "Installing needed packages"
   ]
  },
  {
   "cell_type": "code",
   "execution_count": 24,
   "id": "91db9bd4",
   "metadata": {},
   "outputs": [
    {
     "name": "stdout",
     "output_type": "stream",
     "text": [
      "Requirement already satisfied: numpy in c:\\users\\shahab\\documents\\codes\\sofascore-tennis-analysis\\venv\\lib\\site-packages (2.3.1)\n",
      "Requirement already satisfied: pandas in c:\\users\\shahab\\documents\\codes\\sofascore-tennis-analysis\\venv\\lib\\site-packages (2.3.1)\n",
      "Requirement already satisfied: matplotlib in c:\\users\\shahab\\documents\\codes\\sofascore-tennis-analysis\\venv\\lib\\site-packages (3.10.3)\n",
      "Requirement already satisfied: pyarrow in c:\\users\\shahab\\documents\\codes\\sofascore-tennis-analysis\\venv\\lib\\site-packages (20.0.0)\n",
      "Requirement already satisfied: python-dateutil>=2.8.2 in c:\\users\\shahab\\documents\\codes\\sofascore-tennis-analysis\\venv\\lib\\site-packages (from pandas) (2.9.0.post0)\n",
      "Requirement already satisfied: pytz>=2020.1 in c:\\users\\shahab\\documents\\codes\\sofascore-tennis-analysis\\venv\\lib\\site-packages (from pandas) (2025.2)\n",
      "Requirement already satisfied: tzdata>=2022.7 in c:\\users\\shahab\\documents\\codes\\sofascore-tennis-analysis\\venv\\lib\\site-packages (from pandas) (2025.2)\n",
      "Requirement already satisfied: contourpy>=1.0.1 in c:\\users\\shahab\\documents\\codes\\sofascore-tennis-analysis\\venv\\lib\\site-packages (from matplotlib) (1.3.2)\n",
      "Requirement already satisfied: cycler>=0.10 in c:\\users\\shahab\\documents\\codes\\sofascore-tennis-analysis\\venv\\lib\\site-packages (from matplotlib) (0.12.1)\n",
      "Requirement already satisfied: fonttools>=4.22.0 in c:\\users\\shahab\\documents\\codes\\sofascore-tennis-analysis\\venv\\lib\\site-packages (from matplotlib) (4.58.5)\n",
      "Requirement already satisfied: kiwisolver>=1.3.1 in c:\\users\\shahab\\documents\\codes\\sofascore-tennis-analysis\\venv\\lib\\site-packages (from matplotlib) (1.4.8)\n",
      "Requirement already satisfied: packaging>=20.0 in c:\\users\\shahab\\documents\\codes\\sofascore-tennis-analysis\\venv\\lib\\site-packages (from matplotlib) (25.0)\n",
      "Requirement already satisfied: pillow>=8 in c:\\users\\shahab\\documents\\codes\\sofascore-tennis-analysis\\venv\\lib\\site-packages (from matplotlib) (11.3.0)\n",
      "Requirement already satisfied: pyparsing>=2.3.1 in c:\\users\\shahab\\documents\\codes\\sofascore-tennis-analysis\\venv\\lib\\site-packages (from matplotlib) (3.2.3)\n",
      "Requirement already satisfied: six>=1.5 in c:\\users\\shahab\\documents\\codes\\sofascore-tennis-analysis\\venv\\lib\\site-packages (from python-dateutil>=2.8.2->pandas) (1.17.0)\n",
      "Note: you may need to restart the kernel to use updated packages.\n"
     ]
    }
   ],
   "source": [
    "%pip install numpy pandas matplotlib pyarrow"
   ]
  },
  {
   "cell_type": "markdown",
   "id": "1ee1b18d",
   "metadata": {},
   "source": [
    "Importing needed packages"
   ]
  },
  {
   "cell_type": "code",
   "execution_count": 25,
   "id": "fbccc838",
   "metadata": {},
   "outputs": [],
   "source": [
    "import pandas as pd\n",
    "import numpy as np\n",
    "import matplotlib.pyplot as plt"
   ]
  },
  {
   "cell_type": "markdown",
   "id": "a602de03",
   "metadata": {},
   "source": [
    "Reading .parquet data"
   ]
  },
  {
   "cell_type": "code",
   "execution_count": null,
   "id": "bb9c789c",
   "metadata": {},
   "outputs": [],
   "source": []
  }
 ],
 "metadata": {
  "kernelspec": {
   "display_name": "venv",
   "language": "python",
   "name": "python3"
  },
  "language_info": {
   "name": "python",
   "version": "3.12.10"
  }
 },
 "nbformat": 4,
 "nbformat_minor": 5
}
