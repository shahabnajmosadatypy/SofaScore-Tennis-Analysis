{
 "cells": [
  {
   "cell_type": "markdown",
   "id": "17217951",
   "metadata": {},
   "source": [
    "# 3rd Question"
   ]
  },
  {
   "cell_type": "markdown",
   "id": "e5992f94",
   "metadata": {},
   "source": [
    "### Which player has the highest number of wins?"
   ]
  },
  {
   "cell_type": "markdown",
   "id": "760430c2",
   "metadata": {},
   "source": [
    "Installing needed packages"
   ]
  },
  {
   "cell_type": "code",
   "execution_count": 24,
   "id": "91db9bd4",
   "metadata": {},
   "outputs": [
    {
     "name": "stdout",
     "output_type": "stream",
     "text": [
      "Requirement already satisfied: numpy in c:\\users\\shahab\\documents\\codes\\sofascore-tennis-analysis\\venv\\lib\\site-packages (2.3.1)\n",
      "Requirement already satisfied: pandas in c:\\users\\shahab\\documents\\codes\\sofascore-tennis-analysis\\venv\\lib\\site-packages (2.3.1)\n",
      "Requirement already satisfied: matplotlib in c:\\users\\shahab\\documents\\codes\\sofascore-tennis-analysis\\venv\\lib\\site-packages (3.10.3)\n",
      "Requirement already satisfied: pyarrow in c:\\users\\shahab\\documents\\codes\\sofascore-tennis-analysis\\venv\\lib\\site-packages (20.0.0)\n",
      "Requirement already satisfied: python-dateutil>=2.8.2 in c:\\users\\shahab\\documents\\codes\\sofascore-tennis-analysis\\venv\\lib\\site-packages (from pandas) (2.9.0.post0)\n",
      "Requirement already satisfied: pytz>=2020.1 in c:\\users\\shahab\\documents\\codes\\sofascore-tennis-analysis\\venv\\lib\\site-packages (from pandas) (2025.2)\n",
      "Requirement already satisfied: tzdata>=2022.7 in c:\\users\\shahab\\documents\\codes\\sofascore-tennis-analysis\\venv\\lib\\site-packages (from pandas) (2025.2)\n",
      "Requirement already satisfied: contourpy>=1.0.1 in c:\\users\\shahab\\documents\\codes\\sofascore-tennis-analysis\\venv\\lib\\site-packages (from matplotlib) (1.3.2)\n",
      "Requirement already satisfied: cycler>=0.10 in c:\\users\\shahab\\documents\\codes\\sofascore-tennis-analysis\\venv\\lib\\site-packages (from matplotlib) (0.12.1)\n",
      "Requirement already satisfied: fonttools>=4.22.0 in c:\\users\\shahab\\documents\\codes\\sofascore-tennis-analysis\\venv\\lib\\site-packages (from matplotlib) (4.58.5)\n",
      "Requirement already satisfied: kiwisolver>=1.3.1 in c:\\users\\shahab\\documents\\codes\\sofascore-tennis-analysis\\venv\\lib\\site-packages (from matplotlib) (1.4.8)\n",
      "Requirement already satisfied: packaging>=20.0 in c:\\users\\shahab\\documents\\codes\\sofascore-tennis-analysis\\venv\\lib\\site-packages (from matplotlib) (25.0)\n",
      "Requirement already satisfied: pillow>=8 in c:\\users\\shahab\\documents\\codes\\sofascore-tennis-analysis\\venv\\lib\\site-packages (from matplotlib) (11.3.0)\n",
      "Requirement already satisfied: pyparsing>=2.3.1 in c:\\users\\shahab\\documents\\codes\\sofascore-tennis-analysis\\venv\\lib\\site-packages (from matplotlib) (3.2.3)\n",
      "Requirement already satisfied: six>=1.5 in c:\\users\\shahab\\documents\\codes\\sofascore-tennis-analysis\\venv\\lib\\site-packages (from python-dateutil>=2.8.2->pandas) (1.17.0)\n",
      "Note: you may need to restart the kernel to use updated packages.\n"
     ]
    }
   ],
   "source": [
    "%pip install numpy pandas matplotlib pyarrow"
   ]
  },
  {
   "cell_type": "markdown",
   "id": "1ee1b18d",
   "metadata": {},
   "source": [
    "Importing needed packages"
   ]
  },
  {
   "cell_type": "code",
   "execution_count": null,
   "id": "fbccc838",
   "metadata": {},
   "outputs": [],
   "source": [
    "import pandas as pd\n",
    "import numpy as np\n",
    "import matplotlib.pyplot as plt\n",
    "from glob import glob\n",
    "import os"
   ]
  },
  {
   "cell_type": "markdown",
   "id": "a602de03",
   "metadata": {},
   "source": [
    "# Reading .parquet data\n",
    "According to question and ERD in /data/ERD folder as Tennis Schema.pdf , We are analyzing which player has the highest win rate\n",
    "match_id is a key between files ,\n",
    "### GameInfo , MatchAwayTeamInfo , MatchHomeTeamInfo table is important "
   ]
  },
  {
   "cell_type": "code",
   "execution_count": 24,
   "id": "bb9c789c",
   "metadata": {},
   "outputs": [
    {
     "name": "stdout",
     "output_type": "stream",
     "text": [
      "[]\n"
     ]
    }
   ],
   "source": [
    "days_to_query = os.listdir(\"../data/raw/tennis_data\")\n",
    "\n",
    "files_to_load = []\n",
    "\n",
    "for days in days_to_query:\n",
    "    pattern = f\"../data/raw/tennis_data/{days}/*.parquet\"\n",
    "    files_to_load.extend(glob(pattern))\n",
    "\n",
    "print(files_to_load)\n",
    "#tennis_dataframe = pd.concat([pd.read_parquet(file) for file in files_to_load], ignore_index=True)\n",
    "#tennis_dataframe.head(5)"
   ]
  },
  {
   "cell_type": "code",
   "execution_count": 21,
   "id": "c1cce3dc",
   "metadata": {},
   "outputs": [
    {
     "name": "stdout",
     "output_type": "stream",
     "text": [
      "Checking folder: ..\\data\\raw\\tennis_data\\20240201\n",
      "  found: []\n",
      "Checking folder: ..\\data\\raw\\tennis_data\\20240202\n",
      "  found: []\n",
      "Checking folder: ..\\data\\raw\\tennis_data\\20240203\n",
      "  found: []\n",
      "Checking folder: ..\\data\\raw\\tennis_data\\20240204\n",
      "  found: []\n",
      "Checking folder: ..\\data\\raw\\tennis_data\\20240205\n",
      "  found: []\n",
      "Checking folder: ..\\data\\raw\\tennis_data\\20240206\n",
      "  found: []\n",
      "Checking folder: ..\\data\\raw\\tennis_data\\20240207\n",
      "  found: []\n",
      "Checking folder: ..\\data\\raw\\tennis_data\\20240208\n",
      "  found: []\n",
      "Checking folder: ..\\data\\raw\\tennis_data\\20240209\n",
      "  found: []\n",
      "Checking folder: ..\\data\\raw\\tennis_data\\20240210\n",
      "  found: []\n",
      "Checking folder: ..\\data\\raw\\tennis_data\\20240211\n",
      "  found: []\n",
      "Checking folder: ..\\data\\raw\\tennis_data\\20240212\n",
      "  found: []\n",
      "Checking folder: ..\\data\\raw\\tennis_data\\20240213\n",
      "  found: []\n",
      "Checking folder: ..\\data\\raw\\tennis_data\\20240214\n",
      "  found: []\n",
      "Checking folder: ..\\data\\raw\\tennis_data\\20240215\n",
      "  found: []\n",
      "Checking folder: ..\\data\\raw\\tennis_data\\20240216\n",
      "  found: []\n",
      "Checking folder: ..\\data\\raw\\tennis_data\\20240217\n",
      "  found: []\n",
      "Checking folder: ..\\data\\raw\\tennis_data\\20240218\n",
      "  found: []\n",
      "Checking folder: ..\\data\\raw\\tennis_data\\20240219\n",
      "  found: []\n",
      "Checking folder: ..\\data\\raw\\tennis_data\\20240220\n",
      "  found: []\n",
      "Checking folder: ..\\data\\raw\\tennis_data\\20240221\n",
      "  found: []\n",
      "Checking folder: ..\\data\\raw\\tennis_data\\20240222\n",
      "  found: []\n",
      "Checking folder: ..\\data\\raw\\tennis_data\\20240223\n",
      "  found: []\n",
      "Checking folder: ..\\data\\raw\\tennis_data\\20240224\n",
      "  found: []\n",
      "Checking folder: ..\\data\\raw\\tennis_data\\20240225\n",
      "  found: []\n",
      "Checking folder: ..\\data\\raw\\tennis_data\\20240226\n",
      "  found: []\n",
      "Checking folder: ..\\data\\raw\\tennis_data\\20240227\n",
      "  found: []\n",
      "Checking folder: ..\\data\\raw\\tennis_data\\20240228\n",
      "  found: []\n",
      "Checking folder: ..\\data\\raw\\tennis_data\\20240229\n",
      "  found: []\n",
      "Checking folder: ..\\data\\raw\\tennis_data\\20240301\n",
      "  found: []\n",
      "Checking folder: ..\\data\\raw\\tennis_data\\20240302\n",
      "  found: []\n",
      "Checking folder: ..\\data\\raw\\tennis_data\\20240303\n",
      "  found: []\n",
      "Checking folder: ..\\data\\raw\\tennis_data\\20240304\n",
      "  found: []\n",
      "Checking folder: ..\\data\\raw\\tennis_data\\20240305\n",
      "  found: []\n",
      "Checking folder: ..\\data\\raw\\tennis_data\\20240306\n",
      "  found: []\n",
      "Checking folder: ..\\data\\raw\\tennis_data\\20240307\n",
      "  found: []\n",
      "Checking folder: ..\\data\\raw\\tennis_data\\20240308\n",
      "  found: []\n",
      "Checking folder: ..\\data\\raw\\tennis_data\\20240309\n",
      "  found: []\n",
      "Checking folder: ..\\data\\raw\\tennis_data\\20240310\n",
      "  found: []\n",
      "Checking folder: ..\\data\\raw\\tennis_data\\20240311\n",
      "  found: []\n",
      "Checking folder: ..\\data\\raw\\tennis_data\\20240312\n",
      "  found: []\n",
      "Checking folder: ..\\data\\raw\\tennis_data\\20240313\n",
      "  found: []\n",
      "Checking folder: ..\\data\\raw\\tennis_data\\20240314\n",
      "  found: []\n",
      "Checking folder: ..\\data\\raw\\tennis_data\\20240315\n",
      "  found: []\n",
      "Checking folder: ..\\data\\raw\\tennis_data\\20240316\n",
      "  found: []\n",
      "Checking folder: ..\\data\\raw\\tennis_data\\20240317\n",
      "  found: []\n",
      "Checking folder: ..\\data\\raw\\tennis_data\\20240318\n",
      "  found: []\n",
      "Checking folder: ..\\data\\raw\\tennis_data\\20240319\n",
      "  found: []\n",
      "Checking folder: ..\\data\\raw\\tennis_data\\20240320\n",
      "  found: []\n",
      "Checking folder: ..\\data\\raw\\tennis_data\\20240321\n",
      "  found: []\n",
      "Checking folder: ..\\data\\raw\\tennis_data\\20240322\n",
      "  found: []\n",
      "Checking folder: ..\\data\\raw\\tennis_data\\20240323\n",
      "  found: []\n",
      "Checking folder: ..\\data\\raw\\tennis_data\\20240324\n",
      "  found: []\n",
      "Checking folder: ..\\data\\raw\\tennis_data\\20240325\n",
      "  found: []\n",
      "Checking folder: ..\\data\\raw\\tennis_data\\20240326\n",
      "  found: []\n",
      "Checking folder: ..\\data\\raw\\tennis_data\\20240327\n",
      "  found: []\n",
      "Checking folder: ..\\data\\raw\\tennis_data\\20240328\n",
      "  found: []\n",
      "Checking folder: ..\\data\\raw\\tennis_data\\20240329\n",
      "  found: []\n",
      "Checking folder: ..\\data\\raw\\tennis_data\\20240330\n",
      "  found: []\n",
      "Checking folder: ..\\data\\raw\\tennis_data\\20240331\n",
      "  found: []\n",
      "Final list: []\n"
     ]
    }
   ],
   "source": [
    "from pathlib import Path\n",
    "\n",
    "base = Path(\"..\") / \"data\" / \"raw\" / \"tennis_data\"\n",
    "files_to_load = []\n",
    "\n",
    "for day in days_to_query:\n",
    "    folder = base / day\n",
    "    print(\"Checking folder:\", folder)\n",
    "    if folder.exists():\n",
    "        found = list(folder.glob(\"*.parquet\"))\n",
    "        print(\"  found:\", found)\n",
    "        files_to_load.extend(found)\n",
    "    else:\n",
    "        print(\"  ➔ folder does not exist!\")\n",
    "\n",
    "print(\"Final list:\", files_to_load)\n"
   ]
  }
 ],
 "metadata": {
  "kernelspec": {
   "display_name": "venv",
   "language": "python",
   "name": "python3"
  },
  "language_info": {
   "codemirror_mode": {
    "name": "ipython",
    "version": 3
   },
   "file_extension": ".py",
   "mimetype": "text/x-python",
   "name": "python",
   "nbconvert_exporter": "python",
   "pygments_lexer": "ipython3",
   "version": "3.12.10"
  }
 },
 "nbformat": 4,
 "nbformat_minor": 5
}
