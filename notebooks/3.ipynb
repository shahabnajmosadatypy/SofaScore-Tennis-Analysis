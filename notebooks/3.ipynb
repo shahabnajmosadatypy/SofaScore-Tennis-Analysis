{
 "cells": [
  {
   "cell_type": "markdown",
   "id": "17217951",
   "metadata": {},
   "source": [
    "# 3rd Question"
   ]
  },
  {
   "cell_type": "markdown",
   "id": "e5992f94",
   "metadata": {},
   "source": [
    "### Which player has the highest number of wins?"
   ]
  },
  {
   "cell_type": "markdown",
   "id": "760430c2",
   "metadata": {},
   "source": [
    "Installing needed packages"
   ]
  },
  {
   "cell_type": "code",
   "execution_count": 24,
   "id": "91db9bd4",
   "metadata": {},
   "outputs": [
    {
     "name": "stdout",
     "output_type": "stream",
     "text": [
      "Requirement already satisfied: numpy in c:\\users\\shahab\\documents\\codes\\sofascore-tennis-analysis\\venv\\lib\\site-packages (2.3.1)\n",
      "Requirement already satisfied: pandas in c:\\users\\shahab\\documents\\codes\\sofascore-tennis-analysis\\venv\\lib\\site-packages (2.3.1)\n",
      "Requirement already satisfied: matplotlib in c:\\users\\shahab\\documents\\codes\\sofascore-tennis-analysis\\venv\\lib\\site-packages (3.10.3)\n",
      "Requirement already satisfied: pyarrow in c:\\users\\shahab\\documents\\codes\\sofascore-tennis-analysis\\venv\\lib\\site-packages (20.0.0)\n",
      "Requirement already satisfied: python-dateutil>=2.8.2 in c:\\users\\shahab\\documents\\codes\\sofascore-tennis-analysis\\venv\\lib\\site-packages (from pandas) (2.9.0.post0)\n",
      "Requirement already satisfied: pytz>=2020.1 in c:\\users\\shahab\\documents\\codes\\sofascore-tennis-analysis\\venv\\lib\\site-packages (from pandas) (2025.2)\n",
      "Requirement already satisfied: tzdata>=2022.7 in c:\\users\\shahab\\documents\\codes\\sofascore-tennis-analysis\\venv\\lib\\site-packages (from pandas) (2025.2)\n",
      "Requirement already satisfied: contourpy>=1.0.1 in c:\\users\\shahab\\documents\\codes\\sofascore-tennis-analysis\\venv\\lib\\site-packages (from matplotlib) (1.3.2)\n",
      "Requirement already satisfied: cycler>=0.10 in c:\\users\\shahab\\documents\\codes\\sofascore-tennis-analysis\\venv\\lib\\site-packages (from matplotlib) (0.12.1)\n",
      "Requirement already satisfied: fonttools>=4.22.0 in c:\\users\\shahab\\documents\\codes\\sofascore-tennis-analysis\\venv\\lib\\site-packages (from matplotlib) (4.58.5)\n",
      "Requirement already satisfied: kiwisolver>=1.3.1 in c:\\users\\shahab\\documents\\codes\\sofascore-tennis-analysis\\venv\\lib\\site-packages (from matplotlib) (1.4.8)\n",
      "Requirement already satisfied: packaging>=20.0 in c:\\users\\shahab\\documents\\codes\\sofascore-tennis-analysis\\venv\\lib\\site-packages (from matplotlib) (25.0)\n",
      "Requirement already satisfied: pillow>=8 in c:\\users\\shahab\\documents\\codes\\sofascore-tennis-analysis\\venv\\lib\\site-packages (from matplotlib) (11.3.0)\n",
      "Requirement already satisfied: pyparsing>=2.3.1 in c:\\users\\shahab\\documents\\codes\\sofascore-tennis-analysis\\venv\\lib\\site-packages (from matplotlib) (3.2.3)\n",
      "Requirement already satisfied: six>=1.5 in c:\\users\\shahab\\documents\\codes\\sofascore-tennis-analysis\\venv\\lib\\site-packages (from python-dateutil>=2.8.2->pandas) (1.17.0)\n",
      "Note: you may need to restart the kernel to use updated packages.\n"
     ]
    }
   ],
   "source": [
    "%pip install numpy pandas matplotlib pyarrow"
   ]
  },
  {
   "cell_type": "markdown",
   "id": "1ee1b18d",
   "metadata": {},
   "source": [
    "Importing needed packages"
   ]
  },
  {
   "cell_type": "code",
   "execution_count": 2,
   "id": "fbccc838",
   "metadata": {},
   "outputs": [],
   "source": [
    "import pandas as pd\n",
    "import numpy as np\n",
    "import matplotlib.pyplot as plt\n",
    "from glob import glob\n",
    "import os"
   ]
  },
  {
   "cell_type": "markdown",
   "id": "a602de03",
   "metadata": {},
   "source": [
    "# Reading .parquet data\n",
    "According to question and ERD in /data/ERD folder as Tennis Schema.pdf , We are analyzing which player has the highest win rate, Reading data of matchs\n",
    "It might take few seconds to read data"
   ]
  },
  {
   "cell_type": "code",
   "execution_count": null,
   "id": "002f4201",
   "metadata": {},
   "outputs": [
    {
     "data": {
      "application/vnd.microsoft.datawrangler.viewer.v0+json": {
       "columns": [
        {
         "name": "index",
         "rawType": "int64",
         "type": "integer"
        },
        {
         "name": "match_id",
         "rawType": "int64",
         "type": "integer"
        },
        {
         "name": "period",
         "rawType": "object",
         "type": "string"
        },
        {
         "name": "statistic_name",
         "rawType": "object",
         "type": "string"
        },
        {
         "name": "home_stat",
         "rawType": "object",
         "type": "string"
        },
        {
         "name": "away_stat",
         "rawType": "object",
         "type": "string"
        },
        {
         "name": "home_total",
         "rawType": "float64",
         "type": "float"
        },
        {
         "name": "away_total",
         "rawType": "float64",
         "type": "float"
        }
       ],
       "ref": "2269e696-65c6-4339-9c4e-f085d753c9b6",
       "rows": [
        [
         "0",
         "11998445",
         "ALL",
         "aces",
         "12",
         "6",
         null,
         null
        ],
        [
         "1",
         "11998445",
         "ALL",
         "double_faults",
         "2",
         "7",
         null,
         null
        ],
        [
         "2",
         "11998445",
         "ALL",
         "first_serve",
         "57/101 (56%)",
         "53/90 (59%)",
         "101.0",
         "90.0"
        ],
        [
         "3",
         "11998445",
         "ALL",
         "second_serve",
         "42/44 (95%)",
         "30/37 (81%)",
         "44.0",
         "37.0"
        ],
        [
         "4",
         "11998445",
         "ALL",
         "first_serve_points",
         "42/57 (74%)",
         "39/53 (74%)",
         "57.0",
         "53.0"
        ],
        [
         "5",
         "11998445",
         "ALL",
         "second_serve_points",
         "18/44 (41%)",
         "16/37 (43%)",
         "44.0",
         "37.0"
        ],
        [
         "6",
         "11998445",
         "ALL",
         "service_games_played",
         "16",
         "16",
         null,
         null
        ],
        [
         "7",
         "11998445",
         "ALL",
         "break_points_saved",
         "6/10 (60%)",
         "1/6 (16%)",
         "10.0",
         "6.0"
        ],
        [
         "8",
         "11998445",
         "ALL",
         "total",
         "95",
         "96",
         null,
         null
        ],
        [
         "9",
         "11998445",
         "ALL",
         "service_points_won",
         "60",
         "55",
         null,
         null
        ],
        [
         "10",
         "11998445",
         "ALL",
         "receiver_points_won",
         "35",
         "41",
         null,
         null
        ],
        [
         "11",
         "11998445",
         "ALL",
         "max_points_in_a_row",
         "7",
         "8",
         null,
         null
        ],
        [
         "12",
         "11998445",
         "ALL",
         "total_won",
         "17",
         "14",
         null,
         null
        ],
        [
         "13",
         "11998445",
         "ALL",
         "service_games_won",
         "12",
         "11",
         null,
         null
        ],
        [
         "14",
         "11998445",
         "ALL",
         "max_games_in_a_row",
         "5",
         "3",
         null,
         null
        ],
        [
         "15",
         "11998445",
         "ALL",
         "first_serve_return_points",
         "14/53 (26%)",
         "15/57 (26%)",
         "53.0",
         "57.0"
        ],
        [
         "16",
         "11998445",
         "ALL",
         "second_serve_return_points",
         "21/37 (56%)",
         "26/44 (59%)",
         "37.0",
         "44.0"
        ],
        [
         "17",
         "11998445",
         "ALL",
         "return_games_played",
         "16",
         "16",
         null,
         null
        ],
        [
         "18",
         "11998445",
         "ALL",
         "break_points_converted",
         "5",
         "4",
         null,
         null
        ],
        [
         "19",
         "11998445",
         "ALL",
         "tiebreaks",
         "0",
         "1",
         null,
         null
        ],
        [
         "20",
         "11998445",
         "1ST",
         "aces",
         "2",
         "3",
         null,
         null
        ],
        [
         "21",
         "11998445",
         "1ST",
         "double_faults",
         "1",
         "2",
         null,
         null
        ],
        [
         "22",
         "11998445",
         "1ST",
         "first_serve",
         "16/33 (48%)",
         "18/30 (60%)",
         "33.0",
         "30.0"
        ],
        [
         "23",
         "11998445",
         "1ST",
         "second_serve",
         "16/17 (94%)",
         "10/12 (83%)",
         "17.0",
         "12.0"
        ],
        [
         "24",
         "11998445",
         "1ST",
         "first_serve_points",
         "13/16 (81%)",
         "17/18 (94%)",
         "16.0",
         "18.0"
        ],
        [
         "25",
         "11998445",
         "1ST",
         "second_serve_points",
         "7/17 (41%)",
         "5/12 (42%)",
         "17.0",
         "12.0"
        ],
        [
         "26",
         "11998445",
         "1ST",
         "service_games_played",
         "6",
         "6",
         null,
         null
        ],
        [
         "27",
         "11998445",
         "1ST",
         "break_points_saved",
         "0/2 (0%)",
         "1/2 (50%)",
         "2.0",
         "2.0"
        ],
        [
         "28",
         "11998445",
         "1ST",
         "service_points_won",
         "20",
         "22",
         null,
         null
        ],
        [
         "29",
         "11998445",
         "1ST",
         "receiver_points_won",
         "8",
         "13",
         null,
         null
        ],
        [
         "30",
         "11998445",
         "1ST",
         "max_points_in_a_row",
         "4",
         "5",
         null,
         null
        ],
        [
         "31",
         "11998445",
         "1ST",
         "max_games_in_a_row",
         "3",
         "3",
         null,
         null
        ],
        [
         "32",
         "11998445",
         "1ST",
         "first_serve_return_points",
         "1/18 (5%)",
         "3/16 (18%)",
         "18.0",
         "16.0"
        ],
        [
         "33",
         "11998445",
         "1ST",
         "second_serve_return_points",
         "7/12 (58%)",
         "10/17 (58%)",
         "12.0",
         "17.0"
        ],
        [
         "34",
         "11998445",
         "1ST",
         "return_games_played",
         "6",
         "6",
         null,
         null
        ],
        [
         "35",
         "11998445",
         "1ST",
         "break_points_converted",
         "1",
         "2",
         null,
         null
        ],
        [
         "36",
         "11998445",
         "1ST",
         "tiebreaks",
         "0",
         "0",
         null,
         null
        ],
        [
         "37",
         "11998445",
         "2ND",
         "aces",
         "6",
         "3",
         null,
         null
        ],
        [
         "38",
         "11998445",
         "2ND",
         "double_faults",
         "1",
         "2",
         null,
         null
        ],
        [
         "39",
         "11998445",
         "2ND",
         "first_serve",
         "15/26 (58%)",
         "12/22 (55%)",
         "26.0",
         "22.0"
        ],
        [
         "40",
         "11998445",
         "2ND",
         "second_serve",
         "10/11 (91%)",
         "8/10 (80%)",
         "11.0",
         "10.0"
        ],
        [
         "41",
         "11998445",
         "2ND",
         "first_serve_points",
         "12/15 (80%)",
         "7/12 (58%)",
         "15.0",
         "12.0"
        ],
        [
         "42",
         "11998445",
         "2ND",
         "second_serve_points",
         "6/11 (55%)",
         "3/10 (30%)",
         "11.0",
         "10.0"
        ],
        [
         "43",
         "11998445",
         "2ND",
         "service_games_played",
         "4",
         "4",
         null,
         null
        ],
        [
         "44",
         "11998445",
         "2ND",
         "break_points_saved",
         "3/3 (100%)",
         "0/2 (0%)",
         "3.0",
         "2.0"
        ],
        [
         "45",
         "11998445",
         "2ND",
         "service_points_won",
         "18",
         "10",
         null,
         null
        ],
        [
         "46",
         "11998445",
         "2ND",
         "receiver_points_won",
         "12",
         "8",
         null,
         null
        ],
        [
         "47",
         "11998445",
         "2ND",
         "max_points_in_a_row",
         "7",
         "3",
         null,
         null
        ],
        [
         "48",
         "11998445",
         "2ND",
         "max_games_in_a_row",
         "3",
         "1",
         null,
         null
        ],
        [
         "49",
         "11998445",
         "2ND",
         "first_serve_return_points",
         "5/12 (41%)",
         "3/15 (20%)",
         "12.0",
         "15.0"
        ]
       ],
       "shape": {
        "columns": 7,
        "rows": 100
       }
      },
      "text/html": [
       "<div>\n",
       "<style scoped>\n",
       "    .dataframe tbody tr th:only-of-type {\n",
       "        vertical-align: middle;\n",
       "    }\n",
       "\n",
       "    .dataframe tbody tr th {\n",
       "        vertical-align: top;\n",
       "    }\n",
       "\n",
       "    .dataframe thead th {\n",
       "        text-align: right;\n",
       "    }\n",
       "</style>\n",
       "<table border=\"1\" class=\"dataframe\">\n",
       "  <thead>\n",
       "    <tr style=\"text-align: right;\">\n",
       "      <th></th>\n",
       "      <th>match_id</th>\n",
       "      <th>period</th>\n",
       "      <th>statistic_name</th>\n",
       "      <th>home_stat</th>\n",
       "      <th>away_stat</th>\n",
       "      <th>home_total</th>\n",
       "      <th>away_total</th>\n",
       "    </tr>\n",
       "  </thead>\n",
       "  <tbody>\n",
       "    <tr>\n",
       "      <th>0</th>\n",
       "      <td>11998445</td>\n",
       "      <td>ALL</td>\n",
       "      <td>aces</td>\n",
       "      <td>12</td>\n",
       "      <td>6</td>\n",
       "      <td>NaN</td>\n",
       "      <td>NaN</td>\n",
       "    </tr>\n",
       "    <tr>\n",
       "      <th>1</th>\n",
       "      <td>11998445</td>\n",
       "      <td>ALL</td>\n",
       "      <td>double_faults</td>\n",
       "      <td>2</td>\n",
       "      <td>7</td>\n",
       "      <td>NaN</td>\n",
       "      <td>NaN</td>\n",
       "    </tr>\n",
       "    <tr>\n",
       "      <th>2</th>\n",
       "      <td>11998445</td>\n",
       "      <td>ALL</td>\n",
       "      <td>first_serve</td>\n",
       "      <td>57/101 (56%)</td>\n",
       "      <td>53/90 (59%)</td>\n",
       "      <td>101.0</td>\n",
       "      <td>90.0</td>\n",
       "    </tr>\n",
       "    <tr>\n",
       "      <th>3</th>\n",
       "      <td>11998445</td>\n",
       "      <td>ALL</td>\n",
       "      <td>second_serve</td>\n",
       "      <td>42/44 (95%)</td>\n",
       "      <td>30/37 (81%)</td>\n",
       "      <td>44.0</td>\n",
       "      <td>37.0</td>\n",
       "    </tr>\n",
       "    <tr>\n",
       "      <th>4</th>\n",
       "      <td>11998445</td>\n",
       "      <td>ALL</td>\n",
       "      <td>first_serve_points</td>\n",
       "      <td>42/57 (74%)</td>\n",
       "      <td>39/53 (74%)</td>\n",
       "      <td>57.0</td>\n",
       "      <td>53.0</td>\n",
       "    </tr>\n",
       "    <tr>\n",
       "      <th>...</th>\n",
       "      <td>...</td>\n",
       "      <td>...</td>\n",
       "      <td>...</td>\n",
       "      <td>...</td>\n",
       "      <td>...</td>\n",
       "      <td>...</td>\n",
       "      <td>...</td>\n",
       "    </tr>\n",
       "    <tr>\n",
       "      <th>95</th>\n",
       "      <td>11998446</td>\n",
       "      <td>1ST</td>\n",
       "      <td>first_serve_points</td>\n",
       "      <td>12/18 (67%)</td>\n",
       "      <td>12/16 (75%)</td>\n",
       "      <td>18.0</td>\n",
       "      <td>16.0</td>\n",
       "    </tr>\n",
       "    <tr>\n",
       "      <th>96</th>\n",
       "      <td>11998446</td>\n",
       "      <td>1ST</td>\n",
       "      <td>second_serve_points</td>\n",
       "      <td>7/11 (64%)</td>\n",
       "      <td>9/12 (75%)</td>\n",
       "      <td>11.0</td>\n",
       "      <td>12.0</td>\n",
       "    </tr>\n",
       "    <tr>\n",
       "      <th>97</th>\n",
       "      <td>11998446</td>\n",
       "      <td>1ST</td>\n",
       "      <td>service_games_played</td>\n",
       "      <td>5</td>\n",
       "      <td>5</td>\n",
       "      <td>NaN</td>\n",
       "      <td>NaN</td>\n",
       "    </tr>\n",
       "    <tr>\n",
       "      <th>98</th>\n",
       "      <td>11998446</td>\n",
       "      <td>1ST</td>\n",
       "      <td>break_points_saved</td>\n",
       "      <td>0/1 (0%)</td>\n",
       "      <td>2/2 (100%)</td>\n",
       "      <td>1.0</td>\n",
       "      <td>2.0</td>\n",
       "    </tr>\n",
       "    <tr>\n",
       "      <th>99</th>\n",
       "      <td>11998446</td>\n",
       "      <td>1ST</td>\n",
       "      <td>service_points_won</td>\n",
       "      <td>19</td>\n",
       "      <td>21</td>\n",
       "      <td>NaN</td>\n",
       "      <td>NaN</td>\n",
       "    </tr>\n",
       "  </tbody>\n",
       "</table>\n",
       "<p>100 rows × 7 columns</p>\n",
       "</div>"
      ],
      "text/plain": [
       "    match_id period        statistic_name     home_stat    away_stat  \\\n",
       "0   11998445    ALL                  aces            12            6   \n",
       "1   11998445    ALL         double_faults             2            7   \n",
       "2   11998445    ALL           first_serve  57/101 (56%)  53/90 (59%)   \n",
       "3   11998445    ALL          second_serve   42/44 (95%)  30/37 (81%)   \n",
       "4   11998445    ALL    first_serve_points   42/57 (74%)  39/53 (74%)   \n",
       "..       ...    ...                   ...           ...          ...   \n",
       "95  11998446    1ST    first_serve_points   12/18 (67%)  12/16 (75%)   \n",
       "96  11998446    1ST   second_serve_points    7/11 (64%)   9/12 (75%)   \n",
       "97  11998446    1ST  service_games_played             5            5   \n",
       "98  11998446    1ST    break_points_saved      0/1 (0%)   2/2 (100%)   \n",
       "99  11998446    1ST    service_points_won            19           21   \n",
       "\n",
       "    home_total  away_total  \n",
       "0          NaN         NaN  \n",
       "1          NaN         NaN  \n",
       "2        101.0        90.0  \n",
       "3         44.0        37.0  \n",
       "4         57.0        53.0  \n",
       "..         ...         ...  \n",
       "95        18.0        16.0  \n",
       "96        11.0        12.0  \n",
       "97         NaN         NaN  \n",
       "98         1.0         2.0  \n",
       "99         NaN         NaN  \n",
       "\n",
       "[100 rows x 7 columns]"
      ]
     },
     "execution_count": 22,
     "metadata": {},
     "output_type": "execute_result"
    }
   ],
   "source": [
    "days_to_query = os.listdir(\"../data/raw/tennis_data\")\n",
    "files_to_load = []\n",
    "\n",
    "for day in days_to_query:\n",
    "    files_to_load.extend(\n",
    "        glob(\n",
    "            f\"../data/raw/tennis_data/{day}/data/raw/raw_statistics*/statistics_*.parquet\"\n",
    "        )\n",
    "    )\n",
    "\n",
    "tennis_statistics_data_frame = pd.concat(\n",
    "    [\n",
    "        pd.read_parquet(\n",
    "            file,\n",
    "            columns=[\n",
    "                \"match_id\",\n",
    "                \"period\",\n",
    "                \"statistic_name\",\n",
    "                \"home_stat\",\n",
    "                \"away_stat\",\n",
    "                \"home_total\",\n",
    "                \"away_total\",\n",
    "            ],\n",
    "        )\n",
    "        for file in files_to_load\n",
    "    ],\n",
    "    ignore_index=True,\n",
    ")\n"
   ]
  },
  {
   "cell_type": "markdown",
   "id": "ab2d9584",
   "metadata": {},
   "source": [
    "### Reading data of Matches and Teams"
   ]
  },
  {
   "cell_type": "code",
   "execution_count": 40,
   "id": "abf29d34",
   "metadata": {},
   "outputs": [],
   "source": [
    "days_to_query_ = os.listdir(\"../data/raw/tennis_data\")\n",
    "files_to_load_ = []\n",
    "\n",
    "for day in days_to_query_:\n",
    "    files_to_load_.extend(\n",
    "        glob(\n",
    "            f\"../data/raw/tennis_data/{day}/data/raw/raw_match*/home_team_1*.parquet\"\n",
    "        )\n",
    "    )\n",
    "\n",
    "home_statistics_data_frame = pd.concat(\n",
    "    [\n",
    "        pd.read_parquet(\n",
    "            file,\n",
    "            columns=[\n",
    "                \"match_id\",\n",
    "                \"name\"\n",
    "            ],\n",
    "        )\n",
    "        for file in files_to_load_\n",
    "    ],\n",
    "    ignore_index=True,\n",
    ")"
   ]
  },
  {
   "cell_type": "code",
   "execution_count": 42,
   "id": "2ce8ca5b",
   "metadata": {},
   "outputs": [],
   "source": [
    "days_to_query__ = os.listdir(\"../data/raw/tennis_data\")\n",
    "files_to_load__ = []\n",
    "\n",
    "for day in days_to_query__:\n",
    "    files_to_load__.extend(\n",
    "        glob(\n",
    "            f\"../data/raw/tennis_data/{day}/data/raw/raw_match*/away_team_1*.parquet\"\n",
    "        )\n",
    "    )\n",
    "\n",
    "away_statistics_data_frame = pd.concat(\n",
    "    [\n",
    "        pd.read_parquet(\n",
    "            file,\n",
    "            columns=[\n",
    "                \"match_id\",\n",
    "                \"name\"\n",
    "            ],\n",
    "        )\n",
    "        for file in files_to_load__\n",
    "    ],\n",
    "    ignore_index=True,\n",
    ")\n"
   ]
  },
  {
   "cell_type": "markdown",
   "id": "f68a2390",
   "metadata": {},
   "source": [
    "Display data of home matches required information :"
   ]
  },
  {
   "cell_type": "code",
   "execution_count": 44,
   "id": "27bcc637",
   "metadata": {},
   "outputs": [
    {
     "data": {
      "application/vnd.microsoft.datawrangler.viewer.v0+json": {
       "columns": [
        {
         "name": "index",
         "rawType": "int64",
         "type": "integer"
        },
        {
         "name": "Match_id",
         "rawType": "int64",
         "type": "integer"
        },
        {
         "name": "Home Player",
         "rawType": "object",
         "type": "string"
        }
       ],
       "ref": "8b4e9b7a-fb22-4fa9-9cd2-dcff298d6a4c",
       "rows": [
        [
         "0",
         "11998445",
         "Cazaux A."
        ],
        [
         "1",
         "11998446",
         "Lestienne C."
        ],
        [
         "2",
         "11998447",
         "Ćorić B."
        ],
        [
         "3",
         "11998448",
         "Mmoh M."
        ],
        [
         "4",
         "11998449",
         "Paire B."
        ]
       ],
       "shape": {
        "columns": 2,
        "rows": 5
       }
      },
      "text/html": [
       "<div>\n",
       "<style scoped>\n",
       "    .dataframe tbody tr th:only-of-type {\n",
       "        vertical-align: middle;\n",
       "    }\n",
       "\n",
       "    .dataframe tbody tr th {\n",
       "        vertical-align: top;\n",
       "    }\n",
       "\n",
       "    .dataframe thead th {\n",
       "        text-align: right;\n",
       "    }\n",
       "</style>\n",
       "<table border=\"1\" class=\"dataframe\">\n",
       "  <thead>\n",
       "    <tr style=\"text-align: right;\">\n",
       "      <th></th>\n",
       "      <th>Match_id</th>\n",
       "      <th>Home Player</th>\n",
       "    </tr>\n",
       "  </thead>\n",
       "  <tbody>\n",
       "    <tr>\n",
       "      <th>0</th>\n",
       "      <td>11998445</td>\n",
       "      <td>Cazaux A.</td>\n",
       "    </tr>\n",
       "    <tr>\n",
       "      <th>1</th>\n",
       "      <td>11998446</td>\n",
       "      <td>Lestienne C.</td>\n",
       "    </tr>\n",
       "    <tr>\n",
       "      <th>2</th>\n",
       "      <td>11998447</td>\n",
       "      <td>Ćorić B.</td>\n",
       "    </tr>\n",
       "    <tr>\n",
       "      <th>3</th>\n",
       "      <td>11998448</td>\n",
       "      <td>Mmoh M.</td>\n",
       "    </tr>\n",
       "    <tr>\n",
       "      <th>4</th>\n",
       "      <td>11998449</td>\n",
       "      <td>Paire B.</td>\n",
       "    </tr>\n",
       "  </tbody>\n",
       "</table>\n",
       "</div>"
      ],
      "text/plain": [
       "   Match_id   Home Player\n",
       "0  11998445     Cazaux A.\n",
       "1  11998446  Lestienne C.\n",
       "2  11998447      Ćorić B.\n",
       "3  11998448       Mmoh M.\n",
       "4  11998449      Paire B."
      ]
     },
     "execution_count": 44,
     "metadata": {},
     "output_type": "execute_result"
    }
   ],
   "source": [
    "home_statistics_data_frame.rename(columns={\"name\" : \"Home Player\", \"match_id\" : \"Match_id\"}, inplace=True)\n",
    "home_statistics_data_frame.head()"
   ]
  },
  {
   "cell_type": "markdown",
   "id": "5df1da85",
   "metadata": {},
   "source": [
    "Display data of away matches required information :"
   ]
  },
  {
   "cell_type": "code",
   "execution_count": 46,
   "id": "88ae778f",
   "metadata": {},
   "outputs": [
    {
     "data": {
      "application/vnd.microsoft.datawrangler.viewer.v0+json": {
       "columns": [
        {
         "name": "index",
         "rawType": "int64",
         "type": "integer"
        },
        {
         "name": "Match_id",
         "rawType": "int64",
         "type": "integer"
        },
        {
         "name": "Away Player",
         "rawType": "object",
         "type": "string"
        }
       ],
       "ref": "5fd9a9eb-a4db-4bc2-b872-9acca2bb8d00",
       "rows": [
        [
         "0",
         "11998445",
         "Auger-Aliassime F."
        ],
        [
         "1",
         "11998446",
         "Cobolli F."
        ],
        [
         "2",
         "11998447",
         "Martínez P."
        ],
        [
         "3",
         "11998448",
         "Muller A."
        ],
        [
         "4",
         "11998449",
         "Mayot H."
        ]
       ],
       "shape": {
        "columns": 2,
        "rows": 5
       }
      },
      "text/html": [
       "<div>\n",
       "<style scoped>\n",
       "    .dataframe tbody tr th:only-of-type {\n",
       "        vertical-align: middle;\n",
       "    }\n",
       "\n",
       "    .dataframe tbody tr th {\n",
       "        vertical-align: top;\n",
       "    }\n",
       "\n",
       "    .dataframe thead th {\n",
       "        text-align: right;\n",
       "    }\n",
       "</style>\n",
       "<table border=\"1\" class=\"dataframe\">\n",
       "  <thead>\n",
       "    <tr style=\"text-align: right;\">\n",
       "      <th></th>\n",
       "      <th>Match_id</th>\n",
       "      <th>Away Player</th>\n",
       "    </tr>\n",
       "  </thead>\n",
       "  <tbody>\n",
       "    <tr>\n",
       "      <th>0</th>\n",
       "      <td>11998445</td>\n",
       "      <td>Auger-Aliassime F.</td>\n",
       "    </tr>\n",
       "    <tr>\n",
       "      <th>1</th>\n",
       "      <td>11998446</td>\n",
       "      <td>Cobolli F.</td>\n",
       "    </tr>\n",
       "    <tr>\n",
       "      <th>2</th>\n",
       "      <td>11998447</td>\n",
       "      <td>Martínez P.</td>\n",
       "    </tr>\n",
       "    <tr>\n",
       "      <th>3</th>\n",
       "      <td>11998448</td>\n",
       "      <td>Muller A.</td>\n",
       "    </tr>\n",
       "    <tr>\n",
       "      <th>4</th>\n",
       "      <td>11998449</td>\n",
       "      <td>Mayot H.</td>\n",
       "    </tr>\n",
       "  </tbody>\n",
       "</table>\n",
       "</div>"
      ],
      "text/plain": [
       "   Match_id         Away Player\n",
       "0  11998445  Auger-Aliassime F.\n",
       "1  11998446          Cobolli F.\n",
       "2  11998447         Martínez P.\n",
       "3  11998448           Muller A.\n",
       "4  11998449            Mayot H."
      ]
     },
     "execution_count": 46,
     "metadata": {},
     "output_type": "execute_result"
    }
   ],
   "source": [
    "away_statistics_data_frame.rename(columns={\"name\" : \"Away Player\", \"match_id\" : \"Match_id\"}, inplace=True)\n",
    "away_statistics_data_frame.head()"
   ]
  },
  {
   "cell_type": "markdown",
   "id": "f43fc82a",
   "metadata": {},
   "source": [
    "Merging whole data"
   ]
  },
  {
   "cell_type": "code",
   "execution_count": 57,
   "id": "92d61f50",
   "metadata": {},
   "outputs": [
    {
     "data": {
      "application/vnd.microsoft.datawrangler.viewer.v0+json": {
       "columns": [
        {
         "name": "index",
         "rawType": "int64",
         "type": "integer"
        },
        {
         "name": "Match_id",
         "rawType": "int64",
         "type": "integer"
        },
        {
         "name": "Home Player",
         "rawType": "object",
         "type": "string"
        },
        {
         "name": "Away Player",
         "rawType": "object",
         "type": "string"
        }
       ],
       "ref": "d1e3c951-6c4b-45bc-9a03-32e9e334c83d",
       "rows": [
        [
         "0",
         "11998445",
         "Cazaux A.",
         "Auger-Aliassime F."
        ],
        [
         "2",
         "11998446",
         "Lestienne C.",
         "Cobolli F."
        ],
        [
         "4",
         "11998447",
         "Ćorić B.",
         "Martínez P."
        ],
        [
         "6",
         "11998448",
         "Mmoh M.",
         "Muller A."
        ],
        [
         "7",
         "11998449",
         "Paire B.",
         "Mayot H."
        ],
        [
         "8",
         "11998450",
         "Shapovalov D.",
         "Bublik A."
        ],
        [
         "9",
         "11998451",
         "Shevchenko A.",
         "Barrere G."
        ],
        [
         "10",
         "11998456",
         "Shevchenko A.",
         "Bublik A."
        ],
        [
         "13",
         "11998459",
         "Rune H.",
         "Llamas Ruiz P."
        ],
        [
         "15",
         "11998666",
         "Saville L.",
         "Imai S."
        ],
        [
         "17",
         "11998667",
         "Uchiyama Y.",
         "Polmans M."
        ],
        [
         "19",
         "11998670",
         "Moriya H.",
         "Bolt A."
        ],
        [
         "21",
         "11998671",
         "Jasika O.",
         "Sweeny D."
        ],
        [
         "23",
         "11998672",
         "Imai S.",
         "Sekulic P."
        ],
        [
         "24",
         "11998674",
         "Saville L.",
         "Jones H."
        ],
        [
         "25",
         "11998675",
         "Hijikata R.",
         "Jasika O."
        ],
        [
         "26",
         "11998676",
         "Noguchi R.",
         "Sweeny D."
        ],
        [
         "27",
         "11998772",
         "Vandecasteele Q.",
         "Krueger M."
        ],
        [
         "29",
         "11998774",
         "Duckworth J.",
         "Maloney P."
        ],
        [
         "30",
         "11998780",
         "Quinn E.",
         "Kozlov S."
        ],
        [
         "32",
         "11998782",
         "Sandgren T.",
         "Fanselow S."
        ],
        [
         "33",
         "11998783",
         "Rubin N.",
         "Kudla D."
        ],
        [
         "34",
         "11998784",
         "Kwiatkowski T.",
         "Trotter J."
        ],
        [
         "36",
         "11998785",
         "Cassone M.",
         "Kypson P."
        ],
        [
         "37",
         "11998786",
         "Nava E.",
         "Brady P."
        ]
       ],
       "shape": {
        "columns": 3,
        "rows": 25
       }
      },
      "text/html": [
       "<div>\n",
       "<style scoped>\n",
       "    .dataframe tbody tr th:only-of-type {\n",
       "        vertical-align: middle;\n",
       "    }\n",
       "\n",
       "    .dataframe tbody tr th {\n",
       "        vertical-align: top;\n",
       "    }\n",
       "\n",
       "    .dataframe thead th {\n",
       "        text-align: right;\n",
       "    }\n",
       "</style>\n",
       "<table border=\"1\" class=\"dataframe\">\n",
       "  <thead>\n",
       "    <tr style=\"text-align: right;\">\n",
       "      <th></th>\n",
       "      <th>Match_id</th>\n",
       "      <th>Home Player</th>\n",
       "      <th>Away Player</th>\n",
       "    </tr>\n",
       "  </thead>\n",
       "  <tbody>\n",
       "    <tr>\n",
       "      <th>0</th>\n",
       "      <td>11998445</td>\n",
       "      <td>Cazaux A.</td>\n",
       "      <td>Auger-Aliassime F.</td>\n",
       "    </tr>\n",
       "    <tr>\n",
       "      <th>2</th>\n",
       "      <td>11998446</td>\n",
       "      <td>Lestienne C.</td>\n",
       "      <td>Cobolli F.</td>\n",
       "    </tr>\n",
       "    <tr>\n",
       "      <th>4</th>\n",
       "      <td>11998447</td>\n",
       "      <td>Ćorić B.</td>\n",
       "      <td>Martínez P.</td>\n",
       "    </tr>\n",
       "    <tr>\n",
       "      <th>6</th>\n",
       "      <td>11998448</td>\n",
       "      <td>Mmoh M.</td>\n",
       "      <td>Muller A.</td>\n",
       "    </tr>\n",
       "    <tr>\n",
       "      <th>7</th>\n",
       "      <td>11998449</td>\n",
       "      <td>Paire B.</td>\n",
       "      <td>Mayot H.</td>\n",
       "    </tr>\n",
       "    <tr>\n",
       "      <th>8</th>\n",
       "      <td>11998450</td>\n",
       "      <td>Shapovalov D.</td>\n",
       "      <td>Bublik A.</td>\n",
       "    </tr>\n",
       "    <tr>\n",
       "      <th>9</th>\n",
       "      <td>11998451</td>\n",
       "      <td>Shevchenko A.</td>\n",
       "      <td>Barrere G.</td>\n",
       "    </tr>\n",
       "    <tr>\n",
       "      <th>10</th>\n",
       "      <td>11998456</td>\n",
       "      <td>Shevchenko A.</td>\n",
       "      <td>Bublik A.</td>\n",
       "    </tr>\n",
       "    <tr>\n",
       "      <th>13</th>\n",
       "      <td>11998459</td>\n",
       "      <td>Rune H.</td>\n",
       "      <td>Llamas Ruiz P.</td>\n",
       "    </tr>\n",
       "    <tr>\n",
       "      <th>15</th>\n",
       "      <td>11998666</td>\n",
       "      <td>Saville L.</td>\n",
       "      <td>Imai S.</td>\n",
       "    </tr>\n",
       "    <tr>\n",
       "      <th>17</th>\n",
       "      <td>11998667</td>\n",
       "      <td>Uchiyama Y.</td>\n",
       "      <td>Polmans M.</td>\n",
       "    </tr>\n",
       "    <tr>\n",
       "      <th>19</th>\n",
       "      <td>11998670</td>\n",
       "      <td>Moriya H.</td>\n",
       "      <td>Bolt A.</td>\n",
       "    </tr>\n",
       "    <tr>\n",
       "      <th>21</th>\n",
       "      <td>11998671</td>\n",
       "      <td>Jasika O.</td>\n",
       "      <td>Sweeny D.</td>\n",
       "    </tr>\n",
       "    <tr>\n",
       "      <th>23</th>\n",
       "      <td>11998672</td>\n",
       "      <td>Imai S.</td>\n",
       "      <td>Sekulic P.</td>\n",
       "    </tr>\n",
       "    <tr>\n",
       "      <th>24</th>\n",
       "      <td>11998674</td>\n",
       "      <td>Saville L.</td>\n",
       "      <td>Jones H.</td>\n",
       "    </tr>\n",
       "    <tr>\n",
       "      <th>25</th>\n",
       "      <td>11998675</td>\n",
       "      <td>Hijikata R.</td>\n",
       "      <td>Jasika O.</td>\n",
       "    </tr>\n",
       "    <tr>\n",
       "      <th>26</th>\n",
       "      <td>11998676</td>\n",
       "      <td>Noguchi R.</td>\n",
       "      <td>Sweeny D.</td>\n",
       "    </tr>\n",
       "    <tr>\n",
       "      <th>27</th>\n",
       "      <td>11998772</td>\n",
       "      <td>Vandecasteele Q.</td>\n",
       "      <td>Krueger M.</td>\n",
       "    </tr>\n",
       "    <tr>\n",
       "      <th>29</th>\n",
       "      <td>11998774</td>\n",
       "      <td>Duckworth J.</td>\n",
       "      <td>Maloney P.</td>\n",
       "    </tr>\n",
       "    <tr>\n",
       "      <th>30</th>\n",
       "      <td>11998780</td>\n",
       "      <td>Quinn E.</td>\n",
       "      <td>Kozlov S.</td>\n",
       "    </tr>\n",
       "    <tr>\n",
       "      <th>32</th>\n",
       "      <td>11998782</td>\n",
       "      <td>Sandgren T.</td>\n",
       "      <td>Fanselow S.</td>\n",
       "    </tr>\n",
       "    <tr>\n",
       "      <th>33</th>\n",
       "      <td>11998783</td>\n",
       "      <td>Rubin N.</td>\n",
       "      <td>Kudla D.</td>\n",
       "    </tr>\n",
       "    <tr>\n",
       "      <th>34</th>\n",
       "      <td>11998784</td>\n",
       "      <td>Kwiatkowski T.</td>\n",
       "      <td>Trotter J.</td>\n",
       "    </tr>\n",
       "    <tr>\n",
       "      <th>36</th>\n",
       "      <td>11998785</td>\n",
       "      <td>Cassone M.</td>\n",
       "      <td>Kypson P.</td>\n",
       "    </tr>\n",
       "    <tr>\n",
       "      <th>37</th>\n",
       "      <td>11998786</td>\n",
       "      <td>Nava E.</td>\n",
       "      <td>Brady P.</td>\n",
       "    </tr>\n",
       "  </tbody>\n",
       "</table>\n",
       "</div>"
      ],
      "text/plain": [
       "    Match_id       Home Player         Away Player\n",
       "0   11998445         Cazaux A.  Auger-Aliassime F.\n",
       "2   11998446      Lestienne C.          Cobolli F.\n",
       "4   11998447          Ćorić B.         Martínez P.\n",
       "6   11998448           Mmoh M.           Muller A.\n",
       "7   11998449          Paire B.            Mayot H.\n",
       "8   11998450     Shapovalov D.           Bublik A.\n",
       "9   11998451     Shevchenko A.          Barrere G.\n",
       "10  11998456     Shevchenko A.           Bublik A.\n",
       "13  11998459           Rune H.      Llamas Ruiz P.\n",
       "15  11998666        Saville L.             Imai S.\n",
       "17  11998667       Uchiyama Y.          Polmans M.\n",
       "19  11998670         Moriya H.             Bolt A.\n",
       "21  11998671         Jasika O.           Sweeny D.\n",
       "23  11998672           Imai S.          Sekulic P.\n",
       "24  11998674        Saville L.            Jones H.\n",
       "25  11998675       Hijikata R.           Jasika O.\n",
       "26  11998676        Noguchi R.           Sweeny D.\n",
       "27  11998772  Vandecasteele Q.          Krueger M.\n",
       "29  11998774      Duckworth J.          Maloney P.\n",
       "30  11998780          Quinn E.           Kozlov S.\n",
       "32  11998782       Sandgren T.         Fanselow S.\n",
       "33  11998783          Rubin N.            Kudla D.\n",
       "34  11998784    Kwiatkowski T.          Trotter J.\n",
       "36  11998785        Cassone M.           Kypson P.\n",
       "37  11998786           Nava E.            Brady P."
      ]
     },
     "execution_count": 57,
     "metadata": {},
     "output_type": "execute_result"
    }
   ],
   "source": [
    "merged_df = pd.merge(home_statistics_data_frame, away_statistics_data_frame, on=\"Match_id\", how=\"inner\")\n",
    "merged_df.rename(columns={'Home_Player_Name': 'Home_Player', 'Away_Player_Name': 'Away_Player'}, inplace=True)\n",
    "merged_df_unique = merged_df.drop_duplicates()\n",
    "merged_df_unique.head(25)"
   ]
  },
  {
   "cell_type": "code",
   "execution_count": null,
   "id": "ed24bcbf",
   "metadata": {},
   "outputs": [],
   "source": []
  }
 ],
 "metadata": {
  "kernelspec": {
   "display_name": "venv (3.12.10)",
   "language": "python",
   "name": "python3"
  },
  "language_info": {
   "codemirror_mode": {
    "name": "ipython",
    "version": 3
   },
   "file_extension": ".py",
   "mimetype": "text/x-python",
   "name": "python",
   "nbconvert_exporter": "python",
   "pygments_lexer": "ipython3",
   "version": "3.12.10"
  }
 },
 "nbformat": 4,
 "nbformat_minor": 5
}
