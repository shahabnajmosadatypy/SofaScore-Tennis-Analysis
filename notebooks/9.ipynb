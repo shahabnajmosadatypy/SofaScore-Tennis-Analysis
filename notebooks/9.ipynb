{
 "cells": [
  {
   "cell_type": "markdown",
   "id": "09e93ed6",
   "metadata": {},
   "source": [
    "# 9th Question"
   ]
  },
  {
   "cell_type": "markdown",
   "id": "22c9d556",
   "metadata": {},
   "source": [
    "### Which player has won the mos tournaments in a single month?"
   ]
  },
  {
   "cell_type": "markdown",
   "id": "01a79035",
   "metadata": {},
   "source": [
    "Installing needed packages"
   ]
  },
  {
   "cell_type": "code",
   "execution_count": 5,
   "id": "2f7ca80b",
   "metadata": {},
   "outputs": [
    {
     "name": "stdout",
     "output_type": "stream",
     "text": [
      "Requirement already satisfied: numpy in c:\\users\\shahab\\documents\\codes\\sofascore-tennis-analysis\\venv\\lib\\site-packages (2.3.1)\n",
      "Requirement already satisfied: pandas in c:\\users\\shahab\\documents\\codes\\sofascore-tennis-analysis\\venv\\lib\\site-packages (2.3.1)\n",
      "Requirement already satisfied: pyarrow in c:\\users\\shahab\\documents\\codes\\sofascore-tennis-analysis\\venv\\lib\\site-packages (20.0.0)\n",
      "Requirement already satisfied: python-dateutil>=2.8.2 in c:\\users\\shahab\\documents\\codes\\sofascore-tennis-analysis\\venv\\lib\\site-packages (from pandas) (2.9.0.post0)\n",
      "Requirement already satisfied: pytz>=2020.1 in c:\\users\\shahab\\documents\\codes\\sofascore-tennis-analysis\\venv\\lib\\site-packages (from pandas) (2025.2)\n",
      "Requirement already satisfied: tzdata>=2022.7 in c:\\users\\shahab\\documents\\codes\\sofascore-tennis-analysis\\venv\\lib\\site-packages (from pandas) (2025.2)\n",
      "Requirement already satisfied: six>=1.5 in c:\\users\\shahab\\documents\\codes\\sofascore-tennis-analysis\\venv\\lib\\site-packages (from python-dateutil>=2.8.2->pandas) (1.17.0)\n",
      "Note: you may need to restart the kernel to use updated packages.\n"
     ]
    }
   ],
   "source": [
    "%pip install numpy pandas pyarrow"
   ]
  },
  {
   "cell_type": "markdown",
   "id": "ede9ee4a",
   "metadata": {},
   "source": [
    "Importing needed packages"
   ]
  },
  {
   "cell_type": "code",
   "execution_count": 6,
   "id": "58e64ab3",
   "metadata": {},
   "outputs": [],
   "source": [
    "import pandas as pd\n",
    "import numpy as np\n",
    "from glob import glob\n",
    "import os"
   ]
  },
  {
   "cell_type": "markdown",
   "id": "6ad5dbeb",
   "metadata": {},
   "source": [
    "# Reading .parquet data\n",
    "According to question and ERD in /data/ERD folder as Tennis Schema.pdf , We are analyzing which player has the highest win rate, Reading data of matchs\n",
    "It might take few seconds to read data"
   ]
  },
  {
   "cell_type": "code",
   "execution_count": null,
   "id": "4b423eda",
   "metadata": {},
   "outputs": [],
   "source": []
  }
 ],
 "metadata": {
  "kernelspec": {
   "display_name": "venv (3.12.10)",
   "language": "python",
   "name": "python3"
  },
  "language_info": {
   "codemirror_mode": {
    "name": "ipython",
    "version": 3
   },
   "file_extension": ".py",
   "mimetype": "text/x-python",
   "name": "python",
   "nbconvert_exporter": "python",
   "pygments_lexer": "ipython3",
   "version": "3.12.10"
  }
 },
 "nbformat": 4,
 "nbformat_minor": 5
}
