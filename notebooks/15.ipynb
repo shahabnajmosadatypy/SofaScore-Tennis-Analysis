{
 "cells": [
  {
   "cell_type": "markdown",
   "id": "3d0bd185",
   "metadata": {},
   "source": [
    "# 15th Question"
   ]
  },
  {
   "cell_type": "markdown",
   "id": "a9c0a19b",
   "metadata": {},
   "source": [
    "### How many distinct countries are represented in the dataset?"
   ]
  },
  {
   "cell_type": "markdown",
   "id": "ee1b01be",
   "metadata": {},
   "source": [
    "Installing needed packages"
   ]
  },
  {
   "cell_type": "code",
   "execution_count": null,
   "id": "d3b980ab",
   "metadata": {},
   "outputs": [
    {
     "name": "stdout",
     "output_type": "stream",
     "text": [
      "Requirement already satisfied: numpy in c:\\users\\shahab\\documents\\codes\\sofascore-tennis-analysis\\venv\\lib\\site-packages (2.3.1)\n",
      "Requirement already satisfied: pandas in c:\\users\\shahab\\documents\\codes\\sofascore-tennis-analysis\\venv\\lib\\site-packages (2.3.1)\n",
      "Requirement already satisfied: pyarrow in c:\\users\\shahab\\documents\\codes\\sofascore-tennis-analysis\\venv\\lib\\site-packages (20.0.0)\n",
      "Requirement already satisfied: matplotlib in c:\\users\\shahab\\documents\\codes\\sofascore-tennis-analysis\\venv\\lib\\site-packages (3.10.3)\n",
      "Requirement already satisfied: python-dateutil>=2.8.2 in c:\\users\\shahab\\documents\\codes\\sofascore-tennis-analysis\\venv\\lib\\site-packages (from pandas) (2.9.0.post0)\n",
      "Requirement already satisfied: pytz>=2020.1 in c:\\users\\shahab\\documents\\codes\\sofascore-tennis-analysis\\venv\\lib\\site-packages (from pandas) (2025.2)\n",
      "Requirement already satisfied: tzdata>=2022.7 in c:\\users\\shahab\\documents\\codes\\sofascore-tennis-analysis\\venv\\lib\\site-packages (from pandas) (2025.2)\n",
      "Requirement already satisfied: contourpy>=1.0.1 in c:\\users\\shahab\\documents\\codes\\sofascore-tennis-analysis\\venv\\lib\\site-packages (from matplotlib) (1.3.2)\n",
      "Requirement already satisfied: cycler>=0.10 in c:\\users\\shahab\\documents\\codes\\sofascore-tennis-analysis\\venv\\lib\\site-packages (from matplotlib) (0.12.1)\n",
      "Requirement already satisfied: fonttools>=4.22.0 in c:\\users\\shahab\\documents\\codes\\sofascore-tennis-analysis\\venv\\lib\\site-packages (from matplotlib) (4.58.5)\n",
      "Requirement already satisfied: kiwisolver>=1.3.1 in c:\\users\\shahab\\documents\\codes\\sofascore-tennis-analysis\\venv\\lib\\site-packages (from matplotlib) (1.4.8)\n",
      "Requirement already satisfied: packaging>=20.0 in c:\\users\\shahab\\documents\\codes\\sofascore-tennis-analysis\\venv\\lib\\site-packages (from matplotlib) (25.0)\n",
      "Requirement already satisfied: pillow>=8 in c:\\users\\shahab\\documents\\codes\\sofascore-tennis-analysis\\venv\\lib\\site-packages (from matplotlib) (11.3.0)\n",
      "Requirement already satisfied: pyparsing>=2.3.1 in c:\\users\\shahab\\documents\\codes\\sofascore-tennis-analysis\\venv\\lib\\site-packages (from matplotlib) (3.2.3)\n",
      "Requirement already satisfied: six>=1.5 in c:\\users\\shahab\\documents\\codes\\sofascore-tennis-analysis\\venv\\lib\\site-packages (from python-dateutil>=2.8.2->pandas) (1.17.0)\n",
      "Note: you may need to restart the kernel to use updated packages.\n"
     ]
    }
   ],
   "source": [
    "%pip install numpy pandas pyarrow matplotlib seaborn"
   ]
  },
  {
   "cell_type": "markdown",
   "id": "6e92320e",
   "metadata": {},
   "source": [
    "Importing needed packages"
   ]
  },
  {
   "cell_type": "code",
   "execution_count": 21,
   "id": "446ec286",
   "metadata": {},
   "outputs": [],
   "source": [
    "import pandas as pd\n",
    "import matplotlib.pyplot as plt\n",
    "import seaborn as sns\n",
    "from glob import glob\n",
    "import os"
   ]
  },
  {
   "cell_type": "markdown",
   "id": "6bd9ae7b",
   "metadata": {},
   "source": [
    "# Reading .parquet data\n",
    "According to question and ERD in /data/ERD folder as Tennis Schema.pdf , We are analyzing and Reading data of matchs\n",
    "It might take few seconds to read data"
   ]
  },
  {
   "cell_type": "markdown",
   "id": "59706198",
   "metadata": {},
   "source": [
    "Reading data of home matches required information :"
   ]
  },
  {
   "cell_type": "code",
   "execution_count": 3,
   "id": "d88ea93f",
   "metadata": {},
   "outputs": [],
   "source": [
    "days_to_query_home = os.listdir(\"../data/raw/tennis_data\")\n",
    "files_to_load_home = []\n",
    "\n",
    "for day in days_to_query_home:\n",
    "    files_to_load_home.extend(\n",
    "        glob(f\"../data/raw/tennis_data/{day}/data/raw/raw_match*/home_team_1*.parquet\")\n",
    "    )\n",
    "\n",
    "home_statistics_data_frame = pd.concat(\n",
    "    [\n",
    "        pd.read_parquet(\n",
    "            file,\n",
    "            columns=[\"match_id\", \"residence\"],\n",
    "        )\n",
    "        for file in files_to_load_home\n",
    "    ],\n",
    "    ignore_index=True,\n",
    ")"
   ]
  },
  {
   "cell_type": "markdown",
   "id": "ebca6d39",
   "metadata": {},
   "source": [
    "Reading data of away matches required information :"
   ]
  },
  {
   "cell_type": "code",
   "execution_count": 4,
   "id": "9031aa92",
   "metadata": {},
   "outputs": [],
   "source": [
    "days_to_query_away = os.listdir(\"../data/raw/tennis_data\")\n",
    "files_to_load_away = []\n",
    "\n",
    "for day in days_to_query_away:\n",
    "    files_to_load_away.extend(\n",
    "        glob(f\"../data/raw/tennis_data/{day}/data/raw/raw_match*/away_team_1*.parquet\")\n",
    "    )\n",
    "\n",
    "away_statistics_data_frame = pd.concat(\n",
    "    [\n",
    "        pd.read_parquet(\n",
    "            file,\n",
    "            columns=[\"match_id\", \"name\", \"residence\"],\n",
    "        )\n",
    "        for file in files_to_load_away\n",
    "    ],\n",
    "    ignore_index=True,\n",
    ")"
   ]
  },
  {
   "cell_type": "markdown",
   "id": "baa74600",
   "metadata": {},
   "source": [
    "## Concat whole data and make a dataframe of countries"
   ]
  },
  {
   "cell_type": "code",
   "execution_count": 5,
   "id": "909ab6c9",
   "metadata": {},
   "outputs": [
    {
     "data": {
      "application/vnd.microsoft.datawrangler.viewer.v0+json": {
       "columns": [
        {
         "name": "index",
         "rawType": "int64",
         "type": "integer"
        },
        {
         "name": "match_id",
         "rawType": "int64",
         "type": "integer"
        },
        {
         "name": "residence",
         "rawType": "object",
         "type": "unknown"
        },
        {
         "name": "name",
         "rawType": "object",
         "type": "unknown"
        }
       ],
       "ref": "6caea458-17d2-4ade-845e-1e1b0940dd0a",
       "rows": [
        [
         "0",
         "12042640",
         "1-74-4 Sakae Ina-machi",
         null
        ],
        [
         "12391",
         "12209104",
         "1-74-4 Sakae Ina-machi",
         "Saitoh K."
        ],
        [
         "12392",
         "12195291",
         "1-74-4 Sakae Ina-machi",
         "Saitoh K."
        ],
        [
         "12393",
         "12046872",
         "1-74-4 Sakae Ina-machi",
         "Saitoh K."
        ],
        [
         "12394",
         "12086235",
         "1-74-4 Sakae Ina-machi",
         "Saitoh K."
        ],
        [
         "12395",
         "12187079",
         "1-74-4 Sakae Ina-machi",
         "Saitoh K."
        ],
        [
         "12396",
         "12167341",
         "1-74-4 Sakae Ina-machi",
         "Saitoh K."
        ],
        [
         "12397",
         "12190068",
         "1-74-4 Sakae Ina-machi",
         "Saitoh K."
        ],
        [
         "12389",
         "12156419",
         "1-74-4 Sakae Ina-machi",
         "Saitoh K."
        ],
        [
         "12390",
         "12211325",
         "1-74-4 Sakae Ina-machi",
         "Saitoh K."
        ],
        [
         "1",
         "12152449",
         "1-74-4 Sakae Ina-machi",
         null
        ],
        [
         "2",
         "12143315",
         "1-74-4 Sakae Ina-machi",
         null
        ],
        [
         "3",
         "12083402",
         "1-74-4 Sakae Ina-machi",
         null
        ],
        [
         "4",
         "12039949",
         "1-74-4 Sakae Ina-machi",
         null
        ],
        [
         "5",
         "12145907",
         "1-74-4 Sakae Ina-machi",
         null
        ],
        [
         "6",
         "12148944",
         "1-74-4 Sakae Ina-machi",
         null
        ],
        [
         "7",
         "12045455",
         "1-74-4 Sakae Ina-machi",
         null
        ],
        [
         "8",
         "12156216",
         "Acapulco",
         null
        ],
        [
         "12398",
         "12166935",
         "Acapulco",
         "Hernández A."
        ],
        [
         "9",
         "12210881",
         "Acapulco",
         null
        ],
        [
         "10",
         "12131552",
         "Adelaide, Australia",
         null
        ],
        [
         "12399",
         "12064029",
         "Adelaide, Australia",
         "Kokkinakis T."
        ],
        [
         "12400",
         "12097141",
         "Adelaide, Australia",
         "Kokkinakis T."
        ],
        [
         "12402",
         "12168834",
         "Adelaide, Australia",
         "Kokkinakis T."
        ],
        [
         "12403",
         "12148933",
         "Adelaide, Australia",
         "Kokkinakis T."
        ],
        [
         "16",
         "12057500",
         "Adelaide, Australia",
         null
        ],
        [
         "15",
         "12067193",
         "Adelaide, Australia",
         null
        ],
        [
         "14",
         "12061694",
         "Adelaide, Australia",
         null
        ],
        [
         "13",
         "12078335",
         "Adelaide, Australia",
         null
        ],
        [
         "12",
         "12128165",
         "Adelaide, Australia",
         null
        ],
        [
         "11",
         "12109972",
         "Adelaide, Australia",
         null
        ],
        [
         "12401",
         "12067194",
         "Adelaide, Australia",
         "Kokkinakis T."
        ],
        [
         "17",
         "12131547",
         "Adelaide, Australia",
         null
        ],
        [
         "12404",
         "12041758",
         "Aichi, Japan",
         "Hibino N."
        ],
        [
         "12405",
         "12056796",
         "Aichi, Japan",
         "Hibino N."
        ],
        [
         "12406",
         "12147952",
         "Aichi, Japan",
         "Hibino N."
        ],
        [
         "12407",
         "12074649",
         "Aichi, Japan",
         "Hibino N."
        ],
        [
         "25",
         "12058888",
         "Aichi, Japan",
         null
        ],
        [
         "19",
         "12056234",
         "Aichi, Japan",
         null
        ],
        [
         "20",
         "12110026",
         "Aichi, Japan",
         null
        ],
        [
         "21",
         "12054731",
         "Aichi, Japan",
         null
        ],
        [
         "22",
         "12122320",
         "Aichi, Japan",
         null
        ],
        [
         "23",
         "12151938",
         "Aichi, Japan",
         null
        ],
        [
         "24",
         "12072052",
         "Aichi, Japan",
         null
        ],
        [
         "26",
         "12131375",
         "Aichi, Japan",
         null
        ],
        [
         "27",
         "12131636",
         "Aichi, Japan",
         null
        ],
        [
         "28",
         "12166353",
         "Aichi, Japan",
         null
        ],
        [
         "29",
         "12077080",
         "Aichi, Japan",
         null
        ],
        [
         "30",
         "12124907",
         "Aichi, Japan",
         null
        ],
        [
         "18",
         "12067260",
         "Aichi, Japan",
         null
        ]
       ],
       "shape": {
        "columns": 3,
        "rows": 24079
       }
      },
      "text/html": [
       "<div>\n",
       "<style scoped>\n",
       "    .dataframe tbody tr th:only-of-type {\n",
       "        vertical-align: middle;\n",
       "    }\n",
       "\n",
       "    .dataframe tbody tr th {\n",
       "        vertical-align: top;\n",
       "    }\n",
       "\n",
       "    .dataframe thead th {\n",
       "        text-align: right;\n",
       "    }\n",
       "</style>\n",
       "<table border=\"1\" class=\"dataframe\">\n",
       "  <thead>\n",
       "    <tr style=\"text-align: right;\">\n",
       "      <th></th>\n",
       "      <th>match_id</th>\n",
       "      <th>residence</th>\n",
       "      <th>name</th>\n",
       "    </tr>\n",
       "  </thead>\n",
       "  <tbody>\n",
       "    <tr>\n",
       "      <th>0</th>\n",
       "      <td>12042640</td>\n",
       "      <td>1-74-4 Sakae Ina-machi</td>\n",
       "      <td>NaN</td>\n",
       "    </tr>\n",
       "    <tr>\n",
       "      <th>12391</th>\n",
       "      <td>12209104</td>\n",
       "      <td>1-74-4 Sakae Ina-machi</td>\n",
       "      <td>Saitoh K.</td>\n",
       "    </tr>\n",
       "    <tr>\n",
       "      <th>12392</th>\n",
       "      <td>12195291</td>\n",
       "      <td>1-74-4 Sakae Ina-machi</td>\n",
       "      <td>Saitoh K.</td>\n",
       "    </tr>\n",
       "    <tr>\n",
       "      <th>12393</th>\n",
       "      <td>12046872</td>\n",
       "      <td>1-74-4 Sakae Ina-machi</td>\n",
       "      <td>Saitoh K.</td>\n",
       "    </tr>\n",
       "    <tr>\n",
       "      <th>12394</th>\n",
       "      <td>12086235</td>\n",
       "      <td>1-74-4 Sakae Ina-machi</td>\n",
       "      <td>Saitoh K.</td>\n",
       "    </tr>\n",
       "    <tr>\n",
       "      <th>...</th>\n",
       "      <td>...</td>\n",
       "      <td>...</td>\n",
       "      <td>...</td>\n",
       "    </tr>\n",
       "    <tr>\n",
       "      <th>24074</th>\n",
       "      <td>12212205</td>\n",
       "      <td>None</td>\n",
       "      <td>Ratti L.</td>\n",
       "    </tr>\n",
       "    <tr>\n",
       "      <th>24075</th>\n",
       "      <td>12212212</td>\n",
       "      <td>None</td>\n",
       "      <td>Derdoy F.</td>\n",
       "    </tr>\n",
       "    <tr>\n",
       "      <th>24076</th>\n",
       "      <td>12212215</td>\n",
       "      <td>None</td>\n",
       "      <td>Simonit E.</td>\n",
       "    </tr>\n",
       "    <tr>\n",
       "      <th>24077</th>\n",
       "      <td>12213156</td>\n",
       "      <td>None</td>\n",
       "      <td>Soriano Barrera A.</td>\n",
       "    </tr>\n",
       "    <tr>\n",
       "      <th>24078</th>\n",
       "      <td>12213459</td>\n",
       "      <td>None</td>\n",
       "      <td>Lumsden E.</td>\n",
       "    </tr>\n",
       "  </tbody>\n",
       "</table>\n",
       "<p>24079 rows × 3 columns</p>\n",
       "</div>"
      ],
      "text/plain": [
       "       match_id               residence                name\n",
       "0      12042640  1-74-4 Sakae Ina-machi                 NaN\n",
       "12391  12209104  1-74-4 Sakae Ina-machi           Saitoh K.\n",
       "12392  12195291  1-74-4 Sakae Ina-machi           Saitoh K.\n",
       "12393  12046872  1-74-4 Sakae Ina-machi           Saitoh K.\n",
       "12394  12086235  1-74-4 Sakae Ina-machi           Saitoh K.\n",
       "...         ...                     ...                 ...\n",
       "24074  12212205                    None            Ratti L.\n",
       "24075  12212212                    None           Derdoy F.\n",
       "24076  12212215                    None          Simonit E.\n",
       "24077  12213156                    None  Soriano Barrera A.\n",
       "24078  12213459                    None          Lumsden E.\n",
       "\n",
       "[24079 rows x 3 columns]"
      ]
     },
     "execution_count": 5,
     "metadata": {},
     "output_type": "execute_result"
    }
   ],
   "source": [
    "home_statistics_data_frame.sort_values(by=\"residence\", inplace=True)\n",
    "home_statistics_data_frame.drop_duplicates(subset=\"match_id\", inplace=True)\n",
    "\n",
    "away_statistics_data_frame.sort_values(by=\"residence\", inplace=True)\n",
    "away_statistics_data_frame.drop_duplicates(subset=\"match_id\", inplace=True)\n",
    "\n",
    "combined_df = pd.concat(\n",
    "    [home_statistics_data_frame, away_statistics_data_frame], ignore_index=True\n",
    ")\n",
    "unique_df = combined_df.drop_duplicates()\n",
    "sorted_df = unique_df.sort_values(by=\"residence\")\n",
    "sorted_df"
   ]
  },
  {
   "cell_type": "markdown",
   "id": "0b64a27e",
   "metadata": {},
   "source": [
    "We're forced to clean missing, null, NaN values"
   ]
  },
  {
   "cell_type": "code",
   "execution_count": null,
   "id": "49a8b608",
   "metadata": {},
   "outputs": [
    {
     "data": {
      "application/vnd.microsoft.datawrangler.viewer.v0+json": {
       "columns": [
        {
         "name": "index",
         "rawType": "int64",
         "type": "integer"
        },
        {
         "name": "match_id",
         "rawType": "int64",
         "type": "integer"
        },
        {
         "name": "residence",
         "rawType": "object",
         "type": "string"
        },
        {
         "name": "name",
         "rawType": "object",
         "type": "string"
        }
       ],
       "ref": "70c9c8df-706f-4939-b2e3-b1d753b9eb8f",
       "rows": [
        [
         "12391",
         "12209104",
         "1-74-4 Sakae Ina-machi",
         "Saitoh K."
        ],
        [
         "12392",
         "12195291",
         "1-74-4 Sakae Ina-machi",
         "Saitoh K."
        ],
        [
         "12393",
         "12046872",
         "1-74-4 Sakae Ina-machi",
         "Saitoh K."
        ],
        [
         "12394",
         "12086235",
         "1-74-4 Sakae Ina-machi",
         "Saitoh K."
        ],
        [
         "12395",
         "12187079",
         "1-74-4 Sakae Ina-machi",
         "Saitoh K."
        ],
        [
         "12396",
         "12167341",
         "1-74-4 Sakae Ina-machi",
         "Saitoh K."
        ],
        [
         "12397",
         "12190068",
         "1-74-4 Sakae Ina-machi",
         "Saitoh K."
        ],
        [
         "12389",
         "12156419",
         "1-74-4 Sakae Ina-machi",
         "Saitoh K."
        ],
        [
         "12390",
         "12211325",
         "1-74-4 Sakae Ina-machi",
         "Saitoh K."
        ],
        [
         "12398",
         "12166935",
         "Acapulco",
         "Hernández A."
        ],
        [
         "12399",
         "12064029",
         "Adelaide, Australia",
         "Kokkinakis T."
        ],
        [
         "12400",
         "12097141",
         "Adelaide, Australia",
         "Kokkinakis T."
        ],
        [
         "12402",
         "12168834",
         "Adelaide, Australia",
         "Kokkinakis T."
        ],
        [
         "12403",
         "12148933",
         "Adelaide, Australia",
         "Kokkinakis T."
        ],
        [
         "12401",
         "12067194",
         "Adelaide, Australia",
         "Kokkinakis T."
        ],
        [
         "12404",
         "12041758",
         "Aichi, Japan",
         "Hibino N."
        ],
        [
         "12405",
         "12056796",
         "Aichi, Japan",
         "Hibino N."
        ],
        [
         "12406",
         "12147952",
         "Aichi, Japan",
         "Hibino N."
        ],
        [
         "12407",
         "12074649",
         "Aichi, Japan",
         "Hibino N."
        ],
        [
         "12414",
         "12045823",
         "Alicante",
         "Vanshelboim E."
        ],
        [
         "12413",
         "12059941",
         "Alicante",
         "Vanshelboim E."
        ],
        [
         "12412",
         "12098837",
         "Alicante",
         "Vanshelboim E."
        ],
        [
         "12411",
         "12058608",
         "Alicante",
         "Vanshelboim E."
        ],
        [
         "12410",
         "12100958",
         "Alicante",
         "Vanshelboim E."
        ],
        [
         "12408",
         "12194086",
         "Alicante",
         "Vanshelboim E."
        ],
        [
         "12409",
         "12077025",
         "Alicante",
         "Vanshelboim E."
        ],
        [
         "12417",
         "12087923",
         "Alicante, Spain",
         "de Minaur A."
        ],
        [
         "12416",
         "12109962",
         "Alicante, Spain",
         "de Minaur A."
        ],
        [
         "12415",
         "12049638",
         "Alicante, Spain",
         "de Minaur A."
        ],
        [
         "12418",
         "12109968",
         "Alicante, Spain",
         "de Minaur A."
        ],
        [
         "12420",
         "12049636",
         "Alicante, Spain",
         "de Minaur A."
        ],
        [
         "12419",
         "12110014",
         "Alicante, Spain",
         "de Minaur A."
        ],
        [
         "12422",
         "12106032",
         "Allentown, PA, USA",
         "Lepchenko V."
        ],
        [
         "12421",
         "12154855",
         "Allentown, PA, USA",
         "Lepchenko V."
        ],
        [
         "12429",
         "12112643",
         "Allentown, PA, USA",
         "Lepchenko V."
        ],
        [
         "12430",
         "12083654",
         "Allentown, PA, USA",
         "Lepchenko V."
        ],
        [
         "12427",
         "12148594",
         "Allentown, PA, USA",
         "Lepchenko V."
        ],
        [
         "12426",
         "12115412",
         "Allentown, PA, USA",
         "Lepchenko V."
        ],
        [
         "12425",
         "12084018",
         "Allentown, PA, USA",
         "Lepchenko V."
        ],
        [
         "12424",
         "12119359",
         "Allentown, PA, USA",
         "Lepchenko V."
        ],
        [
         "12423",
         "12046580",
         "Allentown, PA, USA",
         "Lepchenko V."
        ],
        [
         "12428",
         "12206515",
         "Allentown, PA, USA",
         "Lepchenko V."
        ],
        [
         "12431",
         "12098312",
         "Alphen aan den Rijn",
         "Sels J."
        ],
        [
         "12432",
         "12197786",
         "Alphen aan den Rijn",
         "Sels J."
        ],
        [
         "12433",
         "12083609",
         "Alphen aan den Rijn",
         "Sels J."
        ],
        [
         "12435",
         "12065004",
         "Alphen aan den Rijn",
         "Sels J."
        ],
        [
         "12434",
         "12098852",
         "Alphen aan den Rijn",
         "Sels J."
        ],
        [
         "12444",
         "12189714",
         "Alvor, Portugal",
         "Oliveira G."
        ],
        [
         "12442",
         "12109834",
         "Alvor, Portugal",
         "Oliveira G."
        ],
        [
         "12441",
         "12174261",
         "Alvor, Portugal",
         "Oliveira G."
        ]
       ],
       "shape": {
        "columns": 3,
        "rows": 3393
       }
      },
      "text/html": [
       "<div>\n",
       "<style scoped>\n",
       "    .dataframe tbody tr th:only-of-type {\n",
       "        vertical-align: middle;\n",
       "    }\n",
       "\n",
       "    .dataframe tbody tr th {\n",
       "        vertical-align: top;\n",
       "    }\n",
       "\n",
       "    .dataframe thead th {\n",
       "        text-align: right;\n",
       "    }\n",
       "</style>\n",
       "<table border=\"1\" class=\"dataframe\">\n",
       "  <thead>\n",
       "    <tr style=\"text-align: right;\">\n",
       "      <th></th>\n",
       "      <th>match_id</th>\n",
       "      <th>residence</th>\n",
       "      <th>name</th>\n",
       "    </tr>\n",
       "  </thead>\n",
       "  <tbody>\n",
       "    <tr>\n",
       "      <th>12391</th>\n",
       "      <td>12209104</td>\n",
       "      <td>1-74-4 Sakae Ina-machi</td>\n",
       "      <td>Saitoh K.</td>\n",
       "    </tr>\n",
       "    <tr>\n",
       "      <th>12392</th>\n",
       "      <td>12195291</td>\n",
       "      <td>1-74-4 Sakae Ina-machi</td>\n",
       "      <td>Saitoh K.</td>\n",
       "    </tr>\n",
       "    <tr>\n",
       "      <th>12393</th>\n",
       "      <td>12046872</td>\n",
       "      <td>1-74-4 Sakae Ina-machi</td>\n",
       "      <td>Saitoh K.</td>\n",
       "    </tr>\n",
       "    <tr>\n",
       "      <th>12394</th>\n",
       "      <td>12086235</td>\n",
       "      <td>1-74-4 Sakae Ina-machi</td>\n",
       "      <td>Saitoh K.</td>\n",
       "    </tr>\n",
       "    <tr>\n",
       "      <th>12395</th>\n",
       "      <td>12187079</td>\n",
       "      <td>1-74-4 Sakae Ina-machi</td>\n",
       "      <td>Saitoh K.</td>\n",
       "    </tr>\n",
       "    <tr>\n",
       "      <th>...</th>\n",
       "      <td>...</td>\n",
       "      <td>...</td>\n",
       "      <td>...</td>\n",
       "    </tr>\n",
       "    <tr>\n",
       "      <th>15777</th>\n",
       "      <td>12046869</td>\n",
       "      <td>Zierikzee, Netherlands</td>\n",
       "      <td>Pattinama Kerkhove L.</td>\n",
       "    </tr>\n",
       "    <tr>\n",
       "      <th>15778</th>\n",
       "      <td>12084079</td>\n",
       "      <td>Zierikzee, Netherlands</td>\n",
       "      <td>Pattinama Kerkhove L.</td>\n",
       "    </tr>\n",
       "    <tr>\n",
       "      <th>15779</th>\n",
       "      <td>12151528</td>\n",
       "      <td>Zierikzee, Netherlands</td>\n",
       "      <td>Pattinama Kerkhove L.</td>\n",
       "    </tr>\n",
       "    <tr>\n",
       "      <th>15780</th>\n",
       "      <td>12042793</td>\n",
       "      <td>new jersey</td>\n",
       "      <td>Mbithi M.</td>\n",
       "    </tr>\n",
       "    <tr>\n",
       "      <th>15781</th>\n",
       "      <td>12158538</td>\n",
       "      <td>new jersey</td>\n",
       "      <td>Mbithi M.</td>\n",
       "    </tr>\n",
       "  </tbody>\n",
       "</table>\n",
       "<p>3393 rows × 3 columns</p>\n",
       "</div>"
      ],
      "text/plain": [
       "       match_id               residence                   name\n",
       "12391  12209104  1-74-4 Sakae Ina-machi              Saitoh K.\n",
       "12392  12195291  1-74-4 Sakae Ina-machi              Saitoh K.\n",
       "12393  12046872  1-74-4 Sakae Ina-machi              Saitoh K.\n",
       "12394  12086235  1-74-4 Sakae Ina-machi              Saitoh K.\n",
       "12395  12187079  1-74-4 Sakae Ina-machi              Saitoh K.\n",
       "...         ...                     ...                    ...\n",
       "15777  12046869  Zierikzee, Netherlands  Pattinama Kerkhove L.\n",
       "15778  12084079  Zierikzee, Netherlands  Pattinama Kerkhove L.\n",
       "15779  12151528  Zierikzee, Netherlands  Pattinama Kerkhove L.\n",
       "15780  12042793              new jersey              Mbithi M.\n",
       "15781  12158538              new jersey              Mbithi M.\n",
       "\n",
       "[3393 rows x 3 columns]"
      ]
     },
     "execution_count": 16,
     "metadata": {},
     "output_type": "execute_result"
    }
   ],
   "source": [
    "clean_df = sorted_df.dropna()\n",
    "clean_df"
   ]
  },
  {
   "cell_type": "markdown",
   "id": "c5e88c6b",
   "metadata": {},
   "source": [
    "# Visualization data :"
   ]
  },
  {
   "cell_type": "code",
   "execution_count": 24,
   "id": "a4ec9935",
   "metadata": {},
   "outputs": [
    {
     "data": {
      "image/png": "[encoded data removed]",
      "text/plain": [
       "<Figure size 1000x800 with 1 Axes>"
      ]
     },
     "metadata": {},
     "output_type": "display_data"
    }
   ],
   "source": [
    "country_counts = (\n",
    "    clean_df.drop_duplicates(subset=[\"name\", \"residence\"])[\"residence\"]\n",
    "    .value_counts()\n",
    "    .reset_index()\n",
    ")\n",
    "country_counts.columns = [\"Country\", \"Count\"]\n",
    "\n",
    "top_countries = country_counts.head(10)\n",
    "\n",
    "plt.figure(figsize=(10, 8))\n",
    "sns.barplot(\n",
    "    y=\"Country\", x=\"Count\", data=top_countries, color=sns.color_palette(\"pastel\")[0]\n",
    ")\n",
    "plt.title(\"Top 10 Countries by Unique Tennis Players\")\n",
    "plt.xlabel(\"Number of Players\")\n",
    "plt.ylabel(\"Country\")\n",
    "plt.tight_layout()\n",
    "plt.show()"
   ]
  }
 ],
 "metadata": {
  "kernelspec": {
   "display_name": "venv (3.12.10)",
   "language": "python",
   "name": "python3"
  },
  "language_info": {
   "codemirror_mode": {
    "name": "ipython",
    "version": 3
   },
   "file_extension": ".py",
   "mimetype": "text/x-python",
   "name": "python",
   "nbconvert_exporter": "python",
   "pygments_lexer": "ipython3",
   "version": "3.12.10"
  }
 },
 "nbformat": 4,
 "nbformat_minor": 5
}
