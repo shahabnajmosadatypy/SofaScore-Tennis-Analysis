{
 "cells": [
  {
   "cell_type": "code",
   "execution_count": 1,
   "id": "152016e1",
   "metadata": {},
   "outputs": [],
   "source": [
    "import numpy as np, pandas as pd , matplotlib.pyplot as plt\n",
    "from glob import glob\n",
    "from fetch_data import fetch_data"
   ]
  },
  {
   "cell_type": "code",
   "execution_count": 2,
   "id": "4298a3f5",
   "metadata": {},
   "outputs": [],
   "source": [
    "data_time = fetch_data(20240201,20240331,'time')"
   ]
  },
  {
   "cell_type": "code",
   "execution_count": 4,
   "id": "6f8ac830",
   "metadata": {},
   "outputs": [],
   "source": [
    "unique_column = [\"match_id\"]\n",
    "data_time = data_time.drop_duplicates(subset=unique_column)"
   ]
  },
  {
   "cell_type": "code",
   "execution_count": 5,
   "id": "10321492",
   "metadata": {},
   "outputs": [],
   "source": [
    "correct_data_per1_per2 = (data_time[\"period_1\"].notna() & data_time[\"period_2\"].notna())\n",
    "\n",
    "data = data_time[correct_data_per1_per2]"
   ]
  },
  {
   "cell_type": "code",
   "execution_count": 6,
   "id": "1b75906f",
   "metadata": {},
   "outputs": [],
   "source": [
    "two_set_condition = (data[\"period_3\"].isna())\n",
    "\n",
    "two_set_matchs = data[two_set_condition]\n",
    "\n",
    "two_set_matchs = two_set_matchs[[\"match_id\",\"period_1\",\"period_2\"]]"
   ]
  },
  {
   "cell_type": "code",
   "execution_count": 7,
   "id": "6caccb38",
   "metadata": {},
   "outputs": [],
   "source": [
    "two_set_matchs[\"period_1\"] = pd.to_numeric(two_set_matchs[\"period_1\"],errors='coerce')\n",
    "two_set_matchs[\"period_2\"] = pd.to_numeric(two_set_matchs[\"period_2\"],errors='coerce')"
   ]
  },
  {
   "cell_type": "code",
   "execution_count": 8,
   "id": "7d479701",
   "metadata": {},
   "outputs": [
    {
     "data": {
      "text/plain": [
       "(array([  8.,   2.,   0.,   0.,   1.,   1.,   0.,   1.,   1.,   0.,   1.,\n",
       "          2.,   5.,   4.,  10.,  16.,  25.,  45.,  52.,  89., 109., 131.,\n",
       "        160., 178., 200., 218., 236., 249., 266., 260., 285., 277., 240.,\n",
       "        291., 245., 279., 221., 231., 206., 200., 186., 158., 157., 120.,\n",
       "        161., 115., 132., 108., 115.,  87., 113.,  79.,  81.,  69.,  71.,\n",
       "         57.,  51.,  62.,  40.,  42.,  32.,  40.,  26.,  25.,  23.,  22.,\n",
       "         23.,  21.,  13.,  18.,  14.,  11.,  10.,   6.,   3.,   2.,   4.,\n",
       "          6.,   0.,   4.,   5.,   0.,   3.,   1.,   1.,   1.,   1.,   2.,\n",
       "          0.,   0.,   0.,   1.,   0.,   0.,   1.,   1.,   1.,   1.,   1.,\n",
       "          0.,   1.,   0.,   0.,   0.,   0.,   1.,   0.,   0.,   0.,   0.,\n",
       "          0.,   0.,   2.,   0.,   2.,   2.,   0.,   0.,   0.,   0.,   1.,\n",
       "          1.,   0.,   0.,   0.,   0.,   0.,   1.,   0.,   1.,   0.,   0.,\n",
       "          0.,   0.,   0.,   0.,   0.,   0.,   0.,   0.,   0.,   0.,   1.,\n",
       "          0.,   0.,   0.,   0.,   1.,   0.,   0.,   0.,   0.,   1.,   1.,\n",
       "          0.,   0.,   0.,   0.,   0.,   0.,   0.,   0.,   0.,   0.,   0.,\n",
       "          0.,   0.,   0.,   0.,   0.,   0.,   0.,   0.,   0.,   0.,   0.,\n",
       "          0.,   0.,   1.,   0.,   0.,   0.,   1.,   0.,   0.,   0.,   1.,\n",
       "          0.,   0.,   0.,   0.,   0.,   1.,   0.,   0.,   0.,   0.,   0.,\n",
       "          0.,   1.]),\n",
       " array([2.0000000e+00, 7.2415000e+01, 1.4283000e+02, 2.1324500e+02,\n",
       "        2.8366000e+02, 3.5407500e+02, 4.2449000e+02, 4.9490500e+02,\n",
       "        5.6532000e+02, 6.3573500e+02, 7.0615000e+02, 7.7656500e+02,\n",
       "        8.4698000e+02, 9.1739500e+02, 9.8781000e+02, 1.0582250e+03,\n",
       "        1.1286400e+03, 1.1990550e+03, 1.2694700e+03, 1.3398850e+03,\n",
       "        1.4103000e+03, 1.4807150e+03, 1.5511300e+03, 1.6215450e+03,\n",
       "        1.6919600e+03, 1.7623750e+03, 1.8327900e+03, 1.9032050e+03,\n",
       "        1.9736200e+03, 2.0440350e+03, 2.1144500e+03, 2.1848650e+03,\n",
       "        2.2552800e+03, 2.3256950e+03, 2.3961100e+03, 2.4665250e+03,\n",
       "        2.5369400e+03, 2.6073550e+03, 2.6777700e+03, 2.7481850e+03,\n",
       "        2.8186000e+03, 2.8890150e+03, 2.9594300e+03, 3.0298450e+03,\n",
       "        3.1002600e+03, 3.1706750e+03, 3.2410900e+03, 3.3115050e+03,\n",
       "        3.3819200e+03, 3.4523350e+03, 3.5227500e+03, 3.5931650e+03,\n",
       "        3.6635800e+03, 3.7339950e+03, 3.8044100e+03, 3.8748250e+03,\n",
       "        3.9452400e+03, 4.0156550e+03, 4.0860700e+03, 4.1564850e+03,\n",
       "        4.2269000e+03, 4.2973150e+03, 4.3677300e+03, 4.4381450e+03,\n",
       "        4.5085600e+03, 4.5789750e+03, 4.6493900e+03, 4.7198050e+03,\n",
       "        4.7902200e+03, 4.8606350e+03, 4.9310500e+03, 5.0014650e+03,\n",
       "        5.0718800e+03, 5.1422950e+03, 5.2127100e+03, 5.2831250e+03,\n",
       "        5.3535400e+03, 5.4239550e+03, 5.4943700e+03, 5.5647850e+03,\n",
       "        5.6352000e+03, 5.7056150e+03, 5.7760300e+03, 5.8464450e+03,\n",
       "        5.9168600e+03, 5.9872750e+03, 6.0576900e+03, 6.1281050e+03,\n",
       "        6.1985200e+03, 6.2689350e+03, 6.3393500e+03, 6.4097650e+03,\n",
       "        6.4801800e+03, 6.5505950e+03, 6.6210100e+03, 6.6914250e+03,\n",
       "        6.7618400e+03, 6.8322550e+03, 6.9026700e+03, 6.9730850e+03,\n",
       "        7.0435000e+03, 7.1139150e+03, 7.1843300e+03, 7.2547450e+03,\n",
       "        7.3251600e+03, 7.3955750e+03, 7.4659900e+03, 7.5364050e+03,\n",
       "        7.6068200e+03, 7.6772350e+03, 7.7476500e+03, 7.8180650e+03,\n",
       "        7.8884800e+03, 7.9588950e+03, 8.0293100e+03, 8.0997250e+03,\n",
       "        8.1701400e+03, 8.2405550e+03, 8.3109700e+03, 8.3813850e+03,\n",
       "        8.4518000e+03, 8.5222150e+03, 8.5926300e+03, 8.6630450e+03,\n",
       "        8.7334600e+03, 8.8038750e+03, 8.8742900e+03, 8.9447050e+03,\n",
       "        9.0151200e+03, 9.0855350e+03, 9.1559500e+03, 9.2263650e+03,\n",
       "        9.2967800e+03, 9.3671950e+03, 9.4376100e+03, 9.5080250e+03,\n",
       "        9.5784400e+03, 9.6488550e+03, 9.7192700e+03, 9.7896850e+03,\n",
       "        9.8601000e+03, 9.9305150e+03, 1.0000930e+04, 1.0071345e+04,\n",
       "        1.0141760e+04, 1.0212175e+04, 1.0282590e+04, 1.0353005e+04,\n",
       "        1.0423420e+04, 1.0493835e+04, 1.0564250e+04, 1.0634665e+04,\n",
       "        1.0705080e+04, 1.0775495e+04, 1.0845910e+04, 1.0916325e+04,\n",
       "        1.0986740e+04, 1.1057155e+04, 1.1127570e+04, 1.1197985e+04,\n",
       "        1.1268400e+04, 1.1338815e+04, 1.1409230e+04, 1.1479645e+04,\n",
       "        1.1550060e+04, 1.1620475e+04, 1.1690890e+04, 1.1761305e+04,\n",
       "        1.1831720e+04, 1.1902135e+04, 1.1972550e+04, 1.2042965e+04,\n",
       "        1.2113380e+04, 1.2183795e+04, 1.2254210e+04, 1.2324625e+04,\n",
       "        1.2395040e+04, 1.2465455e+04, 1.2535870e+04, 1.2606285e+04,\n",
       "        1.2676700e+04, 1.2747115e+04, 1.2817530e+04, 1.2887945e+04,\n",
       "        1.2958360e+04, 1.3028775e+04, 1.3099190e+04, 1.3169605e+04,\n",
       "        1.3240020e+04, 1.3310435e+04, 1.3380850e+04, 1.3451265e+04,\n",
       "        1.3521680e+04, 1.3592095e+04, 1.3662510e+04, 1.3732925e+04,\n",
       "        1.3803340e+04, 1.3873755e+04, 1.3944170e+04, 1.4014585e+04,\n",
       "        1.4085000e+04]),\n",
       " <BarContainer object of 200 artists>)"
      ]
     },
     "execution_count": 8,
     "metadata": {},
     "output_type": "execute_result"
    },
    {
     "data": {
      "image/png": "[encoded data removed]",
      "text/plain": [
       "<Figure size 640x480 with 1 Axes>"
      ]
     },
     "metadata": {},
     "output_type": "display_data"
    }
   ],
   "source": [
    "plt.hist(two_set_matchs.query('period_1 < 15000')[\"period_1\"],bins=200)"
   ]
  },
  {
   "cell_type": "code",
   "execution_count": 9,
   "id": "fda27ab7",
   "metadata": {},
   "outputs": [],
   "source": [
    "for i in range(1,3):\n",
    "    period = f'period_{i}'\n",
    "    q1 = two_set_matchs[period].quantile(.25)\n",
    "    q3 = two_set_matchs[period].quantile(.75)\n",
    "    iqr = q3 - q1\n",
    "\n",
    "    bottom_range = (two_set_matchs[period] >= (q1 - 1.5 * iqr))\n",
    "    top_range = (two_set_matchs[period] <=  (q3 + 1.5  * iqr))\n",
    "\n",
    "    two_set_matchs = two_set_matchs[bottom_range & top_range]"
   ]
  },
  {
   "cell_type": "code",
   "execution_count": 10,
   "id": "b5bd8e46",
   "metadata": {},
   "outputs": [],
   "source": [
    "two_set_matchs[\"match_duration\"] = two_set_matchs[[\"period_1\",\"period_2\"]].sum(axis=1)"
   ]
  },
  {
   "cell_type": "code",
   "execution_count": 11,
   "id": "2b37db2d",
   "metadata": {},
   "outputs": [],
   "source": [
    "three_set_condition = (data[\"period_3\"].notna())\n",
    "\n",
    "three_set_matchs = data[three_set_condition]\n",
    "\n",
    "three_set_matchs = three_set_matchs[[\"match_id\",\"period_1\",\"period_2\",\"period_3\"]]"
   ]
  },
  {
   "cell_type": "code",
   "execution_count": 12,
   "id": "f1950b87",
   "metadata": {},
   "outputs": [
    {
     "data": {
      "text/plain": [
       "count     3133.000000\n",
       "mean      3101.126716\n",
       "std       5608.373869\n",
       "min          0.000000\n",
       "25%       1939.000000\n",
       "50%       2600.000000\n",
       "75%       3292.000000\n",
       "max      88380.000000\n",
       "Name: period_3, dtype: float64"
      ]
     },
     "execution_count": 12,
     "metadata": {},
     "output_type": "execute_result"
    }
   ],
   "source": [
    "three_set_matchs[\"period_3\"] = pd.to_numeric(three_set_matchs[\"period_3\"],errors='coerce')\n",
    "three_set_matchs[\"period_3\"].describe()"
   ]
  },
  {
   "cell_type": "code",
   "execution_count": 13,
   "id": "9971fe49",
   "metadata": {},
   "outputs": [
    {
     "data": {
      "text/html": [
       "<div>\n",
       "<style scoped>\n",
       "    .dataframe tbody tr th:only-of-type {\n",
       "        vertical-align: middle;\n",
       "    }\n",
       "\n",
       "    .dataframe tbody tr th {\n",
       "        vertical-align: top;\n",
       "    }\n",
       "\n",
       "    .dataframe thead th {\n",
       "        text-align: right;\n",
       "    }\n",
       "</style>\n",
       "<table border=\"1\" class=\"dataframe\">\n",
       "  <thead>\n",
       "    <tr style=\"text-align: right;\">\n",
       "      <th></th>\n",
       "      <th>match_id</th>\n",
       "      <th>period_1</th>\n",
       "      <th>period_2</th>\n",
       "      <th>period_3</th>\n",
       "    </tr>\n",
       "  </thead>\n",
       "  <tbody>\n",
       "    <tr>\n",
       "      <th>2</th>\n",
       "      <td>11998445</td>\n",
       "      <td>3259</td>\n",
       "      <td>2639</td>\n",
       "      <td>4202</td>\n",
       "    </tr>\n",
       "    <tr>\n",
       "      <th>7</th>\n",
       "      <td>11998450</td>\n",
       "      <td>1606</td>\n",
       "      <td>4771</td>\n",
       "      <td>2051</td>\n",
       "    </tr>\n",
       "    <tr>\n",
       "      <th>8</th>\n",
       "      <td>11998451</td>\n",
       "      <td>3182</td>\n",
       "      <td>1960</td>\n",
       "      <td>2034</td>\n",
       "    </tr>\n",
       "    <tr>\n",
       "      <th>9</th>\n",
       "      <td>11998456</td>\n",
       "      <td>2218</td>\n",
       "      <td>2419</td>\n",
       "      <td>2975</td>\n",
       "    </tr>\n",
       "    <tr>\n",
       "      <th>12</th>\n",
       "      <td>11998667</td>\n",
       "      <td>2508</td>\n",
       "      <td>2868</td>\n",
       "      <td>2528</td>\n",
       "    </tr>\n",
       "    <tr>\n",
       "      <th>...</th>\n",
       "      <td>...</td>\n",
       "      <td>...</td>\n",
       "      <td>...</td>\n",
       "      <td>...</td>\n",
       "    </tr>\n",
       "    <tr>\n",
       "      <th>35628</th>\n",
       "      <td>12212023</td>\n",
       "      <td>2654</td>\n",
       "      <td>2387</td>\n",
       "      <td>4309</td>\n",
       "    </tr>\n",
       "    <tr>\n",
       "      <th>35634</th>\n",
       "      <td>12212068</td>\n",
       "      <td>1969</td>\n",
       "      <td>4154</td>\n",
       "      <td>2454</td>\n",
       "    </tr>\n",
       "    <tr>\n",
       "      <th>35636</th>\n",
       "      <td>12212077</td>\n",
       "      <td>1926</td>\n",
       "      <td>1527</td>\n",
       "      <td>2338</td>\n",
       "    </tr>\n",
       "    <tr>\n",
       "      <th>35659</th>\n",
       "      <td>12213156</td>\n",
       "      <td>3087</td>\n",
       "      <td>3332</td>\n",
       "      <td>1792</td>\n",
       "    </tr>\n",
       "    <tr>\n",
       "      <th>35663</th>\n",
       "      <td>12213458</td>\n",
       "      <td>1661</td>\n",
       "      <td>4164</td>\n",
       "      <td>932</td>\n",
       "    </tr>\n",
       "  </tbody>\n",
       "</table>\n",
       "<p>2932 rows × 4 columns</p>\n",
       "</div>"
      ],
      "text/plain": [
       "       match_id period_1 period_2  period_3\n",
       "2      11998445     3259     2639      4202\n",
       "7      11998450     1606     4771      2051\n",
       "8      11998451     3182     1960      2034\n",
       "9      11998456     2218     2419      2975\n",
       "12     11998667     2508     2868      2528\n",
       "...         ...      ...      ...       ...\n",
       "35628  12212023     2654     2387      4309\n",
       "35634  12212068     1969     4154      2454\n",
       "35636  12212077     1926     1527      2338\n",
       "35659  12213156     3087     3332      1792\n",
       "35663  12213458     1661     4164       932\n",
       "\n",
       "[2932 rows x 4 columns]"
      ]
     },
     "execution_count": 13,
     "metadata": {},
     "output_type": "execute_result"
    }
   ],
   "source": [
    "for i in range(1,4):\n",
    "    period = f'period_{i}'\n",
    "    q1 = three_set_matchs[period].quantile(.25)\n",
    "    q3 = three_set_matchs[period].quantile(.75)\n",
    "    iqr = q3 - q1\n",
    "\n",
    "    bottom_range = (three_set_matchs[period] >= (q1 - 1.5 * iqr))\n",
    "    top_range = (three_set_matchs[period] <=  (q3 + 1.5  * iqr))\n",
    "\n",
    "    three_set_matchs = three_set_matchs[bottom_range & top_range]\n",
    "\n",
    "three_set_matchs"
   ]
  },
  {
   "cell_type": "code",
   "execution_count": 14,
   "id": "eb49e80e",
   "metadata": {},
   "outputs": [],
   "source": [
    "three_set_matchs[\"match_duration\"] = three_set_matchs[[\"period_1\",\"period_2\",\"period_3\"]].sum(axis=1)"
   ]
  },
  {
   "cell_type": "code",
   "execution_count": 15,
   "id": "28c74f6d",
   "metadata": {},
   "outputs": [],
   "source": [
    "two_set_matchs = two_set_matchs[[\"match_id\",\"match_duration\"]]\n",
    "three_set_matchs = three_set_matchs[[\"match_id\",\"match_duration\"]]"
   ]
  },
  {
   "cell_type": "code",
   "execution_count": 16,
   "id": "1d3997aa",
   "metadata": {},
   "outputs": [
    {
     "data": {
      "text/html": [
       "<div>\n",
       "<style scoped>\n",
       "    .dataframe tbody tr th:only-of-type {\n",
       "        vertical-align: middle;\n",
       "    }\n",
       "\n",
       "    .dataframe tbody tr th {\n",
       "        vertical-align: top;\n",
       "    }\n",
       "\n",
       "    .dataframe thead th {\n",
       "        text-align: right;\n",
       "    }\n",
       "</style>\n",
       "<table border=\"1\" class=\"dataframe\">\n",
       "  <thead>\n",
       "    <tr style=\"text-align: right;\">\n",
       "      <th></th>\n",
       "      <th>match_id</th>\n",
       "      <th>match_duration</th>\n",
       "    </tr>\n",
       "  </thead>\n",
       "  <tbody>\n",
       "    <tr>\n",
       "      <th>3</th>\n",
       "      <td>11998446</td>\n",
       "      <td>4863</td>\n",
       "    </tr>\n",
       "    <tr>\n",
       "      <th>4</th>\n",
       "      <td>11998447</td>\n",
       "      <td>5654</td>\n",
       "    </tr>\n",
       "    <tr>\n",
       "      <th>5</th>\n",
       "      <td>11998448</td>\n",
       "      <td>5729</td>\n",
       "    </tr>\n",
       "    <tr>\n",
       "      <th>6</th>\n",
       "      <td>11998449</td>\n",
       "      <td>4208</td>\n",
       "    </tr>\n",
       "    <tr>\n",
       "      <th>10</th>\n",
       "      <td>11998459</td>\n",
       "      <td>5181</td>\n",
       "    </tr>\n",
       "    <tr>\n",
       "      <th>...</th>\n",
       "      <td>...</td>\n",
       "      <td>...</td>\n",
       "    </tr>\n",
       "    <tr>\n",
       "      <th>35628</th>\n",
       "      <td>12212023</td>\n",
       "      <td>9350</td>\n",
       "    </tr>\n",
       "    <tr>\n",
       "      <th>35634</th>\n",
       "      <td>12212068</td>\n",
       "      <td>8577</td>\n",
       "    </tr>\n",
       "    <tr>\n",
       "      <th>35636</th>\n",
       "      <td>12212077</td>\n",
       "      <td>5791</td>\n",
       "    </tr>\n",
       "    <tr>\n",
       "      <th>35659</th>\n",
       "      <td>12213156</td>\n",
       "      <td>8211</td>\n",
       "    </tr>\n",
       "    <tr>\n",
       "      <th>35663</th>\n",
       "      <td>12213458</td>\n",
       "      <td>6757</td>\n",
       "    </tr>\n",
       "  </tbody>\n",
       "</table>\n",
       "<p>9664 rows × 2 columns</p>\n",
       "</div>"
      ],
      "text/plain": [
       "       match_id match_duration\n",
       "3      11998446           4863\n",
       "4      11998447           5654\n",
       "5      11998448           5729\n",
       "6      11998449           4208\n",
       "10     11998459           5181\n",
       "...         ...            ...\n",
       "35628  12212023           9350\n",
       "35634  12212068           8577\n",
       "35636  12212077           5791\n",
       "35659  12213156           8211\n",
       "35663  12213458           6757\n",
       "\n",
       "[9664 rows x 2 columns]"
      ]
     },
     "execution_count": 16,
     "metadata": {},
     "output_type": "execute_result"
    }
   ],
   "source": [
    "data = pd.concat([two_set_matchs,three_set_matchs])\n",
    "\n",
    "data.to_csv(\"../data/external/11/duration_of_matches.csv\",index=False)\n",
    "\n",
    "\n",
    "data"
   ]
  },
  {
   "cell_type": "code",
   "execution_count": 17,
   "id": "fd8c7ffd",
   "metadata": {},
   "outputs": [
    {
     "data": {
      "text/plain": [
       "6055.799668874172"
      ]
     },
     "execution_count": 17,
     "metadata": {},
     "output_type": "execute_result"
    }
   ],
   "source": [
    "average_duration_of_matches = float(data[\"match_duration\"].mean())\n",
    "average_duration_of_matches"
   ]
  }
 ],
 "metadata": {
  "kernelspec": {
   "display_name": "airbnb_venv",
   "language": "python",
   "name": "airbnb_venv"
  },
  "language_info": {
   "codemirror_mode": {
    "name": "ipython",
    "version": 3
   },
   "file_extension": ".py",
   "mimetype": "text/x-python",
   "name": "python",
   "nbconvert_exporter": "python",
   "pygments_lexer": "ipython3",
   "version": "3.12.3"
  }
 },
 "nbformat": 4,
 "nbformat_minor": 5
}
