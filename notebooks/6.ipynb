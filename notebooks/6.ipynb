{
 "cells": [
  {
   "cell_type": "markdown",
   "id": "7985af04",
   "metadata": {},
   "source": [
    "# 6th Question"
   ]
  },
  {
   "cell_type": "markdown",
   "id": "7211420d",
   "metadata": {},
   "source": [
    "### Which country has produced the most successful tennis players?"
   ]
  },
  {
   "cell_type": "markdown",
   "id": "89bcbc82",
   "metadata": {},
   "source": [
    "Installing needed packages"
   ]
  },
  {
   "cell_type": "code",
   "execution_count": 1,
   "id": "cd64a4d8",
   "metadata": {},
   "outputs": [
    {
     "name": "stdout",
     "output_type": "stream",
     "text": [
      "Requirement already satisfied: numpy in c:\\users\\shahab\\documents\\codes\\sofascore-tennis-analysis\\venv\\lib\\site-packages (2.3.1)\n",
      "Requirement already satisfied: pandas in c:\\users\\shahab\\documents\\codes\\sofascore-tennis-analysis\\venv\\lib\\site-packages (2.3.1)\n",
      "Requirement already satisfied: seaborn in c:\\users\\shahab\\documents\\codes\\sofascore-tennis-analysis\\venv\\lib\\site-packages (0.13.2)\n",
      "Requirement already satisfied: pyarrow in c:\\users\\shahab\\documents\\codes\\sofascore-tennis-analysis\\venv\\lib\\site-packages (20.0.0)\n",
      "Requirement already satisfied: python-dateutil>=2.8.2 in c:\\users\\shahab\\documents\\codes\\sofascore-tennis-analysis\\venv\\lib\\site-packages (from pandas) (2.9.0.post0)\n",
      "Requirement already satisfied: pytz>=2020.1 in c:\\users\\shahab\\documents\\codes\\sofascore-tennis-analysis\\venv\\lib\\site-packages (from pandas) (2025.2)\n",
      "Requirement already satisfied: tzdata>=2022.7 in c:\\users\\shahab\\documents\\codes\\sofascore-tennis-analysis\\venv\\lib\\site-packages (from pandas) (2025.2)\n",
      "Requirement already satisfied: matplotlib!=3.6.1,>=3.4 in c:\\users\\shahab\\documents\\codes\\sofascore-tennis-analysis\\venv\\lib\\site-packages (from seaborn) (3.10.3)\n",
      "Requirement already satisfied: contourpy>=1.0.1 in c:\\users\\shahab\\documents\\codes\\sofascore-tennis-analysis\\venv\\lib\\site-packages (from matplotlib!=3.6.1,>=3.4->seaborn) (1.3.2)\n",
      "Requirement already satisfied: cycler>=0.10 in c:\\users\\shahab\\documents\\codes\\sofascore-tennis-analysis\\venv\\lib\\site-packages (from matplotlib!=3.6.1,>=3.4->seaborn) (0.12.1)\n",
      "Requirement already satisfied: fonttools>=4.22.0 in c:\\users\\shahab\\documents\\codes\\sofascore-tennis-analysis\\venv\\lib\\site-packages (from matplotlib!=3.6.1,>=3.4->seaborn) (4.58.5)\n",
      "Requirement already satisfied: kiwisolver>=1.3.1 in c:\\users\\shahab\\documents\\codes\\sofascore-tennis-analysis\\venv\\lib\\site-packages (from matplotlib!=3.6.1,>=3.4->seaborn) (1.4.8)\n",
      "Requirement already satisfied: packaging>=20.0 in c:\\users\\shahab\\documents\\codes\\sofascore-tennis-analysis\\venv\\lib\\site-packages (from matplotlib!=3.6.1,>=3.4->seaborn) (25.0)\n",
      "Requirement already satisfied: pillow>=8 in c:\\users\\shahab\\documents\\codes\\sofascore-tennis-analysis\\venv\\lib\\site-packages (from matplotlib!=3.6.1,>=3.4->seaborn) (11.3.0)\n",
      "Requirement already satisfied: pyparsing>=2.3.1 in c:\\users\\shahab\\documents\\codes\\sofascore-tennis-analysis\\venv\\lib\\site-packages (from matplotlib!=3.6.1,>=3.4->seaborn) (3.2.3)\n",
      "Requirement already satisfied: six>=1.5 in c:\\users\\shahab\\documents\\codes\\sofascore-tennis-analysis\\venv\\lib\\site-packages (from python-dateutil>=2.8.2->pandas) (1.17.0)\n",
      "Note: you may need to restart the kernel to use updated packages.\n"
     ]
    }
   ],
   "source": [
    "%pip install numpy pandas seaborn pyarrow"
   ]
  },
  {
   "cell_type": "markdown",
   "id": "a42541c6",
   "metadata": {},
   "source": [
    "Importing needed packages"
   ]
  },
  {
   "cell_type": "code",
   "execution_count": 8,
   "id": "a73264b0",
   "metadata": {},
   "outputs": [],
   "source": [
    "import pandas as pd\n",
    "import numpy as np\n",
    "import matplotlib.pyplot as plt\n",
    "from glob import glob\n",
    "import os"
   ]
  },
  {
   "cell_type": "markdown",
   "id": "edc4c7bb",
   "metadata": {},
   "source": [
    "# Reading .parquet data\n",
    "According to question and ERD in /data/ERD folder as Tennis Schema.pdf , We are analyzing which player has the highest win rate, Reading data of matchs\n",
    "It might take few seconds to read data"
   ]
  },
  {
   "cell_type": "code",
   "execution_count": 4,
   "id": "4f322529",
   "metadata": {},
   "outputs": [],
   "source": [
    "days_to_query = os.listdir(\"../data/raw/tennis_data\")\n",
    "files_to_load = []\n",
    "\n",
    "for day in days_to_query:\n",
    "    files_to_load.extend(\n",
    "        glob(\n",
    "            f\"../data/raw/tennis_data/{day}/data/raw/raw_statistics*/statistics_*.parquet\"\n",
    "        )\n",
    "    )\n",
    "\n",
    "tennis_statistics_data_frame = pd.concat(\n",
    "    [\n",
    "        pd.read_parquet(\n",
    "            file,\n",
    "            columns=[\n",
    "                \"match_id\",\n",
    "                \"period\",\n",
    "                \"statistic_name\",\n",
    "                \"home_stat\",\n",
    "                \"away_stat\",\n",
    "                \"home_total\",\n",
    "                \"away_total\",\n",
    "            ],\n",
    "        )\n",
    "        for file in files_to_load\n",
    "    ],\n",
    "    ignore_index=True,\n",
    ")"
   ]
  },
  {
   "cell_type": "markdown",
   "id": "80a4abf9",
   "metadata": {},
   "source": [
    "Reading data of home matches required information :"
   ]
  },
  {
   "cell_type": "code",
   "execution_count": 6,
   "id": "c7578fe5",
   "metadata": {},
   "outputs": [],
   "source": [
    "days_to_query_home = os.listdir(\"../data/raw/tennis_data\")\n",
    "files_to_load_home = []\n",
    "\n",
    "for day in days_to_query_home:\n",
    "    files_to_load_home.extend(\n",
    "        glob(f\"../data/raw/tennis_data/{day}/data/raw/raw_match*/home_team_1*.parquet\")\n",
    "    )\n",
    "\n",
    "home_statistics_data_frame = pd.concat(\n",
    "    [\n",
    "        pd.read_parquet(\n",
    "            file,\n",
    "            columns=[\"match_id\", \"name\",\"current_rank\", \"current_prize\"],\n",
    "        )\n",
    "        for file in files_to_load_home\n",
    "    ],\n",
    "    ignore_index=True,\n",
    ")"
   ]
  },
  {
   "cell_type": "markdown",
   "id": "28a2ac3b",
   "metadata": {},
   "source": [
    "Reading data of away matches required information :"
   ]
  },
  {
   "cell_type": "code",
   "execution_count": 7,
   "id": "ce86e5b6",
   "metadata": {},
   "outputs": [],
   "source": [
    "days_to_query_away = os.listdir(\"../data/raw/tennis_data\")\n",
    "files_to_load_away = []\n",
    "\n",
    "for day in days_to_query_away:\n",
    "    files_to_load_away.extend(\n",
    "        glob(f\"../data/raw/tennis_data/{day}/data/raw/raw_match*/away_team_1*.parquet\")\n",
    "    )\n",
    "\n",
    "away_statistics_data_frame = pd.concat(\n",
    "    [\n",
    "        pd.read_parquet(\n",
    "            file,\n",
    "            columns=[\"match_id\", \"name\", \"current_rank\", \"current_prize\"],\n",
    "        )\n",
    "        for file in files_to_load_away\n",
    "    ],\n",
    "    ignore_index=True,\n",
    ")"
   ]
  },
  {
   "cell_type": "code",
   "execution_count": null,
   "id": "b5e6b198",
   "metadata": {},
   "outputs": [],
   "source": []
  }
 ],
 "metadata": {
  "kernelspec": {
   "display_name": "venv (3.12.10)",
   "language": "python",
   "name": "python3"
  },
  "language_info": {
   "codemirror_mode": {
    "name": "ipython",
    "version": 3
   },
   "file_extension": ".py",
   "mimetype": "text/x-python",
   "name": "python",
   "nbconvert_exporter": "python",
   "pygments_lexer": "ipython3",
   "version": "3.12.10"
  }
 },
 "nbformat": 4,
 "nbformat_minor": 5
}
