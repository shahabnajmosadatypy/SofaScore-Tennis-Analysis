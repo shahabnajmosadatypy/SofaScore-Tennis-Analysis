{
 "cells": [
  {
   "cell_type": "markdown",
   "id": "7985af04",
   "metadata": {},
   "source": [
    "# 6th Question"
   ]
  },
  {
   "cell_type": "markdown",
   "id": "7211420d",
   "metadata": {},
   "source": [
    "### Which country has produced the most successful tennis players?"
   ]
  },
  {
   "cell_type": "markdown",
   "id": "89bcbc82",
   "metadata": {},
   "source": [
    "Installing needed packages"
   ]
  },
  {
   "cell_type": "code",
   "execution_count": 40,
   "id": "cd64a4d8",
   "metadata": {},
   "outputs": [
    {
     "name": "stdout",
     "output_type": "stream",
     "text": [
      "Requirement already satisfied: numpy in c:\\users\\shahab\\documents\\codes\\sofascore-tennis-analysis\\venv\\lib\\site-packages (2.3.1)\n",
      "Requirement already satisfied: pandas in c:\\users\\shahab\\documents\\codes\\sofascore-tennis-analysis\\venv\\lib\\site-packages (2.3.1)\n",
      "Requirement already satisfied: seaborn in c:\\users\\shahab\\documents\\codes\\sofascore-tennis-analysis\\venv\\lib\\site-packages (0.13.2)\n",
      "Requirement already satisfied: pyarrow in c:\\users\\shahab\\documents\\codes\\sofascore-tennis-analysis\\venv\\lib\\site-packages (20.0.0)\n",
      "Requirement already satisfied: python-dateutil>=2.8.2 in c:\\users\\shahab\\documents\\codes\\sofascore-tennis-analysis\\venv\\lib\\site-packages (from pandas) (2.9.0.post0)\n",
      "Requirement already satisfied: pytz>=2020.1 in c:\\users\\shahab\\documents\\codes\\sofascore-tennis-analysis\\venv\\lib\\site-packages (from pandas) (2025.2)\n",
      "Requirement already satisfied: tzdata>=2022.7 in c:\\users\\shahab\\documents\\codes\\sofascore-tennis-analysis\\venv\\lib\\site-packages (from pandas) (2025.2)\n",
      "Requirement already satisfied: matplotlib!=3.6.1,>=3.4 in c:\\users\\shahab\\documents\\codes\\sofascore-tennis-analysis\\venv\\lib\\site-packages (from seaborn) (3.10.3)\n",
      "Requirement already satisfied: contourpy>=1.0.1 in c:\\users\\shahab\\documents\\codes\\sofascore-tennis-analysis\\venv\\lib\\site-packages (from matplotlib!=3.6.1,>=3.4->seaborn) (1.3.2)\n",
      "Requirement already satisfied: cycler>=0.10 in c:\\users\\shahab\\documents\\codes\\sofascore-tennis-analysis\\venv\\lib\\site-packages (from matplotlib!=3.6.1,>=3.4->seaborn) (0.12.1)\n",
      "Requirement already satisfied: fonttools>=4.22.0 in c:\\users\\shahab\\documents\\codes\\sofascore-tennis-analysis\\venv\\lib\\site-packages (from matplotlib!=3.6.1,>=3.4->seaborn) (4.58.5)\n",
      "Requirement already satisfied: kiwisolver>=1.3.1 in c:\\users\\shahab\\documents\\codes\\sofascore-tennis-analysis\\venv\\lib\\site-packages (from matplotlib!=3.6.1,>=3.4->seaborn) (1.4.8)\n",
      "Requirement already satisfied: packaging>=20.0 in c:\\users\\shahab\\documents\\codes\\sofascore-tennis-analysis\\venv\\lib\\site-packages (from matplotlib!=3.6.1,>=3.4->seaborn) (25.0)\n",
      "Requirement already satisfied: pillow>=8 in c:\\users\\shahab\\documents\\codes\\sofascore-tennis-analysis\\venv\\lib\\site-packages (from matplotlib!=3.6.1,>=3.4->seaborn) (11.3.0)\n",
      "Requirement already satisfied: pyparsing>=2.3.1 in c:\\users\\shahab\\documents\\codes\\sofascore-tennis-analysis\\venv\\lib\\site-packages (from matplotlib!=3.6.1,>=3.4->seaborn) (3.2.3)\n",
      "Requirement already satisfied: six>=1.5 in c:\\users\\shahab\\documents\\codes\\sofascore-tennis-analysis\\venv\\lib\\site-packages (from python-dateutil>=2.8.2->pandas) (1.17.0)\n",
      "Note: you may need to restart the kernel to use updated packages.\n"
     ]
    }
   ],
   "source": [
    "%pip install numpy pandas seaborn pyarrow"
   ]
  },
  {
   "cell_type": "markdown",
   "id": "a42541c6",
   "metadata": {},
   "source": [
    "Importing needed packages"
   ]
  },
  {
   "cell_type": "code",
   "execution_count": 42,
   "id": "a73264b0",
   "metadata": {},
   "outputs": [],
   "source": [
    "import pandas as pd\n",
    "import seaborn as sns\n",
    "import matplotlib.pyplot as plt\n",
    "from glob import glob\n",
    "import os"
   ]
  },
  {
   "cell_type": "markdown",
   "id": "edc4c7bb",
   "metadata": {},
   "source": [
    "# Reading .parquet data\n",
    "According to question and ERD in /data/ERD folder as Tennis Schema.pdf , We are analyzing and Reading data of matchs\n",
    "It might take few seconds to read data"
   ]
  },
  {
   "cell_type": "code",
   "execution_count": 4,
   "id": "4f322529",
   "metadata": {},
   "outputs": [],
   "source": [
    "days_to_query = os.listdir(\"../data/raw/tennis_data\")\n",
    "files_to_load = []\n",
    "\n",
    "for day in days_to_query:\n",
    "    files_to_load.extend(\n",
    "        glob(\n",
    "            f\"../data/raw/tennis_data/{day}/data/raw/raw_statistics*/statistics_*.parquet\"\n",
    "        )\n",
    "    )\n",
    "\n",
    "tennis_statistics_data_frame = pd.concat(\n",
    "    [\n",
    "        pd.read_parquet(\n",
    "            file,\n",
    "            columns=[\n",
    "                \"match_id\",\n",
    "                \"period\",\n",
    "                \"statistic_name\",\n",
    "                \"home_stat\",\n",
    "                \"away_stat\",\n",
    "                \"home_total\",\n",
    "                \"away_total\",\n",
    "            ],\n",
    "        )\n",
    "        for file in files_to_load\n",
    "    ],\n",
    "    ignore_index=True,\n",
    ")"
   ]
  },
  {
   "cell_type": "markdown",
   "id": "80a4abf9",
   "metadata": {},
   "source": [
    "Reading data of home matches required information :"
   ]
  },
  {
   "cell_type": "code",
   "execution_count": null,
   "id": "c7578fe5",
   "metadata": {},
   "outputs": [],
   "source": [
    "days_to_query_home = os.listdir(\"../data/raw/tennis_data\")\n",
    "files_to_load_home = []\n",
    "\n",
    "for day in days_to_query_home:\n",
    "    files_to_load_home.extend(\n",
    "        glob(f\"../data/raw/tennis_data/{day}/data/raw/raw_match*/home_team_1*.parquet\")\n",
    "    )\n",
    "\n",
    "home_statistics_data_frame = pd.concat(\n",
    "    [\n",
    "        pd.read_parquet(\n",
    "            file,\n",
    "            columns=[\"match_id\", \"name\", \"current_rank\", \"current_prize\", \"residence\"],\n",
    "        )\n",
    "        for file in files_to_load_home\n",
    "    ],\n",
    "    ignore_index=True,\n",
    ")"
   ]
  },
  {
   "cell_type": "markdown",
   "id": "28a2ac3b",
   "metadata": {},
   "source": [
    "Reading data of away matches required information :"
   ]
  },
  {
   "cell_type": "code",
   "execution_count": 19,
   "id": "ce86e5b6",
   "metadata": {},
   "outputs": [],
   "source": [
    "days_to_query_away = os.listdir(\"../data/raw/tennis_data\")\n",
    "files_to_load_away = []\n",
    "\n",
    "for day in days_to_query_away:\n",
    "    files_to_load_away.extend(\n",
    "        glob(f\"../data/raw/tennis_data/{day}/data/raw/raw_match*/away_team_1*.parquet\")\n",
    "    )\n",
    "\n",
    "away_statistics_data_frame = pd.concat(\n",
    "    [\n",
    "        pd.read_parquet(\n",
    "            file,\n",
    "            columns=[\"match_id\", \"name\", \"current_rank\", \"current_prize\", \"residence\"],\n",
    "        )\n",
    "        for file in files_to_load_away\n",
    "    ],\n",
    "    ignore_index=True,\n",
    ")"
   ]
  },
  {
   "cell_type": "markdown",
   "id": "7d659fc8",
   "metadata": {},
   "source": [
    "# Cleaning whole data"
   ]
  },
  {
   "cell_type": "code",
   "execution_count": 21,
   "id": "b5e6b198",
   "metadata": {},
   "outputs": [
    {
     "data": {
      "application/vnd.microsoft.datawrangler.viewer.v0+json": {
       "columns": [
        {
         "name": "index",
         "rawType": "int64",
         "type": "integer"
        },
        {
         "name": "match_id",
         "rawType": "int64",
         "type": "integer"
        },
        {
         "name": "name",
         "rawType": "object",
         "type": "string"
        },
        {
         "name": "current_rank",
         "rawType": "object",
         "type": "unknown"
        },
        {
         "name": "current_prize",
         "rawType": "object",
         "type": "unknown"
        },
        {
         "name": "residence",
         "rawType": "object",
         "type": "unknown"
        }
       ],
       "ref": "dcb86efd-e465-4a8a-b840-833a486e78e4",
       "rows": [
        [
         "6310",
         "12049683",
         "Świątek I.",
         "1",
         "577399",
         null
        ],
        [
         "8239",
         "12067249",
         "Świątek I.",
         "1",
         "1013637",
         null
        ],
        [
         "17081",
         "12109939",
         "Djokovic N.",
         "1",
         "796388",
         "Monte Carlo, Monaco"
        ],
        [
         "22916",
         "12156293",
         "Świątek I.",
         "1",
         "2062757",
         null
        ],
        [
         "23363",
         "12156302",
         "Świątek I.",
         "1",
         "2062757",
         null
        ],
        [
         "17097",
         "12110058",
         "Świątek I.",
         "1",
         "1146090",
         null
        ],
        [
         "7628",
         "12067265",
         "Świątek I.",
         "1",
         "577399",
         null
        ],
        [
         "19010",
         "12110077",
         "Świątek I.",
         "1",
         "1146090",
         null
        ],
        [
         "19008",
         "12110041",
         "Świątek I.",
         "1",
         "1146090",
         null
        ],
        [
         "15641",
         "12109982",
         "Djokovic N.",
         "1",
         "796388",
         "Monte Carlo, Monaco"
        ],
        [
         "6054",
         "12049684",
         "Świątek I.",
         "1",
         "577399",
         null
        ],
        [
         "5649",
         "12049688",
         "Świątek I.",
         "1",
         "577399",
         null
        ],
        [
         "4173",
         "12049681",
         "Świątek I.",
         "1",
         "577399",
         null
        ],
        [
         "22924",
         "12156314",
         "Świątek I.",
         "1",
         "2062757",
         null
        ],
        [
         "9127",
         "12067255",
         "Świątek I.",
         "1",
         "1013637",
         null
        ],
        [
         "9125",
         "12067252",
         "Świątek I.",
         "1",
         "1013637",
         null
        ],
        [
         "5643",
         "12049670",
         "Świątek I.",
         "1",
         "577399",
         null
        ],
        [
         "15961",
         "12110031",
         "Świątek I.",
         "1",
         "3569791",
         null
        ],
        [
         "20088",
         "12110074",
         "Świątek I.",
         "1",
         "2062757",
         null
        ],
        [
         "15351",
         "12110072",
         "Świątek I.",
         "1",
         "1146090",
         null
        ],
        [
         "6292",
         "12049569",
         "Alcaraz C.",
         "2",
         "362183",
         "El Palmar, Murcia, Spain"
        ],
        [
         "6034",
         "12049582",
         "Alcaraz C.",
         "2",
         "334250",
         "El Palmar, Murcia, Spain"
        ],
        [
         "22643",
         "12159573",
         "Alcaraz C.",
         "2",
         "375833",
         "El Palmar, Murcia, Spain"
        ],
        [
         "5621",
         "12049583",
         "Alcaraz C.",
         "2",
         "334250",
         "El Palmar, Murcia, Spain"
        ],
        [
         "7678",
         "12077848",
         "Alcaraz C.",
         "2",
         "362183",
         "El Palmar, Murcia, Spain"
        ],
        [
         "19011",
         "12110078",
         "Gauff C.",
         "3",
         "649491",
         "Delray Beach, Fl. USA"
        ],
        [
         "23365",
         "12156305",
         "Gauff C.",
         "3",
         "946824",
         "Delray Beach, Fl. USA"
        ],
        [
         "19653",
         "12110007",
         "Sinner J.",
         "3",
         "2113573",
         "Monte Carlo, Monaco"
        ],
        [
         "8247",
         "12067262",
         "Gauff C.",
         "3",
         "571478",
         "Delray Beach, Fl. USA"
        ],
        [
         "6305",
         "12049637",
         "Sinner J.",
         "3",
         "2113573",
         "Monte Carlo, Monaco"
        ],
        [
         "24698",
         "12157165",
         "Alcaraz C.",
         "3",
         "1446667",
         "El Palmar, Murcia, Spain"
        ],
        [
         "6047",
         "12049644",
         "Sinner J.",
         "3",
         "2113573",
         "Monte Carlo, Monaco"
        ],
        [
         "22603",
         "12156308",
         "Gauff C.",
         "3",
         "946824",
         "Delray Beach, Fl. USA"
        ],
        [
         "23895",
         "12157172",
         "Alcaraz C.",
         "3",
         "1446667",
         "El Palmar, Murcia, Spain"
        ],
        [
         "8745",
         "12067244",
         "Gauff C.",
         "3",
         "588687",
         "Delray Beach, Fl. USA"
        ],
        [
         "23374",
         "12159540",
         "Alcaraz C.",
         "3",
         "375833",
         "El Palmar, Murcia, Spain"
        ],
        [
         "7056",
         "12049636",
         "Sinner J.",
         "3",
         "2113573",
         "Monte Carlo, Monaco"
        ],
        [
         "8752",
         "12067263",
         "Gauff C.",
         "3",
         "588687",
         "Delray Beach, Fl. USA"
        ],
        [
         "22928",
         "12156328",
         "Gauff C.",
         "3",
         "946824",
         "Delray Beach, Fl. USA"
        ],
        [
         "2901",
         "12018672",
         "Rybakina E.",
         "4",
         "302708",
         null
        ],
        [
         "18453",
         "12110011",
         "Medvedev D.",
         "4",
         "1092431",
         "Monte Carlo, Monaco"
        ],
        [
         "19002",
         "12110008",
         "Medvedev D.",
         "4",
         "1092431",
         "Monte Carlo, Monaco"
        ],
        [
         "12387",
         "12087900",
         "Medvedev D.",
         "4",
         "2066908",
         "Monte Carlo, Monaco"
        ],
        [
         "10673",
         "12098326",
         "Medvedev D.",
         "4",
         "960968",
         "Monte Carlo, Monaco"
        ],
        [
         "15613",
         "12109938",
         "Medvedev D.",
         "4",
         "1092431",
         "Monte Carlo, Monaco"
        ],
        [
         "17088",
         "12109977",
         "Medvedev D.",
         "4",
         "1092431",
         "Monte Carlo, Monaco"
        ],
        [
         "19652",
         "12110004",
         "Medvedev D.",
         "4",
         "1092431",
         "Monte Carlo, Monaco"
        ],
        [
         "6053",
         "12049682",
         "Rybakina E.",
         "4",
         "421042",
         null
        ],
        [
         "12388",
         "12087901",
         "Medvedev D.",
         "4",
         "2066908",
         "Monte Carlo, Monaco"
        ],
        [
         "15948",
         "12109973",
         "Zverev A.",
         "4",
         "2676831",
         "Monte Carlo, Monaco"
        ]
       ],
       "shape": {
        "columns": 5,
        "rows": 12389
       }
      },
      "text/html": [
       "<div>\n",
       "<style scoped>\n",
       "    .dataframe tbody tr th:only-of-type {\n",
       "        vertical-align: middle;\n",
       "    }\n",
       "\n",
       "    .dataframe tbody tr th {\n",
       "        vertical-align: top;\n",
       "    }\n",
       "\n",
       "    .dataframe thead th {\n",
       "        text-align: right;\n",
       "    }\n",
       "</style>\n",
       "<table border=\"1\" class=\"dataframe\">\n",
       "  <thead>\n",
       "    <tr style=\"text-align: right;\">\n",
       "      <th></th>\n",
       "      <th>match_id</th>\n",
       "      <th>name</th>\n",
       "      <th>current_rank</th>\n",
       "      <th>current_prize</th>\n",
       "      <th>residence</th>\n",
       "    </tr>\n",
       "  </thead>\n",
       "  <tbody>\n",
       "    <tr>\n",
       "      <th>6310</th>\n",
       "      <td>12049683</td>\n",
       "      <td>Świątek I.</td>\n",
       "      <td>1</td>\n",
       "      <td>577399</td>\n",
       "      <td>None</td>\n",
       "    </tr>\n",
       "    <tr>\n",
       "      <th>8239</th>\n",
       "      <td>12067249</td>\n",
       "      <td>Świątek I.</td>\n",
       "      <td>1</td>\n",
       "      <td>1013637</td>\n",
       "      <td>None</td>\n",
       "    </tr>\n",
       "    <tr>\n",
       "      <th>17081</th>\n",
       "      <td>12109939</td>\n",
       "      <td>Djokovic N.</td>\n",
       "      <td>1</td>\n",
       "      <td>796388</td>\n",
       "      <td>Monte Carlo, Monaco</td>\n",
       "    </tr>\n",
       "    <tr>\n",
       "      <th>22916</th>\n",
       "      <td>12156293</td>\n",
       "      <td>Świątek I.</td>\n",
       "      <td>1</td>\n",
       "      <td>2062757</td>\n",
       "      <td>None</td>\n",
       "    </tr>\n",
       "    <tr>\n",
       "      <th>23363</th>\n",
       "      <td>12156302</td>\n",
       "      <td>Świątek I.</td>\n",
       "      <td>1</td>\n",
       "      <td>2062757</td>\n",
       "      <td>None</td>\n",
       "    </tr>\n",
       "    <tr>\n",
       "      <th>...</th>\n",
       "      <td>...</td>\n",
       "      <td>...</td>\n",
       "      <td>...</td>\n",
       "      <td>...</td>\n",
       "      <td>...</td>\n",
       "    </tr>\n",
       "    <tr>\n",
       "      <th>25139</th>\n",
       "      <td>12209809</td>\n",
       "      <td>Kashyap H.</td>\n",
       "      <td>None</td>\n",
       "      <td>None</td>\n",
       "      <td>None</td>\n",
       "    </tr>\n",
       "    <tr>\n",
       "      <th>25471</th>\n",
       "      <td>12211401</td>\n",
       "      <td>Bougrat M.</td>\n",
       "      <td>None</td>\n",
       "      <td>1837</td>\n",
       "      <td>None</td>\n",
       "    </tr>\n",
       "    <tr>\n",
       "      <th>25500</th>\n",
       "      <td>12211579</td>\n",
       "      <td>Krznarić N.</td>\n",
       "      <td>None</td>\n",
       "      <td>31</td>\n",
       "      <td>None</td>\n",
       "    </tr>\n",
       "    <tr>\n",
       "      <th>25551</th>\n",
       "      <td>12211947</td>\n",
       "      <td>Eto N.</td>\n",
       "      <td>None</td>\n",
       "      <td>613</td>\n",
       "      <td>None</td>\n",
       "    </tr>\n",
       "    <tr>\n",
       "      <th>25564</th>\n",
       "      <td>12211984</td>\n",
       "      <td>Kashyap H.</td>\n",
       "      <td>None</td>\n",
       "      <td>None</td>\n",
       "      <td>None</td>\n",
       "    </tr>\n",
       "  </tbody>\n",
       "</table>\n",
       "<p>12389 rows × 5 columns</p>\n",
       "</div>"
      ],
      "text/plain": [
       "       match_id         name current_rank current_prize            residence\n",
       "6310   12049683   Świątek I.            1        577399                 None\n",
       "8239   12067249   Świątek I.            1       1013637                 None\n",
       "17081  12109939  Djokovic N.            1        796388  Monte Carlo, Monaco\n",
       "22916  12156293   Świątek I.            1       2062757                 None\n",
       "23363  12156302   Świątek I.            1       2062757                 None\n",
       "...         ...          ...          ...           ...                  ...\n",
       "25139  12209809   Kashyap H.         None          None                 None\n",
       "25471  12211401   Bougrat M.         None          1837                 None\n",
       "25500  12211579  Krznarić N.         None            31                 None\n",
       "25551  12211947       Eto N.         None           613                 None\n",
       "25564  12211984   Kashyap H.         None          None                 None\n",
       "\n",
       "[12389 rows x 5 columns]"
      ]
     },
     "execution_count": 21,
     "metadata": {},
     "output_type": "execute_result"
    }
   ],
   "source": [
    "home_statistics_data_frame.sort_values(by=\"current_rank\", inplace=True)\n",
    "home_statistics_data_frame.drop_duplicates(subset=\"match_id\", inplace=True)\n",
    "home_statistics_data_frame"
   ]
  },
  {
   "cell_type": "code",
   "execution_count": 22,
   "id": "60146ed8",
   "metadata": {},
   "outputs": [
    {
     "data": {
      "application/vnd.microsoft.datawrangler.viewer.v0+json": {
       "columns": [
        {
         "name": "index",
         "rawType": "int64",
         "type": "integer"
        },
        {
         "name": "match_id",
         "rawType": "int64",
         "type": "integer"
        },
        {
         "name": "name",
         "rawType": "object",
         "type": "string"
        },
        {
         "name": "current_rank",
         "rawType": "object",
         "type": "unknown"
        },
        {
         "name": "current_prize",
         "rawType": "object",
         "type": "unknown"
        },
        {
         "name": "residence",
         "rawType": "object",
         "type": "unknown"
        }
       ],
       "ref": "824ac13d-a88b-48eb-96f9-e6cc954e8993",
       "rows": [
        [
         "22530",
         "12157170",
         "Sinner J.",
         "2",
         "3301073",
         "Monte Carlo, Monaco"
        ],
        [
         "18576",
         "12110004",
         "Alcaraz C.",
         "2",
         "375833",
         "El Palmar, Murcia, Spain"
        ],
        [
         "16162",
         "12110015",
         "Alcaraz C.",
         "2",
         "375833",
         "El Palmar, Murcia, Spain"
        ],
        [
         "18577",
         "12110007",
         "Alcaraz C.",
         "2",
         "375833",
         "El Palmar, Murcia, Spain"
        ],
        [
         "6917",
         "12067245",
         "Sabalenka A.",
         "2",
         "1848643",
         "Belarus"
        ],
        [
         "17393",
         "12110035",
         "Sabalenka A.",
         "2",
         "1865851",
         "Belarus"
        ],
        [
         "23529",
         "12157174",
         "Sinner J.",
         "2",
         "3301073",
         "Monte Carlo, Monaco"
        ],
        [
         "22524",
         "12157161",
         "Sinner J.",
         "2",
         "3301073",
         "Monte Carlo, Monaco"
        ],
        [
         "23805",
         "12157171",
         "Sinner J.",
         "2",
         "3301073",
         "Monte Carlo, Monaco"
        ],
        [
         "14932",
         "12109952",
         "Alcaraz C.",
         "2",
         "375833",
         "El Palmar, Murcia, Spain"
        ],
        [
         "17389",
         "12110012",
         "Alcaraz C.",
         "2",
         "375833",
         "El Palmar, Murcia, Spain"
        ],
        [
         "21323",
         "12156303",
         "Sabalenka A.",
         "2",
         "1950018",
         "Belarus"
        ],
        [
         "15255",
         "12110032",
         "Sabalenka A.",
         "2",
         "2749859",
         "Miami, Florida, USA"
        ],
        [
         "21053",
         "12156336",
         "Sabalenka A.",
         "2",
         "1950018",
         "Belarus"
        ],
        [
         "16166",
         "12110057",
         "Sabalenka A.",
         "2",
         "1865851",
         "Belarus"
        ],
        [
         "15656",
         "12109960",
         "Sinner J.",
         "2",
         "3692708",
         "Monte Carlo, Monaco"
        ],
        [
         "16171",
         "12110063",
         "Gauff C.",
         "3",
         "649491",
         "Delray Beach, Fl. USA"
        ],
        [
         "17392",
         "12110033",
         "Gauff C.",
         "3",
         "649491",
         "Delray Beach, Fl. USA"
        ],
        [
         "17925",
         "12110010",
         "Sinner J.",
         "3",
         "2113573",
         "Monte Carlo, Monaco"
        ],
        [
         "21661",
         "12159532",
         "Sinner J.",
         "3",
         "2113573",
         "Monte Carlo, Monaco"
        ],
        [
         "21668",
         "12159539",
         "Sinner J.",
         "3",
         "2113573",
         "Monte Carlo, Monaco"
        ],
        [
         "5050",
         "12049672",
         "Gauff C.",
         "3",
         "571478",
         "Delray Beach, Fl. USA"
        ],
        [
         "17395",
         "12110038",
         "Gauff C.",
         "3",
         "649491",
         "Delray Beach, Fl. USA"
        ],
        [
         "15240",
         "12109970",
         "Alcaraz C.",
         "3",
         "1590518",
         "El Palmar, Murcia, Spain"
        ],
        [
         "16159",
         "12110009",
         "Sinner J.",
         "3",
         "2113573",
         "Monte Carlo, Monaco"
        ],
        [
         "14641",
         "12109972",
         "Sinner J.",
         "3",
         "2113573",
         "Monte Carlo, Monaco"
        ],
        [
         "15262",
         "12110049",
         "Gauff C.",
         "3",
         "1369412",
         "Delray Beach, Fl. USA"
        ],
        [
         "21656",
         "12156345",
         "Rybakina E.",
         "4",
         "738779",
         null
        ],
        [
         "7427",
         "12067246",
         "Rybakina E.",
         "4",
         "421042",
         null
        ],
        [
         "22533",
         "12157175",
         "Medvedev D.",
         "4",
         "1850764",
         "Monte Carlo, Monaco"
        ],
        [
         "22527",
         "12157167",
         "Medvedev D.",
         "4",
         "1850764",
         "Monte Carlo, Monaco"
        ],
        [
         "6925",
         "12067270",
         "Rybakina E.",
         "4",
         "421042",
         null
        ],
        [
         "21659",
         "12159530",
         "Medvedev D.",
         "4",
         "1092431",
         "Monte Carlo, Monaco"
        ],
        [
         "22520",
         "12156286",
         "Rybakina E.",
         "4",
         "738779",
         null
        ],
        [
         "23527",
         "12156295",
         "Rybakina E.",
         "4",
         "1226279",
         null
        ],
        [
         "6487",
         "12049683",
         "Rybakina E.",
         "4",
         "421042",
         null
        ],
        [
         "5542",
         "12049687",
         "Rybakina E.",
         "4",
         "421042",
         null
        ],
        [
         "8038",
         "12067261",
         "Rybakina E.",
         "4",
         "677975",
         null
        ],
        [
         "5693",
         "12067090",
         "Rybakina E.",
         "4",
         "421042",
         null
        ],
        [
         "18578",
         "12110017",
         "Medvedev D.",
         "4",
         "1092431",
         "Monte Carlo, Monaco"
        ],
        [
         "21358",
         "12159562",
         "Medvedev D.",
         "4",
         "1092431",
         "Monte Carlo, Monaco"
        ],
        [
         "5056",
         "12049680",
         "Rybakina E.",
         "4",
         "421042",
         null
        ],
        [
         "21047",
         "12156325",
         "Rybakina E.",
         "4",
         "738779",
         null
        ],
        [
         "22040",
         "12156304",
         "Rybakina E.",
         "4",
         "738779",
         null
        ],
        [
         "4675",
         "12061324",
         "Rublev A.",
         "5",
         "418117",
         "Moscow, Russia"
        ],
        [
         "9863",
         "12098340",
         "Rublev A.",
         "5",
         "470684",
         "Moscow, Russia"
        ],
        [
         "21654",
         "12156343",
         "Pegula J.",
         "5",
         "466788",
         "Boca Raton, FL, USA"
        ],
        [
         "22037",
         "12156300",
         "Pegula J.",
         "5",
         "466788",
         "Boca Raton, FL, USA"
        ],
        [
         "6206",
         "12049647",
         "Rublev A.",
         "5",
         "418117",
         "Moscow, Russia"
        ],
        [
         "23528",
         "12157166",
         "Zverev A.",
         "5",
         "1646625",
         "Monte Carlo, Monaco"
        ]
       ],
       "shape": {
        "columns": 5,
        "rows": 11690
       }
      },
      "text/html": [
       "<div>\n",
       "<style scoped>\n",
       "    .dataframe tbody tr th:only-of-type {\n",
       "        vertical-align: middle;\n",
       "    }\n",
       "\n",
       "    .dataframe tbody tr th {\n",
       "        vertical-align: top;\n",
       "    }\n",
       "\n",
       "    .dataframe thead th {\n",
       "        text-align: right;\n",
       "    }\n",
       "</style>\n",
       "<table border=\"1\" class=\"dataframe\">\n",
       "  <thead>\n",
       "    <tr style=\"text-align: right;\">\n",
       "      <th></th>\n",
       "      <th>match_id</th>\n",
       "      <th>name</th>\n",
       "      <th>current_rank</th>\n",
       "      <th>current_prize</th>\n",
       "      <th>residence</th>\n",
       "    </tr>\n",
       "  </thead>\n",
       "  <tbody>\n",
       "    <tr>\n",
       "      <th>22530</th>\n",
       "      <td>12157170</td>\n",
       "      <td>Sinner J.</td>\n",
       "      <td>2</td>\n",
       "      <td>3301073</td>\n",
       "      <td>Monte Carlo, Monaco</td>\n",
       "    </tr>\n",
       "    <tr>\n",
       "      <th>18576</th>\n",
       "      <td>12110004</td>\n",
       "      <td>Alcaraz C.</td>\n",
       "      <td>2</td>\n",
       "      <td>375833</td>\n",
       "      <td>El Palmar, Murcia, Spain</td>\n",
       "    </tr>\n",
       "    <tr>\n",
       "      <th>16162</th>\n",
       "      <td>12110015</td>\n",
       "      <td>Alcaraz C.</td>\n",
       "      <td>2</td>\n",
       "      <td>375833</td>\n",
       "      <td>El Palmar, Murcia, Spain</td>\n",
       "    </tr>\n",
       "    <tr>\n",
       "      <th>18577</th>\n",
       "      <td>12110007</td>\n",
       "      <td>Alcaraz C.</td>\n",
       "      <td>2</td>\n",
       "      <td>375833</td>\n",
       "      <td>El Palmar, Murcia, Spain</td>\n",
       "    </tr>\n",
       "    <tr>\n",
       "      <th>6917</th>\n",
       "      <td>12067245</td>\n",
       "      <td>Sabalenka A.</td>\n",
       "      <td>2</td>\n",
       "      <td>1848643</td>\n",
       "      <td>Belarus</td>\n",
       "    </tr>\n",
       "    <tr>\n",
       "      <th>...</th>\n",
       "      <td>...</td>\n",
       "      <td>...</td>\n",
       "      <td>...</td>\n",
       "      <td>...</td>\n",
       "      <td>...</td>\n",
       "    </tr>\n",
       "    <tr>\n",
       "      <th>24089</th>\n",
       "      <td>12211398</td>\n",
       "      <td>Liauw A Fong N.</td>\n",
       "      <td>None</td>\n",
       "      <td>3630</td>\n",
       "      <td>None</td>\n",
       "    </tr>\n",
       "    <tr>\n",
       "      <th>24093</th>\n",
       "      <td>12211485</td>\n",
       "      <td>Collins A.</td>\n",
       "      <td>None</td>\n",
       "      <td>818</td>\n",
       "      <td>None</td>\n",
       "    </tr>\n",
       "    <tr>\n",
       "      <th>24099</th>\n",
       "      <td>12211561</td>\n",
       "      <td>Baidaulet D.</td>\n",
       "      <td>None</td>\n",
       "      <td>None</td>\n",
       "      <td>None</td>\n",
       "    </tr>\n",
       "    <tr>\n",
       "      <th>24176</th>\n",
       "      <td>12212015</td>\n",
       "      <td>Simonsson F.</td>\n",
       "      <td>None</td>\n",
       "      <td>215</td>\n",
       "      <td>Stockholm, Sweden</td>\n",
       "    </tr>\n",
       "    <tr>\n",
       "      <th>24201</th>\n",
       "      <td>12213458</td>\n",
       "      <td>Simonsson F.</td>\n",
       "      <td>None</td>\n",
       "      <td>215</td>\n",
       "      <td>Stockholm, Sweden</td>\n",
       "    </tr>\n",
       "  </tbody>\n",
       "</table>\n",
       "<p>11690 rows × 5 columns</p>\n",
       "</div>"
      ],
      "text/plain": [
       "       match_id             name current_rank current_prize  \\\n",
       "22530  12157170        Sinner J.            2       3301073   \n",
       "18576  12110004       Alcaraz C.            2        375833   \n",
       "16162  12110015       Alcaraz C.            2        375833   \n",
       "18577  12110007       Alcaraz C.            2        375833   \n",
       "6917   12067245     Sabalenka A.            2       1848643   \n",
       "...         ...              ...          ...           ...   \n",
       "24089  12211398  Liauw A Fong N.         None          3630   \n",
       "24093  12211485       Collins A.         None           818   \n",
       "24099  12211561     Baidaulet D.         None          None   \n",
       "24176  12212015     Simonsson F.         None           215   \n",
       "24201  12213458     Simonsson F.         None           215   \n",
       "\n",
       "                      residence  \n",
       "22530       Monte Carlo, Monaco  \n",
       "18576  El Palmar, Murcia, Spain  \n",
       "16162  El Palmar, Murcia, Spain  \n",
       "18577  El Palmar, Murcia, Spain  \n",
       "6917                    Belarus  \n",
       "...                         ...  \n",
       "24089                      None  \n",
       "24093                      None  \n",
       "24099                      None  \n",
       "24176         Stockholm, Sweden  \n",
       "24201         Stockholm, Sweden  \n",
       "\n",
       "[11690 rows x 5 columns]"
      ]
     },
     "execution_count": 22,
     "metadata": {},
     "output_type": "execute_result"
    }
   ],
   "source": [
    "away_statistics_data_frame.sort_values(by=\"current_rank\", inplace=True)\n",
    "away_statistics_data_frame.drop_duplicates(subset=\"match_id\", inplace=True)\n",
    "away_statistics_data_frame"
   ]
  },
  {
   "cell_type": "markdown",
   "id": "11d1babb",
   "metadata": {},
   "source": [
    "Based on \"current_rank\" in ERD , I'll analyze data with \"current_rank\" and Players information"
   ]
  },
  {
   "cell_type": "markdown",
   "id": "97b276c9",
   "metadata": {},
   "source": [
    "Reading data of players information"
   ]
  },
  {
   "cell_type": "code",
   "execution_count": null,
   "id": "7e123b07",
   "metadata": {},
   "outputs": [
    {
     "data": {
      "application/vnd.microsoft.datawrangler.viewer.v0+json": {
       "columns": [
        {
         "name": "index",
         "rawType": "int64",
         "type": "integer"
        },
        {
         "name": "match_id",
         "rawType": "int64",
         "type": "integer"
        },
        {
         "name": "name",
         "rawType": "object",
         "type": "string"
        },
        {
         "name": "current_rank",
         "rawType": "object",
         "type": "unknown"
        },
        {
         "name": "current_prize",
         "rawType": "object",
         "type": "unknown"
        },
        {
         "name": "residence",
         "rawType": "object",
         "type": "unknown"
        }
       ],
       "ref": "e7e26c8c-d6f5-4357-bc47-4e4e8680b811",
       "rows": [
        [
         "0",
         "12049683",
         "Świątek I.",
         "1",
         "577399",
         null
        ],
        [
         "19",
         "12110072",
         "Świątek I.",
         "1",
         "1146090",
         null
        ],
        [
         "18",
         "12110074",
         "Świątek I.",
         "1",
         "2062757",
         null
        ],
        [
         "16",
         "12049670",
         "Świątek I.",
         "1",
         "577399",
         null
        ],
        [
         "15",
         "12067252",
         "Świątek I.",
         "1",
         "1013637",
         null
        ],
        [
         "14",
         "12067255",
         "Świątek I.",
         "1",
         "1013637",
         null
        ],
        [
         "13",
         "12156314",
         "Świątek I.",
         "1",
         "2062757",
         null
        ],
        [
         "12",
         "12049681",
         "Świątek I.",
         "1",
         "577399",
         null
        ],
        [
         "11",
         "12049688",
         "Świątek I.",
         "1",
         "577399",
         null
        ],
        [
         "10",
         "12049684",
         "Świątek I.",
         "1",
         "577399",
         null
        ],
        [
         "17",
         "12110031",
         "Świątek I.",
         "1",
         "3569791",
         null
        ],
        [
         "8",
         "12110041",
         "Świątek I.",
         "1",
         "1146090",
         null
        ],
        [
         "7",
         "12110077",
         "Świątek I.",
         "1",
         "1146090",
         null
        ],
        [
         "6",
         "12067265",
         "Świątek I.",
         "1",
         "577399",
         null
        ],
        [
         "5",
         "12110058",
         "Świątek I.",
         "1",
         "1146090",
         null
        ],
        [
         "4",
         "12156302",
         "Świątek I.",
         "1",
         "2062757",
         null
        ],
        [
         "3",
         "12156293",
         "Świątek I.",
         "1",
         "2062757",
         null
        ],
        [
         "2",
         "12109939",
         "Djokovic N.",
         "1",
         "796388",
         "Monte Carlo, Monaco"
        ],
        [
         "1",
         "12067249",
         "Świątek I.",
         "1",
         "1013637",
         null
        ],
        [
         "9",
         "12109982",
         "Djokovic N.",
         "1",
         "796388",
         "Monte Carlo, Monaco"
        ],
        [
         "12393",
         "12067245",
         "Sabalenka A.",
         "2",
         "1848643",
         "Belarus"
        ],
        [
         "12394",
         "12110035",
         "Sabalenka A.",
         "2",
         "1865851",
         "Belarus"
        ],
        [
         "12395",
         "12157174",
         "Sinner J.",
         "2",
         "3301073",
         "Monte Carlo, Monaco"
        ],
        [
         "12396",
         "12157161",
         "Sinner J.",
         "2",
         "3301073",
         "Monte Carlo, Monaco"
        ],
        [
         "12397",
         "12157171",
         "Sinner J.",
         "2",
         "3301073",
         "Monte Carlo, Monaco"
        ],
        [
         "12398",
         "12109952",
         "Alcaraz C.",
         "2",
         "375833",
         "El Palmar, Murcia, Spain"
        ],
        [
         "12402",
         "12156336",
         "Sabalenka A.",
         "2",
         "1950018",
         "Belarus"
        ],
        [
         "12389",
         "12157170",
         "Sinner J.",
         "2",
         "3301073",
         "Monte Carlo, Monaco"
        ],
        [
         "12400",
         "12156303",
         "Sabalenka A.",
         "2",
         "1950018",
         "Belarus"
        ],
        [
         "12401",
         "12110032",
         "Sabalenka A.",
         "2",
         "2749859",
         "Miami, Florida, USA"
        ],
        [
         "12403",
         "12110057",
         "Sabalenka A.",
         "2",
         "1865851",
         "Belarus"
        ],
        [
         "12404",
         "12109960",
         "Sinner J.",
         "2",
         "3692708",
         "Monte Carlo, Monaco"
        ],
        [
         "12392",
         "12110007",
         "Alcaraz C.",
         "2",
         "375833",
         "El Palmar, Murcia, Spain"
        ],
        [
         "12399",
         "12110012",
         "Alcaraz C.",
         "2",
         "375833",
         "El Palmar, Murcia, Spain"
        ],
        [
         "12390",
         "12110004",
         "Alcaraz C.",
         "2",
         "375833",
         "El Palmar, Murcia, Spain"
        ],
        [
         "12391",
         "12110015",
         "Alcaraz C.",
         "2",
         "375833",
         "El Palmar, Murcia, Spain"
        ],
        [
         "22",
         "12159573",
         "Alcaraz C.",
         "2",
         "375833",
         "El Palmar, Murcia, Spain"
        ],
        [
         "24",
         "12077848",
         "Alcaraz C.",
         "2",
         "362183",
         "El Palmar, Murcia, Spain"
        ],
        [
         "20",
         "12049569",
         "Alcaraz C.",
         "2",
         "362183",
         "El Palmar, Murcia, Spain"
        ],
        [
         "21",
         "12049582",
         "Alcaraz C.",
         "2",
         "334250",
         "El Palmar, Murcia, Spain"
        ],
        [
         "23",
         "12049583",
         "Alcaraz C.",
         "2",
         "334250",
         "El Palmar, Murcia, Spain"
        ],
        [
         "33",
         "12157172",
         "Alcaraz C.",
         "3",
         "1446667",
         "El Palmar, Murcia, Spain"
        ],
        [
         "32",
         "12156308",
         "Gauff C.",
         "3",
         "946824",
         "Delray Beach, Fl. USA"
        ],
        [
         "31",
         "12049644",
         "Sinner J.",
         "3",
         "2113573",
         "Monte Carlo, Monaco"
        ],
        [
         "30",
         "12157165",
         "Alcaraz C.",
         "3",
         "1446667",
         "El Palmar, Murcia, Spain"
        ],
        [
         "29",
         "12049637",
         "Sinner J.",
         "3",
         "2113573",
         "Monte Carlo, Monaco"
        ],
        [
         "28",
         "12067262",
         "Gauff C.",
         "3",
         "571478",
         "Delray Beach, Fl. USA"
        ],
        [
         "27",
         "12110007",
         "Sinner J.",
         "3",
         "2113573",
         "Monte Carlo, Monaco"
        ],
        [
         "26",
         "12156305",
         "Gauff C.",
         "3",
         "946824",
         "Delray Beach, Fl. USA"
        ],
        [
         "25",
         "12110078",
         "Gauff C.",
         "3",
         "649491",
         "Delray Beach, Fl. USA"
        ]
       ],
       "shape": {
        "columns": 5,
        "rows": 24079
       }
      },
      "text/html": [
       "<div>\n",
       "<style scoped>\n",
       "    .dataframe tbody tr th:only-of-type {\n",
       "        vertical-align: middle;\n",
       "    }\n",
       "\n",
       "    .dataframe tbody tr th {\n",
       "        vertical-align: top;\n",
       "    }\n",
       "\n",
       "    .dataframe thead th {\n",
       "        text-align: right;\n",
       "    }\n",
       "</style>\n",
       "<table border=\"1\" class=\"dataframe\">\n",
       "  <thead>\n",
       "    <tr style=\"text-align: right;\">\n",
       "      <th></th>\n",
       "      <th>match_id</th>\n",
       "      <th>name</th>\n",
       "      <th>current_rank</th>\n",
       "      <th>current_prize</th>\n",
       "      <th>residence</th>\n",
       "    </tr>\n",
       "  </thead>\n",
       "  <tbody>\n",
       "    <tr>\n",
       "      <th>0</th>\n",
       "      <td>12049683</td>\n",
       "      <td>Świątek I.</td>\n",
       "      <td>1</td>\n",
       "      <td>577399</td>\n",
       "      <td>None</td>\n",
       "    </tr>\n",
       "    <tr>\n",
       "      <th>19</th>\n",
       "      <td>12110072</td>\n",
       "      <td>Świątek I.</td>\n",
       "      <td>1</td>\n",
       "      <td>1146090</td>\n",
       "      <td>None</td>\n",
       "    </tr>\n",
       "    <tr>\n",
       "      <th>18</th>\n",
       "      <td>12110074</td>\n",
       "      <td>Świątek I.</td>\n",
       "      <td>1</td>\n",
       "      <td>2062757</td>\n",
       "      <td>None</td>\n",
       "    </tr>\n",
       "    <tr>\n",
       "      <th>16</th>\n",
       "      <td>12049670</td>\n",
       "      <td>Świątek I.</td>\n",
       "      <td>1</td>\n",
       "      <td>577399</td>\n",
       "      <td>None</td>\n",
       "    </tr>\n",
       "    <tr>\n",
       "      <th>15</th>\n",
       "      <td>12067252</td>\n",
       "      <td>Świątek I.</td>\n",
       "      <td>1</td>\n",
       "      <td>1013637</td>\n",
       "      <td>None</td>\n",
       "    </tr>\n",
       "    <tr>\n",
       "      <th>...</th>\n",
       "      <td>...</td>\n",
       "      <td>...</td>\n",
       "      <td>...</td>\n",
       "      <td>...</td>\n",
       "      <td>...</td>\n",
       "    </tr>\n",
       "    <tr>\n",
       "      <th>24074</th>\n",
       "      <td>12211398</td>\n",
       "      <td>Liauw A Fong N.</td>\n",
       "      <td>None</td>\n",
       "      <td>3630</td>\n",
       "      <td>None</td>\n",
       "    </tr>\n",
       "    <tr>\n",
       "      <th>24075</th>\n",
       "      <td>12211485</td>\n",
       "      <td>Collins A.</td>\n",
       "      <td>None</td>\n",
       "      <td>818</td>\n",
       "      <td>None</td>\n",
       "    </tr>\n",
       "    <tr>\n",
       "      <th>24076</th>\n",
       "      <td>12211561</td>\n",
       "      <td>Baidaulet D.</td>\n",
       "      <td>None</td>\n",
       "      <td>None</td>\n",
       "      <td>None</td>\n",
       "    </tr>\n",
       "    <tr>\n",
       "      <th>24077</th>\n",
       "      <td>12212015</td>\n",
       "      <td>Simonsson F.</td>\n",
       "      <td>None</td>\n",
       "      <td>215</td>\n",
       "      <td>Stockholm, Sweden</td>\n",
       "    </tr>\n",
       "    <tr>\n",
       "      <th>24078</th>\n",
       "      <td>12213458</td>\n",
       "      <td>Simonsson F.</td>\n",
       "      <td>None</td>\n",
       "      <td>215</td>\n",
       "      <td>Stockholm, Sweden</td>\n",
       "    </tr>\n",
       "  </tbody>\n",
       "</table>\n",
       "<p>24079 rows × 5 columns</p>\n",
       "</div>"
      ],
      "text/plain": [
       "       match_id             name current_rank current_prize          residence\n",
       "0      12049683       Świątek I.            1        577399               None\n",
       "19     12110072       Świątek I.            1       1146090               None\n",
       "18     12110074       Świątek I.            1       2062757               None\n",
       "16     12049670       Świątek I.            1        577399               None\n",
       "15     12067252       Świątek I.            1       1013637               None\n",
       "...         ...              ...          ...           ...                ...\n",
       "24074  12211398  Liauw A Fong N.         None          3630               None\n",
       "24075  12211485       Collins A.         None           818               None\n",
       "24076  12211561     Baidaulet D.         None          None               None\n",
       "24077  12212015     Simonsson F.         None           215  Stockholm, Sweden\n",
       "24078  12213458     Simonsson F.         None           215  Stockholm, Sweden\n",
       "\n",
       "[24079 rows x 5 columns]"
      ]
     },
     "execution_count": 35,
     "metadata": {},
     "output_type": "execute_result"
    }
   ],
   "source": [
    "combined_df = pd.concat(\n",
    "    [home_statistics_data_frame, away_statistics_data_frame], ignore_index=True\n",
    ")\n",
    "unique_df = combined_df.drop_duplicates()\n",
    "sorted_df = unique_df.sort_values(by=\"current_rank\")\n",
    "sorted_df"
   ]
  },
  {
   "cell_type": "markdown",
   "id": "c13cb584",
   "metadata": {},
   "source": [
    "Based on first Missing Values , I had to search my self about player named : Swiatek I.\\\n",
    "She is from Poland \\\n",
    "Adding to data"
   ]
  },
  {
   "cell_type": "code",
   "execution_count": null,
   "id": "938939a5",
   "metadata": {},
   "outputs": [
    {
     "data": {
      "application/vnd.microsoft.datawrangler.viewer.v0+json": {
       "columns": [
        {
         "name": "index",
         "rawType": "int64",
         "type": "integer"
        },
        {
         "name": "match_id",
         "rawType": "int64",
         "type": "integer"
        },
        {
         "name": "name",
         "rawType": "object",
         "type": "string"
        },
        {
         "name": "current_rank",
         "rawType": "object",
         "type": "unknown"
        },
        {
         "name": "current_prize",
         "rawType": "object",
         "type": "unknown"
        },
        {
         "name": "residence",
         "rawType": "object",
         "type": "unknown"
        }
       ],
       "ref": "62cc2b14-29ed-494f-ac5e-e5bb99508d0c",
       "rows": [
        [
         "0",
         "12049683",
         "Świątek I.",
         "1",
         "577399",
         "Poland"
        ],
        [
         "19",
         "12110072",
         "Świątek I.",
         "1",
         "1146090",
         "Poland"
        ],
        [
         "18",
         "12110074",
         "Świątek I.",
         "1",
         "2062757",
         "Poland"
        ],
        [
         "16",
         "12049670",
         "Świątek I.",
         "1",
         "577399",
         "Poland"
        ],
        [
         "15",
         "12067252",
         "Świątek I.",
         "1",
         "1013637",
         "Poland"
        ],
        [
         "14",
         "12067255",
         "Świątek I.",
         "1",
         "1013637",
         "Poland"
        ],
        [
         "13",
         "12156314",
         "Świątek I.",
         "1",
         "2062757",
         "Poland"
        ],
        [
         "12",
         "12049681",
         "Świątek I.",
         "1",
         "577399",
         "Poland"
        ],
        [
         "11",
         "12049688",
         "Świątek I.",
         "1",
         "577399",
         "Poland"
        ],
        [
         "10",
         "12049684",
         "Świątek I.",
         "1",
         "577399",
         "Poland"
        ],
        [
         "17",
         "12110031",
         "Świątek I.",
         "1",
         "3569791",
         "Poland"
        ],
        [
         "8",
         "12110041",
         "Świątek I.",
         "1",
         "1146090",
         "Poland"
        ],
        [
         "7",
         "12110077",
         "Świątek I.",
         "1",
         "1146090",
         "Poland"
        ],
        [
         "6",
         "12067265",
         "Świątek I.",
         "1",
         "577399",
         "Poland"
        ],
        [
         "5",
         "12110058",
         "Świątek I.",
         "1",
         "1146090",
         "Poland"
        ],
        [
         "4",
         "12156302",
         "Świątek I.",
         "1",
         "2062757",
         "Poland"
        ],
        [
         "3",
         "12156293",
         "Świątek I.",
         "1",
         "2062757",
         "Poland"
        ],
        [
         "2",
         "12109939",
         "Djokovic N.",
         "1",
         "796388",
         "Monte Carlo, Monaco"
        ],
        [
         "1",
         "12067249",
         "Świątek I.",
         "1",
         "1013637",
         "Poland"
        ],
        [
         "9",
         "12109982",
         "Djokovic N.",
         "1",
         "796388",
         "Monte Carlo, Monaco"
        ],
        [
         "12393",
         "12067245",
         "Sabalenka A.",
         "2",
         "1848643",
         "Belarus"
        ],
        [
         "12394",
         "12110035",
         "Sabalenka A.",
         "2",
         "1865851",
         "Belarus"
        ],
        [
         "12395",
         "12157174",
         "Sinner J.",
         "2",
         "3301073",
         "Monte Carlo, Monaco"
        ],
        [
         "12396",
         "12157161",
         "Sinner J.",
         "2",
         "3301073",
         "Monte Carlo, Monaco"
        ],
        [
         "12397",
         "12157171",
         "Sinner J.",
         "2",
         "3301073",
         "Monte Carlo, Monaco"
        ],
        [
         "12398",
         "12109952",
         "Alcaraz C.",
         "2",
         "375833",
         "El Palmar, Murcia, Spain"
        ],
        [
         "12402",
         "12156336",
         "Sabalenka A.",
         "2",
         "1950018",
         "Belarus"
        ],
        [
         "12389",
         "12157170",
         "Sinner J.",
         "2",
         "3301073",
         "Monte Carlo, Monaco"
        ],
        [
         "12400",
         "12156303",
         "Sabalenka A.",
         "2",
         "1950018",
         "Belarus"
        ],
        [
         "12401",
         "12110032",
         "Sabalenka A.",
         "2",
         "2749859",
         "Miami, Florida, USA"
        ],
        [
         "12403",
         "12110057",
         "Sabalenka A.",
         "2",
         "1865851",
         "Belarus"
        ],
        [
         "12404",
         "12109960",
         "Sinner J.",
         "2",
         "3692708",
         "Monte Carlo, Monaco"
        ],
        [
         "12392",
         "12110007",
         "Alcaraz C.",
         "2",
         "375833",
         "El Palmar, Murcia, Spain"
        ],
        [
         "12399",
         "12110012",
         "Alcaraz C.",
         "2",
         "375833",
         "El Palmar, Murcia, Spain"
        ],
        [
         "12390",
         "12110004",
         "Alcaraz C.",
         "2",
         "375833",
         "El Palmar, Murcia, Spain"
        ],
        [
         "12391",
         "12110015",
         "Alcaraz C.",
         "2",
         "375833",
         "El Palmar, Murcia, Spain"
        ],
        [
         "22",
         "12159573",
         "Alcaraz C.",
         "2",
         "375833",
         "El Palmar, Murcia, Spain"
        ],
        [
         "24",
         "12077848",
         "Alcaraz C.",
         "2",
         "362183",
         "El Palmar, Murcia, Spain"
        ],
        [
         "20",
         "12049569",
         "Alcaraz C.",
         "2",
         "362183",
         "El Palmar, Murcia, Spain"
        ],
        [
         "21",
         "12049582",
         "Alcaraz C.",
         "2",
         "334250",
         "El Palmar, Murcia, Spain"
        ],
        [
         "23",
         "12049583",
         "Alcaraz C.",
         "2",
         "334250",
         "El Palmar, Murcia, Spain"
        ],
        [
         "33",
         "12157172",
         "Alcaraz C.",
         "3",
         "1446667",
         "El Palmar, Murcia, Spain"
        ],
        [
         "32",
         "12156308",
         "Gauff C.",
         "3",
         "946824",
         "Delray Beach, Fl. USA"
        ],
        [
         "31",
         "12049644",
         "Sinner J.",
         "3",
         "2113573",
         "Monte Carlo, Monaco"
        ],
        [
         "30",
         "12157165",
         "Alcaraz C.",
         "3",
         "1446667",
         "El Palmar, Murcia, Spain"
        ],
        [
         "29",
         "12049637",
         "Sinner J.",
         "3",
         "2113573",
         "Monte Carlo, Monaco"
        ],
        [
         "28",
         "12067262",
         "Gauff C.",
         "3",
         "571478",
         "Delray Beach, Fl. USA"
        ],
        [
         "27",
         "12110007",
         "Sinner J.",
         "3",
         "2113573",
         "Monte Carlo, Monaco"
        ],
        [
         "26",
         "12156305",
         "Gauff C.",
         "3",
         "946824",
         "Delray Beach, Fl. USA"
        ],
        [
         "25",
         "12110078",
         "Gauff C.",
         "3",
         "649491",
         "Delray Beach, Fl. USA"
        ]
       ],
       "shape": {
        "columns": 5,
        "rows": 24079
       }
      },
      "text/html": [
       "<div>\n",
       "<style scoped>\n",
       "    .dataframe tbody tr th:only-of-type {\n",
       "        vertical-align: middle;\n",
       "    }\n",
       "\n",
       "    .dataframe tbody tr th {\n",
       "        vertical-align: top;\n",
       "    }\n",
       "\n",
       "    .dataframe thead th {\n",
       "        text-align: right;\n",
       "    }\n",
       "</style>\n",
       "<table border=\"1\" class=\"dataframe\">\n",
       "  <thead>\n",
       "    <tr style=\"text-align: right;\">\n",
       "      <th></th>\n",
       "      <th>match_id</th>\n",
       "      <th>name</th>\n",
       "      <th>current_rank</th>\n",
       "      <th>current_prize</th>\n",
       "      <th>residence</th>\n",
       "    </tr>\n",
       "  </thead>\n",
       "  <tbody>\n",
       "    <tr>\n",
       "      <th>0</th>\n",
       "      <td>12049683</td>\n",
       "      <td>Świątek I.</td>\n",
       "      <td>1</td>\n",
       "      <td>577399</td>\n",
       "      <td>Poland</td>\n",
       "    </tr>\n",
       "    <tr>\n",
       "      <th>19</th>\n",
       "      <td>12110072</td>\n",
       "      <td>Świątek I.</td>\n",
       "      <td>1</td>\n",
       "      <td>1146090</td>\n",
       "      <td>Poland</td>\n",
       "    </tr>\n",
       "    <tr>\n",
       "      <th>18</th>\n",
       "      <td>12110074</td>\n",
       "      <td>Świątek I.</td>\n",
       "      <td>1</td>\n",
       "      <td>2062757</td>\n",
       "      <td>Poland</td>\n",
       "    </tr>\n",
       "    <tr>\n",
       "      <th>16</th>\n",
       "      <td>12049670</td>\n",
       "      <td>Świątek I.</td>\n",
       "      <td>1</td>\n",
       "      <td>577399</td>\n",
       "      <td>Poland</td>\n",
       "    </tr>\n",
       "    <tr>\n",
       "      <th>15</th>\n",
       "      <td>12067252</td>\n",
       "      <td>Świątek I.</td>\n",
       "      <td>1</td>\n",
       "      <td>1013637</td>\n",
       "      <td>Poland</td>\n",
       "    </tr>\n",
       "    <tr>\n",
       "      <th>...</th>\n",
       "      <td>...</td>\n",
       "      <td>...</td>\n",
       "      <td>...</td>\n",
       "      <td>...</td>\n",
       "      <td>...</td>\n",
       "    </tr>\n",
       "    <tr>\n",
       "      <th>24074</th>\n",
       "      <td>12211398</td>\n",
       "      <td>Liauw A Fong N.</td>\n",
       "      <td>None</td>\n",
       "      <td>3630</td>\n",
       "      <td>None</td>\n",
       "    </tr>\n",
       "    <tr>\n",
       "      <th>24075</th>\n",
       "      <td>12211485</td>\n",
       "      <td>Collins A.</td>\n",
       "      <td>None</td>\n",
       "      <td>818</td>\n",
       "      <td>None</td>\n",
       "    </tr>\n",
       "    <tr>\n",
       "      <th>24076</th>\n",
       "      <td>12211561</td>\n",
       "      <td>Baidaulet D.</td>\n",
       "      <td>None</td>\n",
       "      <td>None</td>\n",
       "      <td>None</td>\n",
       "    </tr>\n",
       "    <tr>\n",
       "      <th>24077</th>\n",
       "      <td>12212015</td>\n",
       "      <td>Simonsson F.</td>\n",
       "      <td>None</td>\n",
       "      <td>215</td>\n",
       "      <td>Stockholm, Sweden</td>\n",
       "    </tr>\n",
       "    <tr>\n",
       "      <th>24078</th>\n",
       "      <td>12213458</td>\n",
       "      <td>Simonsson F.</td>\n",
       "      <td>None</td>\n",
       "      <td>215</td>\n",
       "      <td>Stockholm, Sweden</td>\n",
       "    </tr>\n",
       "  </tbody>\n",
       "</table>\n",
       "<p>24079 rows × 5 columns</p>\n",
       "</div>"
      ],
      "text/plain": [
       "       match_id             name current_rank current_prize          residence\n",
       "0      12049683       Świątek I.            1        577399             Poland\n",
       "19     12110072       Świątek I.            1       1146090             Poland\n",
       "18     12110074       Świątek I.            1       2062757             Poland\n",
       "16     12049670       Świątek I.            1        577399             Poland\n",
       "15     12067252       Świątek I.            1       1013637             Poland\n",
       "...         ...              ...          ...           ...                ...\n",
       "24074  12211398  Liauw A Fong N.         None          3630               None\n",
       "24075  12211485       Collins A.         None           818               None\n",
       "24076  12211561     Baidaulet D.         None          None               None\n",
       "24077  12212015     Simonsson F.         None           215  Stockholm, Sweden\n",
       "24078  12213458     Simonsson F.         None           215  Stockholm, Sweden\n",
       "\n",
       "[24079 rows x 5 columns]"
      ]
     },
     "execution_count": 38,
     "metadata": {},
     "output_type": "execute_result"
    }
   ],
   "source": [
    "sorted_df.loc[sorted_df[\"name\"] == \"Świątek I.\", \"residence\"] = \"Poland\"\n",
    "sorted_df"
   ]
  },
  {
   "cell_type": "markdown",
   "id": "3b6d2f59",
   "metadata": {},
   "source": [
    "# Plot Top-10 Countries in Tennis Champions data in Seaborn Library"
   ]
  },
  {
   "cell_type": "code",
   "execution_count": null,
   "id": "d43c95ca",
   "metadata": {},
   "outputs": [
    {
     "data": {
      "image/png": "[encoded data removed]",
      "text/plain": [
       "<Figure size 1200x600 with 1 Axes>"
      ]
     },
     "metadata": {},
     "output_type": "display_data"
    }
   ],
   "source": [
    "unique_players = sorted_df.drop_duplicates(subset=[\"name\", \"residence\"])\n",
    "\n",
    "country_counts = unique_players[\"residence\"].value_counts().reset_index()\n",
    "country_counts.columns = [\"Country\", \"Number of Players\"]\n",
    "\n",
    "plt.figure(figsize=(12, 6))\n",
    "sns.barplot(\n",
    "    data=country_counts.head(10),\n",
    "    x=\"Country\",\n",
    "    y=\"Number of Players\",\n",
    "    hue=\"Country\",\n",
    "    palette=\"rocket\",\n",
    "    legend=False,\n",
    ")\n",
    "\n",
    "plt.title(\"Top Countries by Number of Successful Tennis Players\")\n",
    "plt.xlabel(\"Country\")\n",
    "plt.ylabel(\"Number of Players\")\n",
    "plt.xticks(rotation=45)\n",
    "plt.tight_layout()\n",
    "plt.show()"
   ]
  }
 ],
 "metadata": {
  "kernelspec": {
   "display_name": "venv (3.12.10)",
   "language": "python",
   "name": "python3"
  },
  "language_info": {
   "codemirror_mode": {
    "name": "ipython",
    "version": 3
   },
   "file_extension": ".py",
   "mimetype": "text/x-python",
   "name": "python",
   "nbconvert_exporter": "python",
   "pygments_lexer": "ipython3",
   "version": "3.12.10"
  }
 },
 "nbformat": 4,
 "nbformat_minor": 5
}
