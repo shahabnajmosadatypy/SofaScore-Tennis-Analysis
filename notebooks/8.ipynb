{
 "cells": [
  {
   "cell_type": "code",
   "execution_count": 2,
   "id": "48e16f02",
   "metadata": {},
   "outputs": [],
   "source": [
    "import numpy as np, pandas as pd\n",
    "from glob import glob\n",
    "from fetch_data import fetch_data"
   ]
  },
  {
   "cell_type": "code",
   "execution_count": 3,
   "id": "50c51e3a",
   "metadata": {},
   "outputs": [
    {
     "name": "stderr",
     "output_type": "stream",
     "text": [
      "/home/nima/data_science/tennis_project/SofaScore-Tennis-Analysis/notebooks/fetch_data.py:34: FutureWarning: The behavior of DataFrame concatenation with empty or all-NA entries is deprecated. In a future version, this will no longer exclude empty or all-NA columns when determining the result dtypes. To retain the old behavior, exclude the relevant entries before the concat operation.\n",
      "  data = pd.concat(dataframes,ignore_index=True)\n",
      "/home/nima/data_science/tennis_project/SofaScore-Tennis-Analysis/notebooks/fetch_data.py:34: FutureWarning: The behavior of DataFrame concatenation with empty or all-NA entries is deprecated. In a future version, this will no longer exclude empty or all-NA columns when determining the result dtypes. To retain the old behavior, exclude the relevant entries before the concat operation.\n",
      "  data = pd.concat(dataframes,ignore_index=True)\n"
     ]
    }
   ],
   "source": [
    "data_statistics = fetch_data(20240201,20240331,'statistics')\n",
    "\n",
    "data_away_team = fetch_data(20240201,20240331,'away_team')\n",
    "\n",
    "data_home_team = fetch_data(20240201,20240331,'home_team')"
   ]
  },
  {
   "cell_type": "code",
   "execution_count": 5,
   "id": "8ca308f2",
   "metadata": {},
   "outputs": [],
   "source": [
    "unique_columns = [\"match_id\",\"name\",\"slug\"]\n",
    "data_away_team = data_away_team.drop_duplicates(subset=unique_columns)\n",
    "\n",
    "data_home_team = data_home_team.drop_duplicates(subset=unique_columns)\n"
   ]
  },
  {
   "cell_type": "code",
   "execution_count": 6,
   "id": "5fe3dfeb",
   "metadata": {},
   "outputs": [],
   "source": [
    "double_faults = (data_statistics[\"statistic_name\"] == \"double_faults\") & (data_statistics[\"period\"] == \"ALL\")\n",
    "data_statistics = data_statistics[double_faults]\n",
    "\n",
    "unique_columns_stat = [\"match_id\",\"statistic_name\"]\n",
    "data_statistics = data_statistics.drop_duplicates(subset=unique_columns_stat)\n"
   ]
  },
  {
   "cell_type": "code",
   "execution_count": 7,
   "id": "29d76788",
   "metadata": {},
   "outputs": [],
   "source": [
    "away_statistics_data = pd.merge(data_away_team,data_statistics)\n",
    "\n",
    "home_statistics_data = pd.merge(data_home_team,data_statistics)"
   ]
  },
  {
   "cell_type": "code",
   "execution_count": 8,
   "id": "cf9fbf77",
   "metadata": {},
   "outputs": [],
   "source": [
    "mask_columns_away = [\"match_id\",\"name\",\"gender\",\"period\",\"statistic_category_name\",\"statistic_name\",\"away_value\"]\n",
    "mask_columns_home = [\"match_id\",\"name\",\"gender\",\"period\",\"statistic_category_name\",\"statistic_name\",\"home_value\"]\n",
    "\n",
    "\n",
    "away_statistics_data = away_statistics_data[mask_columns_away]\n",
    "away_statistics_data = away_statistics_data.rename(columns={\"away_value\":\"stat\"})\n",
    "\n",
    "home_statistics_data  = home_statistics_data[mask_columns_home]\n",
    "home_statistics_data  = home_statistics_data .rename(columns={\"home_value\":\"stat\"})"
   ]
  },
  {
   "cell_type": "code",
   "execution_count": 9,
   "id": "e24d0d5e",
   "metadata": {},
   "outputs": [],
   "source": [
    "data = pd.concat([away_statistics_data,home_statistics_data])"
   ]
  },
  {
   "cell_type": "code",
   "execution_count": 10,
   "id": "c950f593",
   "metadata": {},
   "outputs": [
    {
     "data": {
      "text/html": [
       "<div>\n",
       "<style scoped>\n",
       "    .dataframe tbody tr th:only-of-type {\n",
       "        vertical-align: middle;\n",
       "    }\n",
       "\n",
       "    .dataframe tbody tr th {\n",
       "        vertical-align: top;\n",
       "    }\n",
       "\n",
       "    .dataframe thead th {\n",
       "        text-align: right;\n",
       "    }\n",
       "</style>\n",
       "<table border=\"1\" class=\"dataframe\">\n",
       "  <thead>\n",
       "    <tr style=\"text-align: right;\">\n",
       "      <th></th>\n",
       "      <th>match_id</th>\n",
       "      <th>name</th>\n",
       "      <th>gender</th>\n",
       "      <th>period</th>\n",
       "      <th>statistic_category_name</th>\n",
       "      <th>statistic_name</th>\n",
       "      <th>stat</th>\n",
       "    </tr>\n",
       "  </thead>\n",
       "  <tbody>\n",
       "    <tr>\n",
       "      <th>0</th>\n",
       "      <td>11998445</td>\n",
       "      <td>Auger-Aliassime F.</td>\n",
       "      <td>M</td>\n",
       "      <td>ALL</td>\n",
       "      <td>service</td>\n",
       "      <td>double_faults</td>\n",
       "      <td>7</td>\n",
       "    </tr>\n",
       "    <tr>\n",
       "      <th>1</th>\n",
       "      <td>11998446</td>\n",
       "      <td>Cobolli F.</td>\n",
       "      <td>M</td>\n",
       "      <td>ALL</td>\n",
       "      <td>service</td>\n",
       "      <td>double_faults</td>\n",
       "      <td>1</td>\n",
       "    </tr>\n",
       "    <tr>\n",
       "      <th>2</th>\n",
       "      <td>11998447</td>\n",
       "      <td>Martínez P.</td>\n",
       "      <td>M</td>\n",
       "      <td>ALL</td>\n",
       "      <td>service</td>\n",
       "      <td>double_faults</td>\n",
       "      <td>5</td>\n",
       "    </tr>\n",
       "    <tr>\n",
       "      <th>3</th>\n",
       "      <td>11998448</td>\n",
       "      <td>Muller A.</td>\n",
       "      <td>M</td>\n",
       "      <td>ALL</td>\n",
       "      <td>service</td>\n",
       "      <td>double_faults</td>\n",
       "      <td>2</td>\n",
       "    </tr>\n",
       "    <tr>\n",
       "      <th>4</th>\n",
       "      <td>11998449</td>\n",
       "      <td>Mayot H.</td>\n",
       "      <td>M</td>\n",
       "      <td>ALL</td>\n",
       "      <td>service</td>\n",
       "      <td>double_faults</td>\n",
       "      <td>3</td>\n",
       "    </tr>\n",
       "    <tr>\n",
       "      <th>...</th>\n",
       "      <td>...</td>\n",
       "      <td>...</td>\n",
       "      <td>...</td>\n",
       "      <td>...</td>\n",
       "      <td>...</td>\n",
       "      <td>...</td>\n",
       "      <td>...</td>\n",
       "    </tr>\n",
       "    <tr>\n",
       "      <th>10092</th>\n",
       "      <td>12213458</td>\n",
       "      <td>Gorokhov M.</td>\n",
       "      <td>M</td>\n",
       "      <td>ALL</td>\n",
       "      <td>service</td>\n",
       "      <td>double_faults</td>\n",
       "      <td>2</td>\n",
       "    </tr>\n",
       "    <tr>\n",
       "      <th>10093</th>\n",
       "      <td>12213459</td>\n",
       "      <td>Zhu M.</td>\n",
       "      <td>M</td>\n",
       "      <td>ALL</td>\n",
       "      <td>service</td>\n",
       "      <td>double_faults</td>\n",
       "      <td>5</td>\n",
       "    </tr>\n",
       "    <tr>\n",
       "      <th>10094</th>\n",
       "      <td>12213460</td>\n",
       "      <td>Ojakaar O.</td>\n",
       "      <td>M</td>\n",
       "      <td>ALL</td>\n",
       "      <td>service</td>\n",
       "      <td>double_faults</td>\n",
       "      <td>4</td>\n",
       "    </tr>\n",
       "    <tr>\n",
       "      <th>10095</th>\n",
       "      <td>12213482</td>\n",
       "      <td>Baldovinetti G.</td>\n",
       "      <td>M</td>\n",
       "      <td>ALL</td>\n",
       "      <td>service</td>\n",
       "      <td>double_faults</td>\n",
       "      <td>0</td>\n",
       "    </tr>\n",
       "    <tr>\n",
       "      <th>10096</th>\n",
       "      <td>12213484</td>\n",
       "      <td>Hornitschek N.</td>\n",
       "      <td>M</td>\n",
       "      <td>ALL</td>\n",
       "      <td>service</td>\n",
       "      <td>double_faults</td>\n",
       "      <td>2</td>\n",
       "    </tr>\n",
       "  </tbody>\n",
       "</table>\n",
       "<p>19877 rows × 7 columns</p>\n",
       "</div>"
      ],
      "text/plain": [
       "       match_id                name gender period statistic_category_name  \\\n",
       "0      11998445  Auger-Aliassime F.      M    ALL                 service   \n",
       "1      11998446          Cobolli F.      M    ALL                 service   \n",
       "2      11998447         Martínez P.      M    ALL                 service   \n",
       "3      11998448           Muller A.      M    ALL                 service   \n",
       "4      11998449            Mayot H.      M    ALL                 service   \n",
       "...         ...                 ...    ...    ...                     ...   \n",
       "10092  12213458         Gorokhov M.      M    ALL                 service   \n",
       "10093  12213459              Zhu M.      M    ALL                 service   \n",
       "10094  12213460          Ojakaar O.      M    ALL                 service   \n",
       "10095  12213482     Baldovinetti G.      M    ALL                 service   \n",
       "10096  12213484      Hornitschek N.      M    ALL                 service   \n",
       "\n",
       "      statistic_name  stat  \n",
       "0      double_faults     7  \n",
       "1      double_faults     1  \n",
       "2      double_faults     5  \n",
       "3      double_faults     2  \n",
       "4      double_faults     3  \n",
       "...              ...   ...  \n",
       "10092  double_faults     2  \n",
       "10093  double_faults     5  \n",
       "10094  double_faults     4  \n",
       "10095  double_faults     0  \n",
       "10096  double_faults     2  \n",
       "\n",
       "[19877 rows x 7 columns]"
      ]
     },
     "execution_count": 10,
     "metadata": {},
     "output_type": "execute_result"
    }
   ],
   "source": [
    "data"
   ]
  },
  {
   "cell_type": "code",
   "execution_count": 102,
   "id": "7ca6ece3",
   "metadata": {},
   "outputs": [],
   "source": [
    "data.to_csv(\"../data/external/8/double_faults_state.csv\",index=False)\n"
   ]
  },
  {
   "cell_type": "code",
   "execution_count": 24,
   "id": "2e1d2ae4",
   "metadata": {},
   "outputs": [
    {
     "data": {
      "text/plain": [
       "gender\n",
       "F    29816\n",
       "M    29156\n",
       "Name: stat, dtype: int64"
      ]
     },
     "execution_count": 24,
     "metadata": {},
     "output_type": "execute_result"
    }
   ],
   "source": [
    "results = data.groupby(\"gender\")[\"stat\"].sum()\n",
    "results = pd.Series(results)\n",
    "results\n"
   ]
  },
  {
   "cell_type": "code",
   "execution_count": 25,
   "id": "11e750dd",
   "metadata": {},
   "outputs": [
    {
     "data": {
      "text/plain": [
       "660"
      ]
     },
     "execution_count": 25,
     "metadata": {},
     "output_type": "execute_result"
    }
   ],
   "source": [
    "difference_in_the_number_of_double_faults_based_on_gender = int(results[\"F\"] - results[\"M\"])\n",
    "difference_in_the_number = difference_in_the_number_of_double_faults_based_on_gender\n",
    "difference_in_the_number"
   ]
  },
  {
   "cell_type": "code",
   "execution_count": 26,
   "id": "4bb58181",
   "metadata": {},
   "outputs": [
    {
     "data": {
      "text/plain": [
       "2.238350403581361"
      ]
     },
     "execution_count": 26,
     "metadata": {},
     "output_type": "execute_result"
    }
   ],
   "source": [
    "results_mean = (results[\"F\"] + results[\"M\"]) / 2\n",
    "difference_in_the_percentage = (difference_in_the_number/ results_mean) * 100\n",
    "\n",
    "difference_in_the_percentage = float(difference_in_the_percentage)\n",
    "difference_in_the_percentage"
   ]
  }
 ],
 "metadata": {
  "kernelspec": {
   "display_name": "airbnb_venv",
   "language": "python",
   "name": "airbnb_venv"
  },
  "language_info": {
   "codemirror_mode": {
    "name": "ipython",
    "version": 3
   },
   "file_extension": ".py",
   "mimetype": "text/x-python",
   "name": "python",
   "nbconvert_exporter": "python",
   "pygments_lexer": "ipython3",
   "version": "3.12.3"
  }
 },
 "nbformat": 4,
 "nbformat_minor": 5
}
