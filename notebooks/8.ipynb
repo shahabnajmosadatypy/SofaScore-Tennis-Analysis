{
 "cells": [
  {
   "cell_type": "code",
   "execution_count": 1,
   "id": "48e16f02",
   "metadata": {},
   "outputs": [],
   "source": [
    "import numpy as np, pandas as pd\n",
    "from glob import glob\n",
    "from fetch_data import fetch_data"
   ]
  },
  {
   "cell_type": "code",
   "execution_count": 94,
   "id": "50c51e3a",
   "metadata": {},
   "outputs": [
    {
     "name": "stderr",
     "output_type": "stream",
     "text": [
      "/home/nima/data_science/tennis_project/SofaScore-Tennis-Analysis/notebooks/fetch_data.py:34: FutureWarning: The behavior of DataFrame concatenation with empty or all-NA entries is deprecated. In a future version, this will no longer exclude empty or all-NA columns when determining the result dtypes. To retain the old behavior, exclude the relevant entries before the concat operation.\n",
      "  data = pd.concat(dataframes,ignore_index=True)\n",
      "/home/nima/data_science/tennis_project/SofaScore-Tennis-Analysis/notebooks/fetch_data.py:34: FutureWarning: The behavior of DataFrame concatenation with empty or all-NA entries is deprecated. In a future version, this will no longer exclude empty or all-NA columns when determining the result dtypes. To retain the old behavior, exclude the relevant entries before the concat operation.\n",
      "  data = pd.concat(dataframes,ignore_index=True)\n"
     ]
    }
   ],
   "source": [
    "data_statistics = fetch_data(20240201,20240331,'statistics')\n",
    "\n",
    "data_away_team = fetch_data(20240201,20240331,'away_team')\n",
    "\n",
    "data_home_team = fetch_data(20240201,20240331,'home_team')"
   ]
  },
  {
   "cell_type": "code",
   "execution_count": 96,
   "id": "8ca308f2",
   "metadata": {},
   "outputs": [],
   "source": [
    "unique_columns = [\"match_id\",\"name\",\"slug\"]\n",
    "data_away_team = data_away_team.drop_duplicates(subset=unique_columns)\n",
    "\n",
    "data_home_team = data_home_team.drop_duplicates(subset=unique_columns)\n"
   ]
  },
  {
   "cell_type": "code",
   "execution_count": 97,
   "id": "5fe3dfeb",
   "metadata": {},
   "outputs": [],
   "source": [
    "double_faults = (data_statistics[\"statistic_name\"] == \"double_faults\") & (data_statistics[\"period\"] == \"ALL\")\n",
    "data_statistics = data_statistics[double_faults]\n",
    "\n",
    "unique_columns_stat = [\"match_id\",\"statistic_name\"]\n",
    "data_statistics = data_statistics.drop_duplicates(subset=unique_columns_stat)\n"
   ]
  },
  {
   "cell_type": "code",
   "execution_count": 98,
   "id": "29d76788",
   "metadata": {},
   "outputs": [],
   "source": [
    "away_statistics_data = pd.merge(data_away_team,data_statistics)\n",
    "\n",
    "home_statistics_data = pd.merge(data_home_team,data_statistics)"
   ]
  },
  {
   "cell_type": "code",
   "execution_count": 99,
   "id": "cf9fbf77",
   "metadata": {},
   "outputs": [],
   "source": [
    "mask_columns_away = [\"match_id\",\"name\",\"gender\",\"period\",\"statistic_category_name\",\"statistic_name\",\"away_value\"]\n",
    "mask_columns_home = [\"match_id\",\"name\",\"gender\",\"period\",\"statistic_category_name\",\"statistic_name\",\"home_value\"]\n",
    "\n",
    "\n",
    "away_statistics_data = away_statistics_data[mask_columns_away]\n",
    "away_statistics_data = away_statistics_data.rename(columns={\"away_value\":\"stat\"})\n",
    "\n",
    "home_statistics_data  = home_statistics_data[mask_columns_home]\n",
    "home_statistics_data  = home_statistics_data .rename(columns={\"home_value\":\"stat\"})"
   ]
  },
  {
   "cell_type": "code",
   "execution_count": 100,
   "id": "e24d0d5e",
   "metadata": {},
   "outputs": [],
   "source": [
    "data = pd.concat([away_statistics_data,home_statistics_data])"
   ]
  },
  {
   "cell_type": "code",
   "execution_count": 102,
   "id": "7ca6ece3",
   "metadata": {},
   "outputs": [],
   "source": [
    "data.to_csv(\"../data/external/8/double_faults_state.csv\",index=False)\n"
   ]
  },
  {
   "cell_type": "code",
   "execution_count": 103,
   "id": "2e1d2ae4",
   "metadata": {},
   "outputs": [
    {
     "data": {
      "text/plain": [
       "gender\n",
       "F    29816\n",
       "M    29156\n",
       "Name: stat, dtype: int64"
      ]
     },
     "execution_count": 103,
     "metadata": {},
     "output_type": "execute_result"
    }
   ],
   "source": [
    "results = data.groupby(\"gender\")[\"stat\"].sum()\n",
    "results"
   ]
  },
  {
   "cell_type": "code",
   "execution_count": 104,
   "id": "11e750dd",
   "metadata": {},
   "outputs": [
    {
     "data": {
      "text/plain": [
       "660"
      ]
     },
     "execution_count": 104,
     "metadata": {},
     "output_type": "execute_result"
    }
   ],
   "source": [
    "difference_in_the_number_of_double_faults_based_on_gender = int(results[\"F\"] - results[\"M\"])\n",
    "difference_in_the_number = difference_in_the_number_of_double_faults_based_on_gender\n",
    "difference_in_the_number"
   ]
  },
  {
   "cell_type": "code",
   "execution_count": 105,
   "id": "4bb58181",
   "metadata": {},
   "outputs": [
    {
     "data": {
      "text/plain": [
       "2.238350403581361"
      ]
     },
     "execution_count": 105,
     "metadata": {},
     "output_type": "execute_result"
    }
   ],
   "source": [
    "results_mean = (results[\"F\"] + results[\"M\"]) / 2\n",
    "difference_in_the_percentage = (difference_in_the_number/ results_mean) * 100\n",
    "\n",
    "difference_in_the_percentage = float(difference_in_the_percentage)\n",
    "difference_in_the_percentage"
   ]
  }
 ],
 "metadata": {
  "kernelspec": {
   "display_name": "Python(Tennis_venv)",
   "language": "python",
   "name": "venv"
  },
  "language_info": {
   "codemirror_mode": {
    "name": "ipython",
    "version": 3
   },
   "file_extension": ".py",
   "mimetype": "text/x-python",
   "name": "python",
   "nbconvert_exporter": "python",
   "pygments_lexer": "ipython3",
   "version": "3.12.3"
  }
 },
 "nbformat": 4,
 "nbformat_minor": 5
}
