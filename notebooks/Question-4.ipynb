{
 "cells": [
  {
   "cell_type": "markdown",
   "id": "00e65308",
   "metadata": {},
   "source": [
    "#### The longest match in tournament"
   ]
  },
  {
   "cell_type": "code",
   "execution_count": 37,
   "id": "42892f7d",
   "metadata": {},
   "outputs": [],
   "source": [
    "import pandas as pd\n",
    "import numpy as np\n",
    "from glob import glob\n",
    "import os"
   ]
  },
  {
   "cell_type": "code",
   "execution_count": 38,
   "id": "45bf92e9",
   "metadata": {},
   "outputs": [],
   "source": [
    "day_to_query = os.listdir(\"../data/raw/tennis_data\")\n",
    "load_match_files_home = []\n",
    "\n",
    "for day in day_to_query:\n",
    "    load_match_files_home.extend(\n",
    "        glob(f\"../data/raw/tennis_data/{day}/data/raw/raw_match_parquet/home_team_score_*.parquet\", recursive=True)\n",
    "    )\n",
    "home_match_dataframe = pd.concat([pd.read_parquet(file) for file in load_match_files_home], ignore_index=True)"
   ]
  },
  {
   "cell_type": "code",
   "execution_count": 39,
   "id": "4c4a68c4",
   "metadata": {},
   "outputs": [],
   "source": [
    "day_to_query = os.listdir(\"../data/raw/tennis_data\")\n",
    "load_match_files_away = []\n",
    "\n",
    "for day in day_to_query:\n",
    "    load_match_files_away.extend(\n",
    "        glob(f\"../data/raw/tennis_data/{day}/data/raw/raw_match_parquet/away_team_score_*.parquet\", recursive=True)\n",
    "    )\n",
    "away_match_dataframe = pd.concat([pd.read_parquet(file) for file in load_match_files_away], ignore_index=True)"
   ]
  },
  {
   "cell_type": "code",
   "execution_count": 40,
   "id": "9243a5c6",
   "metadata": {},
   "outputs": [
    {
     "name": "stderr",
     "output_type": "stream",
     "text": [
      "C:\\Users\\moham\\AppData\\Local\\Temp\\ipykernel_15592\\442517770.py:2: FutureWarning: Downcasting object dtype arrays on .fillna, .ffill, .bfill is deprecated and will change in a future version. Call result.infer_objects(copy=False) instead. To opt-in to the future behavior, set `pd.set_option('future.no_silent_downcasting', True)`\n",
      "  unique_match = total_match_dataframe[[\"match_id\",\"period_1\",\"period_2\",\"period_3\",\"period_4\",\"period_5\"]].fillna(0).drop_duplicates(subset=\"match_id\")\n"
     ]
    },
    {
     "data": {
      "text/html": [
       "<div>\n",
       "<style scoped>\n",
       "    .dataframe tbody tr th:only-of-type {\n",
       "        vertical-align: middle;\n",
       "    }\n",
       "\n",
       "    .dataframe tbody tr th {\n",
       "        vertical-align: top;\n",
       "    }\n",
       "\n",
       "    .dataframe thead th {\n",
       "        text-align: right;\n",
       "    }\n",
       "</style>\n",
       "<table border=\"1\" class=\"dataframe\">\n",
       "  <thead>\n",
       "    <tr style=\"text-align: right;\">\n",
       "      <th></th>\n",
       "      <th>match_id</th>\n",
       "      <th>period_1</th>\n",
       "      <th>period_2</th>\n",
       "      <th>period_3</th>\n",
       "      <th>period_4</th>\n",
       "      <th>period_5</th>\n",
       "    </tr>\n",
       "  </thead>\n",
       "  <tbody>\n",
       "    <tr>\n",
       "      <th>0</th>\n",
       "      <td>11974053</td>\n",
       "      <td>0</td>\n",
       "      <td>0</td>\n",
       "      <td>0</td>\n",
       "      <td>0</td>\n",
       "      <td>0</td>\n",
       "    </tr>\n",
       "    <tr>\n",
       "      <th>1</th>\n",
       "      <td>11974066</td>\n",
       "      <td>0</td>\n",
       "      <td>0</td>\n",
       "      <td>0</td>\n",
       "      <td>0</td>\n",
       "      <td>0</td>\n",
       "    </tr>\n",
       "    <tr>\n",
       "      <th>2</th>\n",
       "      <td>11998445</td>\n",
       "      <td>5</td>\n",
       "      <td>6</td>\n",
       "      <td>6</td>\n",
       "      <td>0</td>\n",
       "      <td>0</td>\n",
       "    </tr>\n",
       "    <tr>\n",
       "      <th>3</th>\n",
       "      <td>11998446</td>\n",
       "      <td>4</td>\n",
       "      <td>1</td>\n",
       "      <td>0</td>\n",
       "      <td>0</td>\n",
       "      <td>0</td>\n",
       "    </tr>\n",
       "    <tr>\n",
       "      <th>4</th>\n",
       "      <td>11998447</td>\n",
       "      <td>6</td>\n",
       "      <td>6</td>\n",
       "      <td>0</td>\n",
       "      <td>0</td>\n",
       "      <td>0</td>\n",
       "    </tr>\n",
       "    <tr>\n",
       "      <th>...</th>\n",
       "      <td>...</td>\n",
       "      <td>...</td>\n",
       "      <td>...</td>\n",
       "      <td>...</td>\n",
       "      <td>...</td>\n",
       "      <td>...</td>\n",
       "    </tr>\n",
       "    <tr>\n",
       "      <th>35159</th>\n",
       "      <td>12213482</td>\n",
       "      <td>6</td>\n",
       "      <td>6</td>\n",
       "      <td>0</td>\n",
       "      <td>0</td>\n",
       "      <td>0</td>\n",
       "    </tr>\n",
       "    <tr>\n",
       "      <th>35160</th>\n",
       "      <td>12213483</td>\n",
       "      <td>6</td>\n",
       "      <td>6</td>\n",
       "      <td>0</td>\n",
       "      <td>0</td>\n",
       "      <td>0</td>\n",
       "    </tr>\n",
       "    <tr>\n",
       "      <th>35161</th>\n",
       "      <td>12213484</td>\n",
       "      <td>6</td>\n",
       "      <td>6</td>\n",
       "      <td>0</td>\n",
       "      <td>0</td>\n",
       "      <td>0</td>\n",
       "    </tr>\n",
       "    <tr>\n",
       "      <th>35162</th>\n",
       "      <td>12213486</td>\n",
       "      <td>6</td>\n",
       "      <td>6</td>\n",
       "      <td>0</td>\n",
       "      <td>0</td>\n",
       "      <td>0</td>\n",
       "    </tr>\n",
       "    <tr>\n",
       "      <th>35163</th>\n",
       "      <td>12213803</td>\n",
       "      <td>6</td>\n",
       "      <td>6</td>\n",
       "      <td>0</td>\n",
       "      <td>0</td>\n",
       "      <td>0</td>\n",
       "    </tr>\n",
       "  </tbody>\n",
       "</table>\n",
       "<p>16873 rows × 6 columns</p>\n",
       "</div>"
      ],
      "text/plain": [
       "       match_id  period_1  period_2  period_3  period_4  period_5\n",
       "0      11974053         0         0         0         0         0\n",
       "1      11974066         0         0         0         0         0\n",
       "2      11998445         5         6         6         0         0\n",
       "3      11998446         4         1         0         0         0\n",
       "4      11998447         6         6         0         0         0\n",
       "...         ...       ...       ...       ...       ...       ...\n",
       "35159  12213482         6         6         0         0         0\n",
       "35160  12213483         6         6         0         0         0\n",
       "35161  12213484         6         6         0         0         0\n",
       "35162  12213486         6         6         0         0         0\n",
       "35163  12213803         6         6         0         0         0\n",
       "\n",
       "[16873 rows x 6 columns]"
      ]
     },
     "metadata": {},
     "output_type": "display_data"
    }
   ],
   "source": [
    "total_match_dataframe = pd.concat([home_match_dataframe,away_match_dataframe])\n",
    "unique_match = total_match_dataframe[[\"match_id\",\"period_1\",\"period_2\",\"period_3\",\"period_4\",\"period_5\"]].fillna(0).drop_duplicates(subset=\"match_id\")\n",
    "display(unique_match)"
   ]
  },
  {
   "cell_type": "code",
   "execution_count": 41,
   "id": "dbfcb10b",
   "metadata": {},
   "outputs": [
    {
     "name": "stdout",
     "output_type": "stream",
     "text": [
      "Longest Match Details:\n",
      "match_id          12041957\n",
      "total_duration          31\n",
      "Name: 1845, dtype: int64\n"
     ]
    }
   ],
   "source": [
    "unique_match['total_duration'] = (\n",
    "    unique_match[['period_1', 'period_2', 'period_3', 'period_4', 'period_5']]\n",
    "    .sum(axis=1)\n",
    ")\n",
    "\n",
    "longest_match = unique_match.loc[unique_match['total_duration'].idxmax()]\n",
    "\n",
    "# Print the result\n",
    "print(\"Longest Match Details:\")\n",
    "print(longest_match[['match_id', 'total_duration']])"
   ]
  }
 ],
 "metadata": {
  "kernelspec": {
   "display_name": "Python 3",
   "language": "python",
   "name": "python3"
  },
  "language_info": {
   "codemirror_mode": {
    "name": "ipython",
    "version": 3
   },
   "file_extension": ".py",
   "mimetype": "text/x-python",
   "name": "python",
   "nbconvert_exporter": "python",
   "pygments_lexer": "ipython3",
   "version": "3.13.3"
  }
 },
 "nbformat": 4,
 "nbformat_minor": 5
}
