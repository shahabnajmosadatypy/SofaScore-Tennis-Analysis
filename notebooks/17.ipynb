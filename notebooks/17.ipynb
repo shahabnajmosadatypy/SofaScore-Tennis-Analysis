{
 "cells": [
  {
   "cell_type": "code",
   "execution_count": 7,
   "id": "42668532",
   "metadata": {},
   "outputs": [],
   "source": [
    "import numpy as np, pandas as pd , matplotlib.pyplot as plt , seaborn  as sns \n",
    "from glob import glob\n",
    "from fetch_data import fetch_data"
   ]
  },
  {
   "cell_type": "markdown",
   "id": "1b5d1552",
   "metadata": {},
   "source": [
    "<h1>Calculating by Power Table</h1>"
   ]
  },
  {
   "cell_type": "code",
   "execution_count": 2,
   "id": "b32f508b",
   "metadata": {},
   "outputs": [],
   "source": [
    "data_power = fetch_data(20240201,20240331,'power')"
   ]
  },
  {
   "cell_type": "code",
   "execution_count": 9,
   "id": "ebd29ed0",
   "metadata": {},
   "outputs": [],
   "source": [
    "unique_columns = [\"match_id\",\"set_num\",\"game_num\"]\n",
    "data_power = data_power.drop_duplicates(subset=unique_columns)"
   ]
  },
  {
   "cell_type": "code",
   "execution_count": 10,
   "id": "ba02013d",
   "metadata": {},
   "outputs": [
    {
     "data": {
      "text/plain": [
       "0"
      ]
     },
     "execution_count": 10,
     "metadata": {},
     "output_type": "execute_result"
    }
   ],
   "source": [
    "sum(data_power[\"break_occurred\"].isna())"
   ]
  },
  {
   "cell_type": "code",
   "execution_count": 11,
   "id": "c624ccd0",
   "metadata": {},
   "outputs": [
    {
     "data": {
      "text/html": [
       "<div>\n",
       "<style scoped>\n",
       "    .dataframe tbody tr th:only-of-type {\n",
       "        vertical-align: middle;\n",
       "    }\n",
       "\n",
       "    .dataframe tbody tr th {\n",
       "        vertical-align: top;\n",
       "    }\n",
       "\n",
       "    .dataframe thead th {\n",
       "        text-align: right;\n",
       "    }\n",
       "</style>\n",
       "<table border=\"1\" class=\"dataframe\">\n",
       "  <thead>\n",
       "    <tr style=\"text-align: right;\">\n",
       "      <th></th>\n",
       "      <th>match_id</th>\n",
       "      <th>set_num</th>\n",
       "      <th>game_num</th>\n",
       "      <th>value</th>\n",
       "      <th>break_occurred</th>\n",
       "    </tr>\n",
       "  </thead>\n",
       "  <tbody>\n",
       "    <tr>\n",
       "      <th>4</th>\n",
       "      <td>11998445</td>\n",
       "      <td>1</td>\n",
       "      <td>5</td>\n",
       "      <td>26.60</td>\n",
       "      <td>True</td>\n",
       "    </tr>\n",
       "    <tr>\n",
       "      <th>7</th>\n",
       "      <td>11998445</td>\n",
       "      <td>1</td>\n",
       "      <td>8</td>\n",
       "      <td>-59.30</td>\n",
       "      <td>True</td>\n",
       "    </tr>\n",
       "    <tr>\n",
       "      <th>11</th>\n",
       "      <td>11998445</td>\n",
       "      <td>1</td>\n",
       "      <td>12</td>\n",
       "      <td>-32.98</td>\n",
       "      <td>True</td>\n",
       "    </tr>\n",
       "    <tr>\n",
       "      <th>14</th>\n",
       "      <td>11998445</td>\n",
       "      <td>2</td>\n",
       "      <td>3</td>\n",
       "      <td>53.10</td>\n",
       "      <td>True</td>\n",
       "    </tr>\n",
       "    <tr>\n",
       "      <th>18</th>\n",
       "      <td>11998445</td>\n",
       "      <td>2</td>\n",
       "      <td>7</td>\n",
       "      <td>63.18</td>\n",
       "      <td>True</td>\n",
       "    </tr>\n",
       "    <tr>\n",
       "      <th>...</th>\n",
       "      <td>...</td>\n",
       "      <td>...</td>\n",
       "      <td>...</td>\n",
       "      <td>...</td>\n",
       "      <td>...</td>\n",
       "    </tr>\n",
       "    <tr>\n",
       "      <th>469665</th>\n",
       "      <td>12213803</td>\n",
       "      <td>1</td>\n",
       "      <td>5</td>\n",
       "      <td>-10.00</td>\n",
       "      <td>True</td>\n",
       "    </tr>\n",
       "    <tr>\n",
       "      <th>469666</th>\n",
       "      <td>12213803</td>\n",
       "      <td>1</td>\n",
       "      <td>6</td>\n",
       "      <td>69.00</td>\n",
       "      <td>True</td>\n",
       "    </tr>\n",
       "    <tr>\n",
       "      <th>469670</th>\n",
       "      <td>12213803</td>\n",
       "      <td>2</td>\n",
       "      <td>1</td>\n",
       "      <td>75.00</td>\n",
       "      <td>True</td>\n",
       "    </tr>\n",
       "    <tr>\n",
       "      <th>469674</th>\n",
       "      <td>12213803</td>\n",
       "      <td>2</td>\n",
       "      <td>5</td>\n",
       "      <td>10.00</td>\n",
       "      <td>True</td>\n",
       "    </tr>\n",
       "    <tr>\n",
       "      <th>469676</th>\n",
       "      <td>12213803</td>\n",
       "      <td>2</td>\n",
       "      <td>7</td>\n",
       "      <td>28.60</td>\n",
       "      <td>True</td>\n",
       "    </tr>\n",
       "  </tbody>\n",
       "</table>\n",
       "<p>77713 rows × 5 columns</p>\n",
       "</div>"
      ],
      "text/plain": [
       "        match_id  set_num  game_num  value  break_occurred\n",
       "4       11998445        1         5  26.60            True\n",
       "7       11998445        1         8 -59.30            True\n",
       "11      11998445        1        12 -32.98            True\n",
       "14      11998445        2         3  53.10            True\n",
       "18      11998445        2         7  63.18            True\n",
       "...          ...      ...       ...    ...             ...\n",
       "469665  12213803        1         5 -10.00            True\n",
       "469666  12213803        1         6  69.00            True\n",
       "469670  12213803        2         1  75.00            True\n",
       "469674  12213803        2         5  10.00            True\n",
       "469676  12213803        2         7  28.60            True\n",
       "\n",
       "[77713 rows x 5 columns]"
      ]
     },
     "execution_count": 11,
     "metadata": {},
     "output_type": "execute_result"
    }
   ],
   "source": [
    "Break = (data_power[\"break_occurred\"] == True)\n",
    "\n",
    "data = data_power[Break]\n",
    "\n",
    "data.to_csv(\"../data/external/17/average_breaks_per_match.csv\",index=False)\n",
    "\n",
    "data"
   ]
  },
  {
   "cell_type": "code",
   "execution_count": 12,
   "id": "9ae295af",
   "metadata": {},
   "outputs": [],
   "source": [
    "breaks_list = data.groupby(\"match_id\")[\"break_occurred\"].sum().values"
   ]
  },
  {
   "cell_type": "code",
   "execution_count": 13,
   "id": "e459452b",
   "metadata": {},
   "outputs": [
    {
     "data": {
      "text/plain": [
       "7.004326273095989"
      ]
     },
     "execution_count": 13,
     "metadata": {},
     "output_type": "execute_result"
    }
   ],
   "source": [
    "the_average_number_of_breaks_of_serve_per_match = float(np.mean(breaks_list))\n",
    "the_average_number_of_breaks_of_serve_per_match"
   ]
  },
  {
   "cell_type": "markdown",
   "id": "d121a2c4",
   "metadata": {},
   "source": [
    "<h2>power table IQR Method</h2>"
   ]
  },
  {
   "cell_type": "code",
   "execution_count": 9,
   "id": "c2f17453",
   "metadata": {},
   "outputs": [
    {
     "data": {
      "text/plain": [
       "count    11095.000000\n",
       "mean         7.004326\n",
       "std          3.261482\n",
       "min          1.000000\n",
       "25%          5.000000\n",
       "50%          6.000000\n",
       "75%          9.000000\n",
       "max         29.000000\n",
       "Name: break_occurred, dtype: float64"
      ]
     },
     "execution_count": 9,
     "metadata": {},
     "output_type": "execute_result"
    }
   ],
   "source": [
    "data.groupby(\"match_id\")[\"break_occurred\"].sum().describe()"
   ]
  },
  {
   "cell_type": "code",
   "execution_count": 10,
   "id": "33e3240d",
   "metadata": {},
   "outputs": [
    {
     "data": {
      "text/plain": [
       "(array([5.380e+02, 1.955e+03, 3.093e+03, 2.401e+03, 1.536e+03, 8.430e+02,\n",
       "        4.230e+02, 1.290e+02, 1.120e+02, 4.200e+01, 1.900e+01, 3.000e+00,\n",
       "        0.000e+00, 0.000e+00, 1.000e+00]),\n",
       " array([ 1.        ,  2.86666667,  4.73333333,  6.6       ,  8.46666667,\n",
       "        10.33333333, 12.2       , 14.06666667, 15.93333333, 17.8       ,\n",
       "        19.66666667, 21.53333333, 23.4       , 25.26666667, 27.13333333,\n",
       "        29.        ]),\n",
       " <BarContainer object of 15 artists>)"
      ]
     },
     "execution_count": 10,
     "metadata": {},
     "output_type": "execute_result"
    },
    {
     "data": {
      "image/png": "[encoded data removed]",
      "text/plain": [
       "<Figure size 640x480 with 1 Axes>"
      ]
     },
     "metadata": {},
     "output_type": "display_data"
    }
   ],
   "source": [
    "data = data.groupby(\"match_id\")[\"break_occurred\"].sum()\n",
    "plt.hist(data,bins=15)"
   ]
  },
  {
   "cell_type": "code",
   "execution_count": 11,
   "id": "a7d93782",
   "metadata": {},
   "outputs": [
    {
     "data": {
      "text/plain": [
       "match_id\n",
       "11998445    9\n",
       "11998446    6\n",
       "11998447    4\n",
       "11998448    6\n",
       "11998449    3\n",
       "           ..\n",
       "12213482    9\n",
       "12213483    7\n",
       "12213484    9\n",
       "12213486    5\n",
       "12213803    6\n",
       "Name: break_occurred, Length: 10918, dtype: int64"
      ]
     },
     "execution_count": 11,
     "metadata": {},
     "output_type": "execute_result"
    }
   ],
   "source": [
    "q1 = data.quantile(.25)\n",
    "q3 = data.quantile(.75)\n",
    "iqr = q3 - q1\n",
    "\n",
    "bottom_range = (data >= (q1 - 1.5 * iqr))\n",
    "top_range = (data <=  (q3 + 1.5  * iqr))\n",
    "\n",
    "correct_data = data[bottom_range & top_range]\n",
    "correct_data"
   ]
  },
  {
   "cell_type": "code",
   "execution_count": 12,
   "id": "b116cffe",
   "metadata": {},
   "outputs": [
    {
     "data": {
      "text/plain": [
       "6.835409415643891"
      ]
     },
     "execution_count": 12,
     "metadata": {},
     "output_type": "execute_result"
    }
   ],
   "source": [
    "the_average_number_of_breaks_of_serve_per_match = float(np.mean(correct_data))\n",
    "the_average_number_of_breaks_of_serve_per_match"
   ]
  },
  {
   "cell_type": "markdown",
   "id": "6f3f8d0d",
   "metadata": {},
   "source": [
    "<h1>Calculating by Game Info table</h1>"
   ]
  },
  {
   "cell_type": "code",
   "execution_count": 5,
   "id": "9e417d8e",
   "metadata": {},
   "outputs": [],
   "source": [
    "data_pbp = fetch_data(20240201,20240331,'pbp')\n"
   ]
  },
  {
   "cell_type": "code",
   "execution_count": 14,
   "id": "88d29efa",
   "metadata": {},
   "outputs": [],
   "source": [
    "unique_columns = [\"match_id\",\"set_id\",\"game_id\"]\n",
    "data_pbp = data_pbp.drop_duplicates(subset=unique_columns)"
   ]
  },
  {
   "cell_type": "code",
   "execution_count": 15,
   "id": "415d3df9",
   "metadata": {},
   "outputs": [],
   "source": [
    "Break = (data_pbp[\"serving\"] != data_pbp[\"scoring\"])\n",
    "\n",
    "data = data_pbp[Break]\n"
   ]
  },
  {
   "cell_type": "code",
   "execution_count": 16,
   "id": "af635a90",
   "metadata": {},
   "outputs": [
    {
     "data": {
      "text/html": [
       "<div>\n",
       "<style scoped>\n",
       "    .dataframe tbody tr th:only-of-type {\n",
       "        vertical-align: middle;\n",
       "    }\n",
       "\n",
       "    .dataframe tbody tr th {\n",
       "        vertical-align: top;\n",
       "    }\n",
       "\n",
       "    .dataframe thead th {\n",
       "        text-align: right;\n",
       "    }\n",
       "</style>\n",
       "<table border=\"1\" class=\"dataframe\">\n",
       "  <thead>\n",
       "    <tr style=\"text-align: right;\">\n",
       "      <th></th>\n",
       "      <th>match_id</th>\n",
       "      <th>game_id</th>\n",
       "      <th>break_occurred</th>\n",
       "    </tr>\n",
       "  </thead>\n",
       "  <tbody>\n",
       "    <tr>\n",
       "      <th>0</th>\n",
       "      <td>11998445</td>\n",
       "      <td>13</td>\n",
       "      <td>True</td>\n",
       "    </tr>\n",
       "    <tr>\n",
       "      <th>25</th>\n",
       "      <td>11998445</td>\n",
       "      <td>10</td>\n",
       "      <td>True</td>\n",
       "    </tr>\n",
       "    <tr>\n",
       "      <th>39</th>\n",
       "      <td>11998445</td>\n",
       "      <td>7</td>\n",
       "      <td>True</td>\n",
       "    </tr>\n",
       "    <tr>\n",
       "      <th>51</th>\n",
       "      <td>11998445</td>\n",
       "      <td>4</td>\n",
       "      <td>True</td>\n",
       "    </tr>\n",
       "    <tr>\n",
       "      <th>63</th>\n",
       "      <td>11998445</td>\n",
       "      <td>1</td>\n",
       "      <td>True</td>\n",
       "    </tr>\n",
       "    <tr>\n",
       "      <th>...</th>\n",
       "      <td>...</td>\n",
       "      <td>...</td>\n",
       "      <td>...</td>\n",
       "    </tr>\n",
       "    <tr>\n",
       "      <th>2549267</th>\n",
       "      <td>12213803</td>\n",
       "      <td>5</td>\n",
       "      <td>True</td>\n",
       "    </tr>\n",
       "    <tr>\n",
       "      <th>2549301</th>\n",
       "      <td>12213803</td>\n",
       "      <td>1</td>\n",
       "      <td>True</td>\n",
       "    </tr>\n",
       "    <tr>\n",
       "      <th>2549329</th>\n",
       "      <td>12213803</td>\n",
       "      <td>6</td>\n",
       "      <td>True</td>\n",
       "    </tr>\n",
       "    <tr>\n",
       "      <th>2549333</th>\n",
       "      <td>12213803</td>\n",
       "      <td>5</td>\n",
       "      <td>True</td>\n",
       "    </tr>\n",
       "    <tr>\n",
       "      <th>2549342</th>\n",
       "      <td>12213803</td>\n",
       "      <td>4</td>\n",
       "      <td>True</td>\n",
       "    </tr>\n",
       "  </tbody>\n",
       "</table>\n",
       "<p>74758 rows × 3 columns</p>\n",
       "</div>"
      ],
      "text/plain": [
       "         match_id  game_id  break_occurred\n",
       "0        11998445       13            True\n",
       "25       11998445       10            True\n",
       "39       11998445        7            True\n",
       "51       11998445        4            True\n",
       "63       11998445        1            True\n",
       "...           ...      ...             ...\n",
       "2549267  12213803        5            True\n",
       "2549301  12213803        1            True\n",
       "2549329  12213803        6            True\n",
       "2549333  12213803        5            True\n",
       "2549342  12213803        4            True\n",
       "\n",
       "[74758 rows x 3 columns]"
      ]
     },
     "execution_count": 16,
     "metadata": {},
     "output_type": "execute_result"
    }
   ],
   "source": [
    "usefull_columns = [\"match_id\" , 'game_id']\n",
    "data = data[usefull_columns]\n",
    "data[\"break_occurred\"] = True\n",
    "data"
   ]
  },
  {
   "cell_type": "code",
   "execution_count": 17,
   "id": "1ffce4f4",
   "metadata": {},
   "outputs": [],
   "source": [
    "breaks_list_2 = data.groupby(\"match_id\")[\"break_occurred\"].sum().values"
   ]
  },
  {
   "cell_type": "code",
   "execution_count": 18,
   "id": "338ab44e",
   "metadata": {},
   "outputs": [
    {
     "data": {
      "text/plain": [
       "6.830957602339181"
      ]
     },
     "execution_count": 18,
     "metadata": {},
     "output_type": "execute_result"
    }
   ],
   "source": [
    "the_average_number_of_breaks_of_serve_per_match = float(np.mean(breaks_list_2))\n",
    "the_average_number_of_breaks_of_serve_per_match"
   ]
  },
  {
   "cell_type": "markdown",
   "id": "df522680",
   "metadata": {},
   "source": [
    "<h2>game info IQR Method</h2>"
   ]
  },
  {
   "cell_type": "code",
   "execution_count": 19,
   "id": "4bf5023d",
   "metadata": {},
   "outputs": [
    {
     "data": {
      "text/plain": [
       "count    10944.000000\n",
       "mean         6.830958\n",
       "std          3.108787\n",
       "min          1.000000\n",
       "25%          5.000000\n",
       "50%          6.000000\n",
       "75%          9.000000\n",
       "max         29.000000\n",
       "Name: break_occurred, dtype: float64"
      ]
     },
     "execution_count": 19,
     "metadata": {},
     "output_type": "execute_result"
    }
   ],
   "source": [
    "data.groupby(\"match_id\")[\"break_occurred\"].sum().describe()"
   ]
  },
  {
   "cell_type": "code",
   "execution_count": 20,
   "id": "099a38c0",
   "metadata": {},
   "outputs": [
    {
     "data": {
      "text/plain": [
       "(array([4.950e+02, 2.034e+03, 3.230e+03, 2.392e+03, 1.449e+03, 7.510e+02,\n",
       "        3.530e+02, 9.700e+01, 1.020e+02, 2.600e+01, 1.200e+01, 2.000e+00,\n",
       "        0.000e+00, 0.000e+00, 1.000e+00]),\n",
       " array([ 1.        ,  2.86666667,  4.73333333,  6.6       ,  8.46666667,\n",
       "        10.33333333, 12.2       , 14.06666667, 15.93333333, 17.8       ,\n",
       "        19.66666667, 21.53333333, 23.4       , 25.26666667, 27.13333333,\n",
       "        29.        ]),\n",
       " <BarContainer object of 15 artists>)"
      ]
     },
     "execution_count": 20,
     "metadata": {},
     "output_type": "execute_result"
    },
    {
     "data": {
      "image/png": "[encoded data removed]",
      "text/plain": [
       "<Figure size 640x480 with 1 Axes>"
      ]
     },
     "metadata": {},
     "output_type": "display_data"
    }
   ],
   "source": [
    "data = data.groupby(\"match_id\")[\"break_occurred\"].sum()\n",
    "plt.hist(data, bins=15)"
   ]
  },
  {
   "cell_type": "code",
   "execution_count": 21,
   "id": "b3e0eea8",
   "metadata": {},
   "outputs": [
    {
     "data": {
      "text/plain": [
       "match_id\n",
       "11998445    10\n",
       "11998446     6\n",
       "11998447     4\n",
       "11998448     6\n",
       "11998449     3\n",
       "            ..\n",
       "12213482     9\n",
       "12213483     7\n",
       "12213484     9\n",
       "12213486     5\n",
       "12213803     6\n",
       "Name: break_occurred, Length: 10801, dtype: int64"
      ]
     },
     "execution_count": 21,
     "metadata": {},
     "output_type": "execute_result"
    }
   ],
   "source": [
    "q1 = data.quantile(.25)\n",
    "q3 = data.quantile(.75)\n",
    "iqr = q3 - q1\n",
    "\n",
    "bottom_range = (data >= (q1 - 1.5 * iqr))\n",
    "top_range = (data <=  (q3 + 1.5  * iqr))\n",
    "\n",
    "correct_data = data[bottom_range & top_range]\n",
    "correct_data"
   ]
  },
  {
   "cell_type": "code",
   "execution_count": 22,
   "id": "77fba78a",
   "metadata": {},
   "outputs": [
    {
     "data": {
      "text/plain": [
       "6.692898805666142"
      ]
     },
     "execution_count": 22,
     "metadata": {},
     "output_type": "execute_result"
    }
   ],
   "source": [
    "the_average_number_of_breaks_of_serve_per_match = float(np.mean(correct_data))\n",
    "the_average_number_of_breaks_of_serve_per_match"
   ]
  }
 ],
 "metadata": {
  "kernelspec": {
   "display_name": "Python(Tennis_venv)",
   "language": "python",
   "name": "venv"
  },
  "language_info": {
   "codemirror_mode": {
    "name": "ipython",
    "version": 3
   },
   "file_extension": ".py",
   "mimetype": "text/x-python",
   "name": "python",
   "nbconvert_exporter": "python",
   "pygments_lexer": "ipython3",
   "version": "3.12.3"
  }
 },
 "nbformat": 4,
 "nbformat_minor": 5
}
